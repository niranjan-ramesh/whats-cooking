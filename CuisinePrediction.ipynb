{
  "cells": [
    {
      "cell_type": "code",
      "execution_count": 22,
      "metadata": {
        "id": "BPAe7V9dq3tu"
      },
      "outputs": [],
      "source": [
        "from sklearn.feature_extraction.text import TfidfVectorizer\n",
        "from sklearn.pipeline import Pipeline\n",
        "from sklearn.preprocessing import LabelEncoder\n",
        "from sklearn.svm import LinearSVC\n",
        "from sklearn.model_selection import cross_val_score, RepeatedStratifiedKFold\n",
        "from sklearn.model_selection import train_test_split\n",
        "from sklearn.linear_model import LogisticRegression\n",
        "from skopt import gp_minimize\n",
        "from skopt.space import Real\n",
        "from skopt.utils import use_named_args\n",
        "\n",
        "from tqdm.notebook import tqdm\n",
        "tqdm.pandas()\n",
        "\n",
        "from numpy import mean\n",
        "\n",
        "import pandas as pd\n",
        "import nltk\n",
        "import os\n",
        "import ast\n",
        "\n",
        "from nltk import WordNetLemmatizer\n"
      ]
    },
    {
      "cell_type": "code",
      "execution_count": 2,
      "metadata": {
        "colab": {
          "base_uri": "https://localhost:8080/"
        },
        "id": "zWmykgT_Pk5x",
        "outputId": "2f8e134d-e847-4427-ce80-dae4ccd1c8fb"
      },
      "outputs": [],
      "source": [
        "data = pd.read_json(os.getcwd() + '/Data/CuisinePred/train.json')\n",
        "train, test = train_test_split(data, train_size=0.90)"
      ]
    },
    {
      "cell_type": "code",
      "execution_count": 3,
      "metadata": {
        "colab": {
          "base_uri": "https://localhost:8080/",
          "height": 423
        },
        "id": "qkWIl5Unk4Se",
        "outputId": "a44c47cc-d350-4d19-e741-494ab1fd3bc4"
      },
      "outputs": [
        {
          "data": {
            "text/html": [
              "<div>\n",
              "<style scoped>\n",
              "    .dataframe tbody tr th:only-of-type {\n",
              "        vertical-align: middle;\n",
              "    }\n",
              "\n",
              "    .dataframe tbody tr th {\n",
              "        vertical-align: top;\n",
              "    }\n",
              "\n",
              "    .dataframe thead th {\n",
              "        text-align: right;\n",
              "    }\n",
              "</style>\n",
              "<table border=\"1\" class=\"dataframe\">\n",
              "  <thead>\n",
              "    <tr style=\"text-align: right;\">\n",
              "      <th></th>\n",
              "      <th>id</th>\n",
              "      <th>cuisine</th>\n",
              "      <th>ingredients</th>\n",
              "    </tr>\n",
              "  </thead>\n",
              "  <tbody>\n",
              "    <tr>\n",
              "      <th>10598</th>\n",
              "      <td>30868</td>\n",
              "      <td>italian</td>\n",
              "      <td>[black pepper, cooking spray, dry bread crumbs...</td>\n",
              "    </tr>\n",
              "    <tr>\n",
              "      <th>1001</th>\n",
              "      <td>5066</td>\n",
              "      <td>cajun_creole</td>\n",
              "      <td>[sugar, unsalted butter, lemon, all-purpose fl...</td>\n",
              "    </tr>\n",
              "    <tr>\n",
              "      <th>7155</th>\n",
              "      <td>36393</td>\n",
              "      <td>southern_us</td>\n",
              "      <td>[baking powder, yellow corn meal, all-purpose ...</td>\n",
              "    </tr>\n",
              "    <tr>\n",
              "      <th>5506</th>\n",
              "      <td>34891</td>\n",
              "      <td>thai</td>\n",
              "      <td>[curry powder, green onions, mustard greens, d...</td>\n",
              "    </tr>\n",
              "    <tr>\n",
              "      <th>8782</th>\n",
              "      <td>26467</td>\n",
              "      <td>irish</td>\n",
              "      <td>[Guinness Beer, ice cream, Irish whiskey]</td>\n",
              "    </tr>\n",
              "  </tbody>\n",
              "</table>\n",
              "</div>"
            ],
            "text/plain": [
              "          id       cuisine                                        ingredients\n",
              "10598  30868       italian  [black pepper, cooking spray, dry bread crumbs...\n",
              "1001    5066  cajun_creole  [sugar, unsalted butter, lemon, all-purpose fl...\n",
              "7155   36393   southern_us  [baking powder, yellow corn meal, all-purpose ...\n",
              "5506   34891          thai  [curry powder, green onions, mustard greens, d...\n",
              "8782   26467         irish          [Guinness Beer, ice cream, Irish whiskey]"
            ]
          },
          "execution_count": 3,
          "metadata": {},
          "output_type": "execute_result"
        }
      ],
      "source": [
        "train.head()"
      ]
    },
    {
      "cell_type": "code",
      "execution_count": 4,
      "metadata": {},
      "outputs": [
        {
          "data": {
            "text/html": [
              "<div>\n",
              "<style scoped>\n",
              "    .dataframe tbody tr th:only-of-type {\n",
              "        vertical-align: middle;\n",
              "    }\n",
              "\n",
              "    .dataframe tbody tr th {\n",
              "        vertical-align: top;\n",
              "    }\n",
              "\n",
              "    .dataframe thead th {\n",
              "        text-align: right;\n",
              "    }\n",
              "</style>\n",
              "<table border=\"1\" class=\"dataframe\">\n",
              "  <thead>\n",
              "    <tr style=\"text-align: right;\">\n",
              "      <th></th>\n",
              "      <th>id</th>\n",
              "      <th>cuisine</th>\n",
              "      <th>ingredients</th>\n",
              "    </tr>\n",
              "  </thead>\n",
              "  <tbody>\n",
              "    <tr>\n",
              "      <th>20358</th>\n",
              "      <td>10191</td>\n",
              "      <td>italian</td>\n",
              "      <td>[sugar, olive oil, dry red wine, water, shallo...</td>\n",
              "    </tr>\n",
              "    <tr>\n",
              "      <th>23294</th>\n",
              "      <td>39211</td>\n",
              "      <td>cajun_creole</td>\n",
              "      <td>[Johnsonville Andouille, stewed tomatoes, shri...</td>\n",
              "    </tr>\n",
              "    <tr>\n",
              "      <th>34749</th>\n",
              "      <td>4609</td>\n",
              "      <td>indian</td>\n",
              "      <td>[water, paprika, serrano chile, red lentils, l...</td>\n",
              "    </tr>\n",
              "    <tr>\n",
              "      <th>24752</th>\n",
              "      <td>422</td>\n",
              "      <td>japanese</td>\n",
              "      <td>[large egg yolks, rice vinegar, kosher salt, v...</td>\n",
              "    </tr>\n",
              "    <tr>\n",
              "      <th>20221</th>\n",
              "      <td>16211</td>\n",
              "      <td>jamaican</td>\n",
              "      <td>[fresh spinach, chives, garlic, onions, chicke...</td>\n",
              "    </tr>\n",
              "  </tbody>\n",
              "</table>\n",
              "</div>"
            ],
            "text/plain": [
              "          id       cuisine                                        ingredients\n",
              "20358  10191       italian  [sugar, olive oil, dry red wine, water, shallo...\n",
              "23294  39211  cajun_creole  [Johnsonville Andouille, stewed tomatoes, shri...\n",
              "34749   4609        indian  [water, paprika, serrano chile, red lentils, l...\n",
              "24752    422      japanese  [large egg yolks, rice vinegar, kosher salt, v...\n",
              "20221  16211      jamaican  [fresh spinach, chives, garlic, onions, chicke..."
            ]
          },
          "execution_count": 4,
          "metadata": {},
          "output_type": "execute_result"
        }
      ],
      "source": [
        "test.head()"
      ]
    },
    {
      "cell_type": "markdown",
      "metadata": {},
      "source": [
        "***This has to be run only once. Once downloaded it doesn't have to be run again***"
      ]
    },
    {
      "cell_type": "code",
      "execution_count": 5,
      "metadata": {},
      "outputs": [
        {
          "name": "stderr",
          "output_type": "stream",
          "text": [
            "[nltk_data] Downloading package stopwords to /Users/ninja/nltk_data...\n",
            "[nltk_data]   Package stopwords is already up-to-date!\n",
            "[nltk_data] Downloading package wordnet to /Users/ninja/nltk_data...\n",
            "[nltk_data]   Package wordnet is already up-to-date!\n",
            "[nltk_data] Downloading package omw-1.4 to /Users/ninja/nltk_data...\n",
            "[nltk_data]   Package omw-1.4 is already up-to-date!\n"
          ]
        },
        {
          "data": {
            "text/plain": [
              "True"
            ]
          },
          "execution_count": 5,
          "metadata": {},
          "output_type": "execute_result"
        }
      ],
      "source": [
        "nltk.download('stopwords')\n",
        "nltk.download('wordnet')\n",
        "nltk.download('omw-1.4')"
      ]
    },
    {
      "cell_type": "code",
      "execution_count": 5,
      "metadata": {},
      "outputs": [],
      "source": [
        "from nltk import WordNetLemmatizer\n",
        "from nltk.corpus import stopwords"
      ]
    },
    {
      "cell_type": "code",
      "execution_count": 6,
      "metadata": {
        "id": "Lxj6w7ACWhdD"
      },
      "outputs": [
        {
          "data": {
            "application/vnd.jupyter.widget-view+json": {
              "model_id": "5948307422c84898a97c711e38a86a9b",
              "version_major": 2,
              "version_minor": 0
            },
            "text/plain": [
              "  0%|          | 0/35796 [00:00<?, ?it/s]"
            ]
          },
          "metadata": {},
          "output_type": "display_data"
        },
        {
          "data": {
            "application/vnd.jupyter.widget-view+json": {
              "model_id": "214278a52fee4874be72613548f766d5",
              "version_major": 2,
              "version_minor": 0
            },
            "text/plain": [
              "  0%|          | 0/3978 [00:00<?, ?it/s]"
            ]
          },
          "metadata": {},
          "output_type": "display_data"
        }
      ],
      "source": [
        "train['ingredients'] = [', '.join(ingredients).strip() for ingredients in train.ingredients]\n",
        "test['ingredients'] = [', '.join(ingredients).strip() for ingredients in test.ingredients]\n",
        "\n",
        "\n",
        "def text_to_wordlist(text, remove_stopwords=True, lemmatize_words=True):\n",
        "    # Clean the text, with the option to remove stopwords and to stem words.\n",
        "\n",
        "    # Convert words to lower case and split them\n",
        "    text = text.lower().split()\n",
        "\n",
        "    # Optionally, remove stop words\n",
        "    if remove_stopwords:\n",
        "        stops = set(stopwords.words(\"english\"))\n",
        "        text = [w for w in text if not w in stops]\n",
        "\n",
        "    text = ' '.join(text)\n",
        "    # Optionally, shorten words to their stems\n",
        "    if lemmatize_words:\n",
        "        text = text.split()\n",
        "        lemmatizer = WordNetLemmatizer()\n",
        "        lemmatized_words = [lemmatizer.lemmatize(word) for word in text]\n",
        "        text = ' '.join(lemmatized_words)\n",
        "\n",
        "    # Return a list of words\n",
        "    return text\n",
        "\n",
        "    \n",
        "train['ingredients'] = train['ingredients'].progress_apply(text_to_wordlist)\n",
        "test['ingredients'] = test['ingredients'].progress_apply(text_to_wordlist)"
      ]
    },
    {
      "cell_type": "code",
      "execution_count": 7,
      "metadata": {
        "colab": {
          "base_uri": "https://localhost:8080/"
        },
        "id": "Pd3lodIySGiB",
        "outputId": "0c818cf9-b558-4d58-d924-8c35cbb62d49"
      },
      "outputs": [],
      "source": [
        "target_enc = LabelEncoder()\n",
        "\n",
        "\n",
        "tfidf = TfidfVectorizer(\n",
        "        stop_words=set(stopwords.words('english')),\n",
        "        ngram_range = ( 1 , 1 ),\n",
        "        analyzer=\"word\", \n",
        "        max_df = .57 , \n",
        "        binary=False , \n",
        "        token_pattern=r'\\w+' , \n",
        "        sublinear_tf=False\n",
        "    ) \n"
      ]
    },
    {
      "cell_type": "code",
      "execution_count": 8,
      "metadata": {},
      "outputs": [],
      "source": [
        "X_train = train['ingredients']\n",
        "y_train = target_enc.fit_transform(train['cuisine'])\n",
        "X_test = test['ingredients']\n",
        "y_test = target_enc.fit_transform(test['cuisine'])\n"
      ]
    },
    {
      "cell_type": "code",
      "execution_count": 53,
      "metadata": {},
      "outputs": [],
      "source": [
        "search_space=list()\n",
        "\n",
        "@use_named_args(search_space)\n",
        "def evaluate_svc_model(**params):\n",
        "\tmodel = LinearSVC(max_iter=2000)\n",
        "\tmodel.set_params(**params)\n",
        "\tpipeline = Pipeline([\n",
        "        ('preprocess', tfidf),    \n",
        "        ('classifier', model)\n",
        "        ])\n",
        "\t\n",
        "\tcv = RepeatedStratifiedKFold(n_splits=10, n_repeats=1, random_state=1)\n",
        "\tresult = cross_val_score(pipeline, X_train, y_train, cv=cv, n_jobs=-1, scoring='accuracy')\n",
        "\testimate = mean(result)\n",
        "\t\n",
        "\treturn 1.0 - estimate\n",
        "\n",
        "search_space.append(Real(1e-3, 1e+3, 'log-uniform', name='C'))\n",
        "result_svm = gp_minimize(evaluate_svc_model, search_space)\n",
        "\n"
      ]
    },
    {
      "cell_type": "code",
      "execution_count": 11,
      "metadata": {},
      "outputs": [
        {
          "name": "stdout",
          "output_type": "stream",
          "text": [
            "Best Accuracy: 0.792\n",
            "Best Parameters: [0.3072715977398071]\n"
          ]
        }
      ],
      "source": [
        "print('Best Accuracy: %.3f' % (1.0 - result_svm.fun))\n",
        "print('Best Parameters: %s' % (result_svm.x))"
      ]
    },
    {
      "cell_type": "code",
      "execution_count": 12,
      "metadata": {},
      "outputs": [
        {
          "data": {
            "text/plain": [
              "<AxesSubplot:title={'center':'Convergence plot'}, xlabel='Number of calls $n$', ylabel='$\\\\min f(x)$ after $n$ calls'>"
            ]
          },
          "execution_count": 12,
          "metadata": {},
          "output_type": "execute_result"
        },
        {
          "data": {
            "image/png": "[encoded data removed]",
            "text/plain": [
              "<Figure size 432x288 with 1 Axes>"
            ]
          },
          "metadata": {
            "needs_background": "light"
          },
          "output_type": "display_data"
        }
      ],
      "source": [
        "from skopt.plots import plot_convergence\n",
        "\n",
        "plot_convergence(result_svm)"
      ]
    },
    {
      "cell_type": "code",
      "execution_count": 54,
      "metadata": {},
      "outputs": [],
      "source": [
        "lr_space = list()\n",
        "\n",
        "@use_named_args(lr_space)\n",
        "def evaluate_lr_model(**params):\n",
        "\tmodel = LogisticRegression(dual=False)\n",
        "\tmodel.set_params(**params)\n",
        "\tpipeline = Pipeline([\n",
        "        ('preprocess', tfidf),    \n",
        "        ('classifier', model)\n",
        "        ])\n",
        "\t\n",
        "\tcv = RepeatedStratifiedKFold(n_splits=10, n_repeats=3, random_state=1)\n",
        "\tresult = cross_val_score(pipeline, X_train, y_train, cv=cv, n_jobs=-1, scoring='accuracy')\n",
        "\testimate = mean(result)\n",
        "\t\n",
        "\treturn 1.0 - estimate\n",
        "\n",
        "lr_space.append(Real(1e-3, 1e+3, 'log-uniform', name='C'))\n",
        "result_lr = gp_minimize(evaluate_lr_model, lr_space)\n"
      ]
    },
    {
      "cell_type": "code",
      "execution_count": 16,
      "metadata": {},
      "outputs": [
        {
          "name": "stdout",
          "output_type": "stream",
          "text": [
            "Best Accuracy: 0.792\n",
            "Best Parameters: [3.729775083769648]\n"
          ]
        }
      ],
      "source": [
        "print('Best Accuracy: %.3f' % (1.0 - result_lr.fun))\n",
        "print('Best Parameters: %s' % (result_lr.x))"
      ]
    },
    {
      "cell_type": "code",
      "execution_count": 17,
      "metadata": {},
      "outputs": [
        {
          "data": {
            "text/plain": [
              "<AxesSubplot:title={'center':'Convergence plot'}, xlabel='Number of calls $n$', ylabel='$\\\\min f(x)$ after $n$ calls'>"
            ]
          },
          "execution_count": 17,
          "metadata": {},
          "output_type": "execute_result"
        },
        {
          "data": {
            "image/png": "[encoded data removed]",
            "text/plain": [
              "<Figure size 432x288 with 1 Axes>"
            ]
          },
          "metadata": {
            "needs_background": "light"
          },
          "output_type": "display_data"
        }
      ],
      "source": [
        "plot_convergence(result_svm)"
      ]
    },
    {
      "cell_type": "code",
      "execution_count": 11,
      "metadata": {
        "id": "lREQADmiSSlY"
      },
      "outputs": [
        {
          "data": {
            "text/plain": [
              "Pipeline(steps=[('preprocess',\n",
              "                 TfidfVectorizer(max_df=0.57,\n",
              "                                 stop_words={'a', 'about', 'above', 'after',\n",
              "                                             'again', 'against', 'ain', 'all',\n",
              "                                             'am', 'an', 'and', 'any', 'are',\n",
              "                                             'aren', \"aren't\", 'as', 'at', 'be',\n",
              "                                             'because', 'been', 'before',\n",
              "                                             'being', 'below', 'between',\n",
              "                                             'both', 'but', 'by', 'can',\n",
              "                                             'couldn', \"couldn't\", ...},\n",
              "                                 token_pattern='\\\\w+')),\n",
              "                ('classifier', LinearSVC(C=0.3072715977398071, max_iter=2000))])"
            ]
          },
          "execution_count": 11,
          "metadata": {},
          "output_type": "execute_result"
        }
      ],
      "source": [
        "model = LinearSVC(max_iter=2000, C=0.3072715977398071)\n",
        "pipeline = Pipeline([\n",
        "        ('preprocess', tfidf),    \n",
        "        ('classifier', model)\n",
        "        ])\n",
        "pipeline.fit(X_train, y_train)"
      ]
    },
    {
      "cell_type": "code",
      "execution_count": 37,
      "metadata": {
        "id": "5mcJJTp9Wxlq"
      },
      "outputs": [],
      "source": [
        "preds = pipeline.predict(X_test)\n",
        "preds = target_enc.inverse_transform(preds)"
      ]
    },
    {
      "cell_type": "code",
      "execution_count": 38,
      "metadata": {
        "id": "lhSLst-vW3VZ"
      },
      "outputs": [
        {
          "data": {
            "text/plain": [
              "0.7976370035193565"
            ]
          },
          "execution_count": 38,
          "metadata": {},
          "output_type": "execute_result"
        }
      ],
      "source": [
        "print('Acuracy: ', (test.cuisine == preds).sum()/len(test))"
      ]
    },
    {
      "cell_type": "code",
      "execution_count": 14,
      "metadata": {},
      "outputs": [
        {
          "data": {
            "text/plain": [
              "['cuisine_predictor.joblib']"
            ]
          },
          "execution_count": 14,
          "metadata": {},
          "output_type": "execute_result"
        }
      ],
      "source": [
        "from joblib import dump, load\n",
        "dump(pipeline, 'Model/cuisine_predictor.joblib') "
      ]
    },
    {
      "cell_type": "code",
      "execution_count": 21,
      "metadata": {},
      "outputs": [],
      "source": [
        "recipes_path = os.getcwd() + '/Data/full_recipes.csv'"
      ]
    },
    {
      "cell_type": "code",
      "execution_count": 22,
      "metadata": {},
      "outputs": [
        {
          "data": {
            "text/html": [
              "<div>\n",
              "<style scoped>\n",
              "    .dataframe tbody tr th:only-of-type {\n",
              "        vertical-align: middle;\n",
              "    }\n",
              "\n",
              "    .dataframe tbody tr th {\n",
              "        vertical-align: top;\n",
              "    }\n",
              "\n",
              "    .dataframe thead th {\n",
              "        text-align: right;\n",
              "    }\n",
              "</style>\n",
              "<table border=\"1\" class=\"dataframe\">\n",
              "  <thead>\n",
              "    <tr style=\"text-align: right;\">\n",
              "      <th></th>\n",
              "      <th>name</th>\n",
              "      <th>id</th>\n",
              "      <th>contributor_id</th>\n",
              "      <th>n_steps</th>\n",
              "      <th>steps</th>\n",
              "      <th>ingredients</th>\n",
              "      <th>n_ingredients</th>\n",
              "      <th>nutrition</th>\n",
              "    </tr>\n",
              "  </thead>\n",
              "  <tbody>\n",
              "    <tr>\n",
              "      <th>0</th>\n",
              "      <td>arriba   baked winter squash mexican style</td>\n",
              "      <td>137739</td>\n",
              "      <td>47892</td>\n",
              "      <td>11</td>\n",
              "      <td>['make a choice and proceed with recipe', 'dep...</td>\n",
              "      <td>['winter squash', 'mexican seasoning', 'mixed ...</td>\n",
              "      <td>7</td>\n",
              "      <td>[51.5, 0.0, 13.0, 0.0, 2.0, 0.0, 4.0]</td>\n",
              "    </tr>\n",
              "    <tr>\n",
              "      <th>1</th>\n",
              "      <td>a bit different  breakfast pizza</td>\n",
              "      <td>31490</td>\n",
              "      <td>26278</td>\n",
              "      <td>9</td>\n",
              "      <td>['preheat oven to 425 degrees f', 'press dough...</td>\n",
              "      <td>['prepared pizza crust', 'sausage patty', 'egg...</td>\n",
              "      <td>6</td>\n",
              "      <td>[173.4, 18.0, 0.0, 17.0, 22.0, 35.0, 1.0]</td>\n",
              "    </tr>\n",
              "    <tr>\n",
              "      <th>2</th>\n",
              "      <td>all in the kitchen  chili</td>\n",
              "      <td>112140</td>\n",
              "      <td>196586</td>\n",
              "      <td>6</td>\n",
              "      <td>['brown ground beef in large pot', 'add choppe...</td>\n",
              "      <td>['ground beef', 'yellow onions', 'diced tomato...</td>\n",
              "      <td>13</td>\n",
              "      <td>[269.8, 22.0, 32.0, 48.0, 39.0, 27.0, 5.0]</td>\n",
              "    </tr>\n",
              "    <tr>\n",
              "      <th>3</th>\n",
              "      <td>alouette  potatoes</td>\n",
              "      <td>59389</td>\n",
              "      <td>68585</td>\n",
              "      <td>11</td>\n",
              "      <td>['place potatoes in a large pot of lightly sal...</td>\n",
              "      <td>['spreadable cheese with garlic and herbs', 'n...</td>\n",
              "      <td>11</td>\n",
              "      <td>[368.1, 17.0, 10.0, 2.0, 14.0, 8.0, 20.0]</td>\n",
              "    </tr>\n",
              "    <tr>\n",
              "      <th>4</th>\n",
              "      <td>amish  tomato ketchup  for canning</td>\n",
              "      <td>44061</td>\n",
              "      <td>41706</td>\n",
              "      <td>5</td>\n",
              "      <td>['mix all ingredients&amp; boil for 2 1 / 2 hours ...</td>\n",
              "      <td>['tomato juice', 'apple cider vinegar', 'sugar...</td>\n",
              "      <td>8</td>\n",
              "      <td>[352.9, 1.0, 337.0, 23.0, 3.0, 0.0, 28.0]</td>\n",
              "    </tr>\n",
              "  </tbody>\n",
              "</table>\n",
              "</div>"
            ],
            "text/plain": [
              "                                         name      id  contributor_id  \\\n",
              "0  arriba   baked winter squash mexican style  137739           47892   \n",
              "1            a bit different  breakfast pizza   31490           26278   \n",
              "2                   all in the kitchen  chili  112140          196586   \n",
              "3                          alouette  potatoes   59389           68585   \n",
              "4          amish  tomato ketchup  for canning   44061           41706   \n",
              "\n",
              "   n_steps                                              steps  \\\n",
              "0       11  ['make a choice and proceed with recipe', 'dep...   \n",
              "1        9  ['preheat oven to 425 degrees f', 'press dough...   \n",
              "2        6  ['brown ground beef in large pot', 'add choppe...   \n",
              "3       11  ['place potatoes in a large pot of lightly sal...   \n",
              "4        5  ['mix all ingredients& boil for 2 1 / 2 hours ...   \n",
              "\n",
              "                                         ingredients  n_ingredients  \\\n",
              "0  ['winter squash', 'mexican seasoning', 'mixed ...              7   \n",
              "1  ['prepared pizza crust', 'sausage patty', 'egg...              6   \n",
              "2  ['ground beef', 'yellow onions', 'diced tomato...             13   \n",
              "3  ['spreadable cheese with garlic and herbs', 'n...             11   \n",
              "4  ['tomato juice', 'apple cider vinegar', 'sugar...              8   \n",
              "\n",
              "                                    nutrition  \n",
              "0       [51.5, 0.0, 13.0, 0.0, 2.0, 0.0, 4.0]  \n",
              "1   [173.4, 18.0, 0.0, 17.0, 22.0, 35.0, 1.0]  \n",
              "2  [269.8, 22.0, 32.0, 48.0, 39.0, 27.0, 5.0]  \n",
              "3   [368.1, 17.0, 10.0, 2.0, 14.0, 8.0, 20.0]  \n",
              "4   [352.9, 1.0, 337.0, 23.0, 3.0, 0.0, 28.0]  "
            ]
          },
          "execution_count": 22,
          "metadata": {},
          "output_type": "execute_result"
        }
      ],
      "source": [
        "recipes = pd.read_csv(recipes_path)\n",
        "recipes.head()"
      ]
    },
    {
      "cell_type": "code",
      "execution_count": 47,
      "metadata": {},
      "outputs": [
        {
          "data": {
            "application/vnd.jupyter.widget-view+json": {
              "model_id": "59143c5498ab45c293ca49203f109234",
              "version_major": 2,
              "version_minor": 0
            },
            "text/plain": [
              "  0%|          | 0/231637 [00:00<?, ?it/s]"
            ]
          },
          "metadata": {},
          "output_type": "display_data"
        }
      ],
      "source": [
        "recipes['ingredients_list'] = recipes['ingredients'].apply(ast.literal_eval)\n",
        "recipes['ingredient_features'] = [', '.join(ingredients).strip() for ingredients in recipes['ingredients_list']]\n",
        "recipes['ingredient_features'] = recipes['ingredient_features'].progress_apply(text_to_wordlist)\n",
        "\n",
        "ing_pred = recipes['ingredient_features']"
      ]
    },
    {
      "cell_type": "code",
      "execution_count": 48,
      "metadata": {},
      "outputs": [],
      "source": [
        "cuisine_preds = pipeline.predict(ing_pred)\n",
        "cuisine_pred_labels = target_enc.inverse_transform(cuisine_preds)"
      ]
    },
    {
      "cell_type": "code",
      "execution_count": 49,
      "metadata": {},
      "outputs": [],
      "source": [
        "recipes['cuisine'] = cuisine_pred_labels\n",
        "recipes = recipes.drop(columns=['ingredients_list', 'ingredient_features'])"
      ]
    },
    {
      "cell_type": "code",
      "execution_count": 25,
      "metadata": {},
      "outputs": [
        {
          "data": {
            "text/html": [
              "<div>\n",
              "<style scoped>\n",
              "    .dataframe tbody tr th:only-of-type {\n",
              "        vertical-align: middle;\n",
              "    }\n",
              "\n",
              "    .dataframe tbody tr th {\n",
              "        vertical-align: top;\n",
              "    }\n",
              "\n",
              "    .dataframe thead th {\n",
              "        text-align: right;\n",
              "    }\n",
              "</style>\n",
              "<table border=\"1\" class=\"dataframe\">\n",
              "  <thead>\n",
              "    <tr style=\"text-align: right;\">\n",
              "      <th></th>\n",
              "      <th>name</th>\n",
              "      <th>id</th>\n",
              "      <th>contributor_id</th>\n",
              "      <th>n_steps</th>\n",
              "      <th>steps</th>\n",
              "      <th>ingredients</th>\n",
              "      <th>n_ingredients</th>\n",
              "      <th>nutrition</th>\n",
              "      <th>cuisine</th>\n",
              "    </tr>\n",
              "  </thead>\n",
              "  <tbody>\n",
              "    <tr>\n",
              "      <th>0</th>\n",
              "      <td>arriba   baked winter squash mexican style</td>\n",
              "      <td>137739</td>\n",
              "      <td>47892</td>\n",
              "      <td>11</td>\n",
              "      <td>['make a choice and proceed with recipe', 'dep...</td>\n",
              "      <td>['winter squash', 'mexican seasoning', 'mixed ...</td>\n",
              "      <td>7</td>\n",
              "      <td>[51.5, 0.0, 13.0, 0.0, 2.0, 0.0, 4.0]</td>\n",
              "      <td>southern_us</td>\n",
              "    </tr>\n",
              "    <tr>\n",
              "      <th>1</th>\n",
              "      <td>a bit different  breakfast pizza</td>\n",
              "      <td>31490</td>\n",
              "      <td>26278</td>\n",
              "      <td>9</td>\n",
              "      <td>['preheat oven to 425 degrees f', 'press dough...</td>\n",
              "      <td>['prepared pizza crust', 'sausage patty', 'egg...</td>\n",
              "      <td>6</td>\n",
              "      <td>[173.4, 18.0, 0.0, 17.0, 22.0, 35.0, 1.0]</td>\n",
              "      <td>italian</td>\n",
              "    </tr>\n",
              "    <tr>\n",
              "      <th>2</th>\n",
              "      <td>all in the kitchen  chili</td>\n",
              "      <td>112140</td>\n",
              "      <td>196586</td>\n",
              "      <td>6</td>\n",
              "      <td>['brown ground beef in large pot', 'add choppe...</td>\n",
              "      <td>['ground beef', 'yellow onions', 'diced tomato...</td>\n",
              "      <td>13</td>\n",
              "      <td>[269.8, 22.0, 32.0, 48.0, 39.0, 27.0, 5.0]</td>\n",
              "      <td>mexican</td>\n",
              "    </tr>\n",
              "    <tr>\n",
              "      <th>3</th>\n",
              "      <td>alouette  potatoes</td>\n",
              "      <td>59389</td>\n",
              "      <td>68585</td>\n",
              "      <td>11</td>\n",
              "      <td>['place potatoes in a large pot of lightly sal...</td>\n",
              "      <td>['spreadable cheese with garlic and herbs', 'n...</td>\n",
              "      <td>11</td>\n",
              "      <td>[368.1, 17.0, 10.0, 2.0, 14.0, 8.0, 20.0]</td>\n",
              "      <td>french</td>\n",
              "    </tr>\n",
              "    <tr>\n",
              "      <th>4</th>\n",
              "      <td>amish  tomato ketchup  for canning</td>\n",
              "      <td>44061</td>\n",
              "      <td>41706</td>\n",
              "      <td>5</td>\n",
              "      <td>['mix all ingredients&amp; boil for 2 1 / 2 hours ...</td>\n",
              "      <td>['tomato juice', 'apple cider vinegar', 'sugar...</td>\n",
              "      <td>8</td>\n",
              "      <td>[352.9, 1.0, 337.0, 23.0, 3.0, 0.0, 28.0]</td>\n",
              "      <td>southern_us</td>\n",
              "    </tr>\n",
              "  </tbody>\n",
              "</table>\n",
              "</div>"
            ],
            "text/plain": [
              "                                         name      id  contributor_id  \\\n",
              "0  arriba   baked winter squash mexican style  137739           47892   \n",
              "1            a bit different  breakfast pizza   31490           26278   \n",
              "2                   all in the kitchen  chili  112140          196586   \n",
              "3                          alouette  potatoes   59389           68585   \n",
              "4          amish  tomato ketchup  for canning   44061           41706   \n",
              "\n",
              "   n_steps                                              steps  \\\n",
              "0       11  ['make a choice and proceed with recipe', 'dep...   \n",
              "1        9  ['preheat oven to 425 degrees f', 'press dough...   \n",
              "2        6  ['brown ground beef in large pot', 'add choppe...   \n",
              "3       11  ['place potatoes in a large pot of lightly sal...   \n",
              "4        5  ['mix all ingredients& boil for 2 1 / 2 hours ...   \n",
              "\n",
              "                                         ingredients  n_ingredients  \\\n",
              "0  ['winter squash', 'mexican seasoning', 'mixed ...              7   \n",
              "1  ['prepared pizza crust', 'sausage patty', 'egg...              6   \n",
              "2  ['ground beef', 'yellow onions', 'diced tomato...             13   \n",
              "3  ['spreadable cheese with garlic and herbs', 'n...             11   \n",
              "4  ['tomato juice', 'apple cider vinegar', 'sugar...              8   \n",
              "\n",
              "                                    nutrition      cuisine  \n",
              "0       [51.5, 0.0, 13.0, 0.0, 2.0, 0.0, 4.0]  southern_us  \n",
              "1   [173.4, 18.0, 0.0, 17.0, 22.0, 35.0, 1.0]      italian  \n",
              "2  [269.8, 22.0, 32.0, 48.0, 39.0, 27.0, 5.0]      mexican  \n",
              "3   [368.1, 17.0, 10.0, 2.0, 14.0, 8.0, 20.0]       french  \n",
              "4   [352.9, 1.0, 337.0, 23.0, 3.0, 0.0, 28.0]  southern_us  "
            ]
          },
          "execution_count": 25,
          "metadata": {},
          "output_type": "execute_result"
        }
      ],
      "source": [
        "recipes.head()"
      ]
    },
    {
      "cell_type": "code",
      "execution_count": 24,
      "metadata": {},
      "outputs": [],
      "source": [
        "write_path = os.getcwd() + '/Data/recipes_enriched.csv'\n",
        "recipes.to_csv(write_path, index=False)"
      ]
    }
  ],
  "metadata": {
    "colab": {
      "collapsed_sections": [],
      "name": "CuisinePrediction.ipynb",
      "provenance": []
    },
    "interpreter": {
      "hash": "2cfbc877d07df25b77f6e6d811c40fc840d77524b56d09799e6c4be554a6df74"
    },
    "kernelspec": {
      "display_name": "py-gt",
      "language": "python",
      "name": "python3"
    },
    "language_info": {
      "codemirror_mode": {
        "name": "ipython",
        "version": 3
      },
      "file_extension": ".py",
      "mimetype": "text/x-python",
      "name": "python",
      "nbconvert_exporter": "python",
      "pygments_lexer": "ipython3",
      "version": "3.8.12"
    }
  },
  "nbformat": 4,
  "nbformat_minor": 0
}
