{
 "cells": [
  {
   "cell_type": "markdown",
   "id": "cb567250",
   "metadata": {},
   "source": [
    "# Food.com"
   ]
  },
  {
   "cell_type": "code",
   "execution_count": 1,
   "id": "a0bacf75",
   "metadata": {},
   "outputs": [],
   "source": [
    "import pandas as pd\n",
    "import matplotlib.pyplot as plt\n",
    "from ast import literal_eval\n",
    "import numpy as np\n",
    "import seaborn as sns"
   ]
  },
  {
   "cell_type": "markdown",
   "id": "70c30fcd",
   "metadata": {},
   "source": [
    "### Datasets"
   ]
  },
  {
   "cell_type": "code",
   "execution_count": 2,
   "id": "bd46296d",
   "metadata": {},
   "outputs": [],
   "source": [
    "recipes_df = pd.read_csv('../Data/full_recipes.csv')\n",
    "ratings_df = pd.read_csv('../Data/user_interactions.csv')"
   ]
  },
  {
   "cell_type": "markdown",
   "id": "2129e7b2",
   "metadata": {},
   "source": [
    "## Ratings "
   ]
  },
  {
   "cell_type": "code",
   "execution_count": 4,
   "id": "e91b921d",
   "metadata": {},
   "outputs": [
    {
     "data": {
      "text/html": [
       "<div>\n",
       "<style scoped>\n",
       "    .dataframe tbody tr th:only-of-type {\n",
       "        vertical-align: middle;\n",
       "    }\n",
       "\n",
       "    .dataframe tbody tr th {\n",
       "        vertical-align: top;\n",
       "    }\n",
       "\n",
       "    .dataframe thead th {\n",
       "        text-align: right;\n",
       "    }\n",
       "</style>\n",
       "<table border=\"1\" class=\"dataframe\">\n",
       "  <thead>\n",
       "    <tr style=\"text-align: right;\">\n",
       "      <th></th>\n",
       "      <th>user_id</th>\n",
       "      <th>recipe_id</th>\n",
       "      <th>date</th>\n",
       "      <th>rating</th>\n",
       "      <th>review</th>\n",
       "    </tr>\n",
       "  </thead>\n",
       "  <tbody>\n",
       "    <tr>\n",
       "      <th>0</th>\n",
       "      <td>1509050</td>\n",
       "      <td>99998.0</td>\n",
       "      <td>2022-01-01T00:00:00+00:00</td>\n",
       "      <td>5.0</td>\n",
       "      <td>Substituted cayenne for wasabi, which we hate....</td>\n",
       "    </tr>\n",
       "    <tr>\n",
       "      <th>1</th>\n",
       "      <td>672182</td>\n",
       "      <td>99998.0</td>\n",
       "      <td>2022-01-01T00:00:00+00:00</td>\n",
       "      <td>5.0</td>\n",
       "      <td>Wow - what a great &amp; easy recipe to add to you...</td>\n",
       "    </tr>\n",
       "    <tr>\n",
       "      <th>2</th>\n",
       "      <td>983557</td>\n",
       "      <td>99996.0</td>\n",
       "      <td>2022-01-01T00:00:00+00:00</td>\n",
       "      <td>5.0</td>\n",
       "      <td>I tripled this recipe so id have it on hand fo...</td>\n",
       "    </tr>\n",
       "    <tr>\n",
       "      <th>3</th>\n",
       "      <td>1402541</td>\n",
       "      <td>99996.0</td>\n",
       "      <td>2022-01-01T00:00:00+00:00</td>\n",
       "      <td>5.0</td>\n",
       "      <td>My husband and I love this Recipe.  BUT, when ...</td>\n",
       "    </tr>\n",
       "    <tr>\n",
       "      <th>4</th>\n",
       "      <td>1114506</td>\n",
       "      <td>99996.0</td>\n",
       "      <td>2022-01-01T00:00:00+00:00</td>\n",
       "      <td>5.0</td>\n",
       "      <td>Simple. Fast. Healthy. Tasty.</td>\n",
       "    </tr>\n",
       "  </tbody>\n",
       "</table>\n",
       "</div>"
      ],
      "text/plain": [
       "   user_id  recipe_id                       date  rating  \\\n",
       "0  1509050    99998.0  2022-01-01T00:00:00+00:00     5.0   \n",
       "1   672182    99998.0  2022-01-01T00:00:00+00:00     5.0   \n",
       "2   983557    99996.0  2022-01-01T00:00:00+00:00     5.0   \n",
       "3  1402541    99996.0  2022-01-01T00:00:00+00:00     5.0   \n",
       "4  1114506    99996.0  2022-01-01T00:00:00+00:00     5.0   \n",
       "\n",
       "                                              review  \n",
       "0  Substituted cayenne for wasabi, which we hate....  \n",
       "1  Wow - what a great & easy recipe to add to you...  \n",
       "2  I tripled this recipe so id have it on hand fo...  \n",
       "3  My husband and I love this Recipe.  BUT, when ...  \n",
       "4                      Simple. Fast. Healthy. Tasty.  "
      ]
     },
     "execution_count": 4,
     "metadata": {},
     "output_type": "execute_result"
    }
   ],
   "source": [
    "ratings_df.head()"
   ]
  },
  {
   "cell_type": "markdown",
   "id": "a1436a96",
   "metadata": {},
   "source": [
    "### Weighted Ratings"
   ]
  },
  {
   "cell_type": "code",
   "execution_count": 7,
   "id": "7dc6c34e",
   "metadata": {
    "scrolled": false
   },
   "outputs": [
    {
     "data": {
      "text/html": [
       "<div>\n",
       "<style scoped>\n",
       "    .dataframe tbody tr th:only-of-type {\n",
       "        vertical-align: middle;\n",
       "    }\n",
       "\n",
       "    .dataframe tbody tr th {\n",
       "        vertical-align: top;\n",
       "    }\n",
       "\n",
       "    .dataframe thead th {\n",
       "        text-align: right;\n",
       "    }\n",
       "</style>\n",
       "<table border=\"1\" class=\"dataframe\">\n",
       "  <thead>\n",
       "    <tr style=\"text-align: right;\">\n",
       "      <th></th>\n",
       "      <th>recipe_id</th>\n",
       "      <th>rating</th>\n",
       "      <th>users</th>\n",
       "    </tr>\n",
       "  </thead>\n",
       "  <tbody>\n",
       "    <tr>\n",
       "      <th>0</th>\n",
       "      <td>0.0</td>\n",
       "      <td>0.0</td>\n",
       "      <td>18</td>\n",
       "    </tr>\n",
       "    <tr>\n",
       "      <th>1</th>\n",
       "      <td>1.0</td>\n",
       "      <td>0.0</td>\n",
       "      <td>22</td>\n",
       "    </tr>\n",
       "    <tr>\n",
       "      <th>2</th>\n",
       "      <td>1.0</td>\n",
       "      <td>4.0</td>\n",
       "      <td>1</td>\n",
       "    </tr>\n",
       "    <tr>\n",
       "      <th>3</th>\n",
       "      <td>1.0</td>\n",
       "      <td>5.0</td>\n",
       "      <td>1</td>\n",
       "    </tr>\n",
       "    <tr>\n",
       "      <th>4</th>\n",
       "      <td>2.0</td>\n",
       "      <td>0.0</td>\n",
       "      <td>35</td>\n",
       "    </tr>\n",
       "  </tbody>\n",
       "</table>\n",
       "</div>"
      ],
      "text/plain": [
       "   recipe_id  rating  users\n",
       "0        0.0     0.0     18\n",
       "1        1.0     0.0     22\n",
       "2        1.0     4.0      1\n",
       "3        1.0     5.0      1\n",
       "4        2.0     0.0     35"
      ]
     },
     "execution_count": 7,
     "metadata": {},
     "output_type": "execute_result"
    }
   ],
   "source": [
    "weighted_ratings_df = ratings_df.copy()\n",
    "weighted_ratings_df = weighted_ratings_df.drop(['date', 'review'], axis=1)\n",
    "weighted_ratings_df = weighted_ratings_df.groupby(['recipe_id', 'rating']).count()\n",
    "weighted_ratings_df = weighted_ratings_df.rename(columns={\"user_id\": \"users\"})\n",
    "weighted_ratings_df.reset_index(inplace=True)\n",
    "weighted_ratings_df.head()"
   ]
  },
  {
   "cell_type": "markdown",
   "id": "194cc46d",
   "metadata": {},
   "source": [
    "### Distribution of recipes ratings"
   ]
  },
  {
   "cell_type": "code",
   "execution_count": 8,
   "id": "4beeeda1",
   "metadata": {},
   "outputs": [
    {
     "data": {
      "text/plain": [
       "<AxesSubplot:>"
      ]
     },
     "execution_count": 8,
     "metadata": {},
     "output_type": "execute_result"
    },
    {
     "data": {
      "image/png": "[encoded data removed]",
      "text/plain": [
       "<Figure size 432x288 with 1 Axes>"
      ]
     },
     "metadata": {
      "needs_background": "light"
     },
     "output_type": "display_data"
    }
   ],
   "source": [
    "weighted_ratings_df['rating'].hist(histtype='bar', weights=weighted_ratings_df['users'])"
   ]
  },
  {
   "cell_type": "markdown",
   "id": "2619ca51",
   "metadata": {},
   "source": [
    "### Average Ratings"
   ]
  },
  {
   "cell_type": "code",
   "execution_count": 9,
   "id": "0e6baa10",
   "metadata": {
    "scrolled": true
   },
   "outputs": [
    {
     "data": {
      "text/html": [
       "<div>\n",
       "<style scoped>\n",
       "    .dataframe tbody tr th:only-of-type {\n",
       "        vertical-align: middle;\n",
       "    }\n",
       "\n",
       "    .dataframe tbody tr th {\n",
       "        vertical-align: top;\n",
       "    }\n",
       "\n",
       "    .dataframe thead th {\n",
       "        text-align: right;\n",
       "    }\n",
       "</style>\n",
       "<table border=\"1\" class=\"dataframe\">\n",
       "  <thead>\n",
       "    <tr style=\"text-align: right;\">\n",
       "      <th></th>\n",
       "      <th>recipe_id</th>\n",
       "      <th>rating</th>\n",
       "    </tr>\n",
       "  </thead>\n",
       "  <tbody>\n",
       "    <tr>\n",
       "      <th>0</th>\n",
       "      <td>0.0</td>\n",
       "      <td>0.000000</td>\n",
       "    </tr>\n",
       "    <tr>\n",
       "      <th>1</th>\n",
       "      <td>1.0</td>\n",
       "      <td>0.375000</td>\n",
       "    </tr>\n",
       "    <tr>\n",
       "      <th>2</th>\n",
       "      <td>2.0</td>\n",
       "      <td>0.138889</td>\n",
       "    </tr>\n",
       "    <tr>\n",
       "      <th>3</th>\n",
       "      <td>3.0</td>\n",
       "      <td>0.000000</td>\n",
       "    </tr>\n",
       "    <tr>\n",
       "      <th>4</th>\n",
       "      <td>4.0</td>\n",
       "      <td>0.000000</td>\n",
       "    </tr>\n",
       "  </tbody>\n",
       "</table>\n",
       "</div>"
      ],
      "text/plain": [
       "   recipe_id    rating\n",
       "0        0.0  0.000000\n",
       "1        1.0  0.375000\n",
       "2        2.0  0.138889\n",
       "3        3.0  0.000000\n",
       "4        4.0  0.000000"
      ]
     },
     "execution_count": 9,
     "metadata": {},
     "output_type": "execute_result"
    }
   ],
   "source": [
    "average_ratings_df = ratings_df.copy()\n",
    "average_ratings_df = average_ratings_df[['recipe_id', 'rating']]\n",
    "average_ratings_df = average_ratings_df.groupby('recipe_id').agg({'rating':'mean'})\n",
    "average_ratings_df.reset_index(inplace=True)\n",
    "average_ratings_df.head()"
   ]
  },
  {
   "cell_type": "markdown",
   "id": "c81a77c2",
   "metadata": {},
   "source": [
    "## Recipes"
   ]
  },
  {
   "cell_type": "code",
   "execution_count": 10,
   "id": "4d7287c6",
   "metadata": {},
   "outputs": [
    {
     "data": {
      "text/html": [
       "<div>\n",
       "<style scoped>\n",
       "    .dataframe tbody tr th:only-of-type {\n",
       "        vertical-align: middle;\n",
       "    }\n",
       "\n",
       "    .dataframe tbody tr th {\n",
       "        vertical-align: top;\n",
       "    }\n",
       "\n",
       "    .dataframe thead th {\n",
       "        text-align: right;\n",
       "    }\n",
       "</style>\n",
       "<table border=\"1\" class=\"dataframe\">\n",
       "  <thead>\n",
       "    <tr style=\"text-align: right;\">\n",
       "      <th></th>\n",
       "      <th>name</th>\n",
       "      <th>id</th>\n",
       "      <th>minutes</th>\n",
       "      <th>contributor_id</th>\n",
       "      <th>nutrition</th>\n",
       "      <th>n_steps</th>\n",
       "      <th>steps</th>\n",
       "      <th>ingredients</th>\n",
       "      <th>n_ingredients</th>\n",
       "    </tr>\n",
       "  </thead>\n",
       "  <tbody>\n",
       "    <tr>\n",
       "      <th>0</th>\n",
       "      <td>Tuna Kabobs</td>\n",
       "      <td>99998</td>\n",
       "      <td>25</td>\n",
       "      <td>Lorac</td>\n",
       "      <td>['219.5', '7233', '8.112', '1.99', '53.917', '...</td>\n",
       "      <td>4</td>\n",
       "      <td>['Preheat grill to medium high.', 'Combine soy...</td>\n",
       "      <td>['soy sauce', 'rice vinegar', 'toasted sesame ...</td>\n",
       "      <td>7</td>\n",
       "    </tr>\n",
       "    <tr>\n",
       "      <th>1</th>\n",
       "      <td>South Beach Diet Balsamic Vinaigrette</td>\n",
       "      <td>99996</td>\n",
       "      <td>5</td>\n",
       "      <td>papergoddess</td>\n",
       "      <td>['142.7', '12991', '14.422', '29', '00', '120....</td>\n",
       "      <td>3</td>\n",
       "      <td>['Combine all ingredients in a jar or containe...</td>\n",
       "      <td>['extra virgin olive oil', 'balsamic vinegar',...</td>\n",
       "      <td>6</td>\n",
       "    </tr>\n",
       "    <tr>\n",
       "      <th>2</th>\n",
       "      <td>All to Myself Cheesecake</td>\n",
       "      <td>99995</td>\n",
       "      <td>45</td>\n",
       "      <td>Claudia Dawn</td>\n",
       "      <td>['268.5', '16963', '18.828', '9.748', '72.724'...</td>\n",
       "      <td>7</td>\n",
       "      <td>['Beat cream cheese, sugar, vanilla and eggs t...</td>\n",
       "      <td>['reo cookies tops separated from bottoms', 'c...</td>\n",
       "      <td>7</td>\n",
       "    </tr>\n",
       "    <tr>\n",
       "      <th>3</th>\n",
       "      <td>Feta Potatoes</td>\n",
       "      <td>99994</td>\n",
       "      <td>45</td>\n",
       "      <td>Dawnab</td>\n",
       "      <td>['264.3', '12648', '14.121', '7.838', '43.614'...</td>\n",
       "      <td>3</td>\n",
       "      <td>['Preheat oven to 375.', 'combine all ingredie...</td>\n",
       "      <td>['frozen cubed hash brown potatoes southern st...</td>\n",
       "      <td>5</td>\n",
       "    </tr>\n",
       "    <tr>\n",
       "      <th>4</th>\n",
       "      <td>Shish Kabob Marinade</td>\n",
       "      <td>99992</td>\n",
       "      <td>125</td>\n",
       "      <td>jenjill</td>\n",
       "      <td>['75.8', '01', '0.10', '00', '00', '117348', '...</td>\n",
       "      <td>4</td>\n",
       "      <td>['Mix all ingredients together.', 'Add meat (c...</td>\n",
       "      <td>['soy sauce', 'ketchup', 'sugar', 'ginger', 'g...</td>\n",
       "      <td>5</td>\n",
       "    </tr>\n",
       "  </tbody>\n",
       "</table>\n",
       "</div>"
      ],
      "text/plain": [
       "                                    name     id  minutes contributor_id  \\\n",
       "0                            Tuna Kabobs  99998       25          Lorac   \n",
       "1  South Beach Diet Balsamic Vinaigrette  99996        5   papergoddess   \n",
       "2               All to Myself Cheesecake  99995       45   Claudia Dawn   \n",
       "3                          Feta Potatoes  99994       45         Dawnab   \n",
       "4                   Shish Kabob Marinade  99992      125        jenjill   \n",
       "\n",
       "                                           nutrition  n_steps  \\\n",
       "0  ['219.5', '7233', '8.112', '1.99', '53.917', '...        4   \n",
       "1  ['142.7', '12991', '14.422', '29', '00', '120....        3   \n",
       "2  ['268.5', '16963', '18.828', '9.748', '72.724'...        7   \n",
       "3  ['264.3', '12648', '14.121', '7.838', '43.614'...        3   \n",
       "4  ['75.8', '01', '0.10', '00', '00', '117348', '...        4   \n",
       "\n",
       "                                               steps  \\\n",
       "0  ['Preheat grill to medium high.', 'Combine soy...   \n",
       "1  ['Combine all ingredients in a jar or containe...   \n",
       "2  ['Beat cream cheese, sugar, vanilla and eggs t...   \n",
       "3  ['Preheat oven to 375.', 'combine all ingredie...   \n",
       "4  ['Mix all ingredients together.', 'Add meat (c...   \n",
       "\n",
       "                                         ingredients  n_ingredients  \n",
       "0  ['soy sauce', 'rice vinegar', 'toasted sesame ...              7  \n",
       "1  ['extra virgin olive oil', 'balsamic vinegar',...              6  \n",
       "2  ['reo cookies tops separated from bottoms', 'c...              7  \n",
       "3  ['frozen cubed hash brown potatoes southern st...              5  \n",
       "4  ['soy sauce', 'ketchup', 'sugar', 'ginger', 'g...              5  "
      ]
     },
     "execution_count": 10,
     "metadata": {},
     "output_type": "execute_result"
    }
   ],
   "source": [
    "recipes_df.head()"
   ]
  },
  {
   "cell_type": "markdown",
   "id": "d9755531",
   "metadata": {},
   "source": [
    "### Exploding the dataset"
   ]
  },
  {
   "cell_type": "code",
   "execution_count": 11,
   "id": "dcf10bf2",
   "metadata": {},
   "outputs": [
    {
     "data": {
      "text/html": [
       "<div>\n",
       "<style scoped>\n",
       "    .dataframe tbody tr th:only-of-type {\n",
       "        vertical-align: middle;\n",
       "    }\n",
       "\n",
       "    .dataframe tbody tr th {\n",
       "        vertical-align: top;\n",
       "    }\n",
       "\n",
       "    .dataframe thead th {\n",
       "        text-align: right;\n",
       "    }\n",
       "</style>\n",
       "<table border=\"1\" class=\"dataframe\">\n",
       "  <thead>\n",
       "    <tr style=\"text-align: right;\">\n",
       "      <th></th>\n",
       "      <th>name</th>\n",
       "      <th>recipe_id</th>\n",
       "      <th>minutes</th>\n",
       "      <th>contributor_id</th>\n",
       "      <th>nutrition</th>\n",
       "      <th>n_steps</th>\n",
       "      <th>steps</th>\n",
       "      <th>ingredients</th>\n",
       "      <th>n_ingredients</th>\n",
       "      <th>rating</th>\n",
       "    </tr>\n",
       "  </thead>\n",
       "  <tbody>\n",
       "    <tr>\n",
       "      <th>0</th>\n",
       "      <td>Tuna Kabobs</td>\n",
       "      <td>99998</td>\n",
       "      <td>25</td>\n",
       "      <td>Lorac</td>\n",
       "      <td>['219.5', '7233', '8.112', '1.99', '53.917', '...</td>\n",
       "      <td>4</td>\n",
       "      <td>['Preheat grill to medium high.', 'Combine soy...</td>\n",
       "      <td>['soy sauce', 'rice vinegar', 'toasted sesame ...</td>\n",
       "      <td>7</td>\n",
       "      <td>5.0</td>\n",
       "    </tr>\n",
       "    <tr>\n",
       "      <th>1</th>\n",
       "      <td>South Beach Diet Balsamic Vinaigrette</td>\n",
       "      <td>99996</td>\n",
       "      <td>5</td>\n",
       "      <td>papergoddess</td>\n",
       "      <td>['142.7', '12991', '14.422', '29', '00', '120....</td>\n",
       "      <td>3</td>\n",
       "      <td>['Combine all ingredients in a jar or containe...</td>\n",
       "      <td>['extra virgin olive oil', 'balsamic vinegar',...</td>\n",
       "      <td>6</td>\n",
       "      <td>5.0</td>\n",
       "    </tr>\n",
       "    <tr>\n",
       "      <th>2</th>\n",
       "      <td>All to Myself Cheesecake</td>\n",
       "      <td>99995</td>\n",
       "      <td>45</td>\n",
       "      <td>Claudia Dawn</td>\n",
       "      <td>['268.5', '16963', '18.828', '9.748', '72.724'...</td>\n",
       "      <td>7</td>\n",
       "      <td>['Beat cream cheese, sugar, vanilla and eggs t...</td>\n",
       "      <td>['reo cookies tops separated from bottoms', 'c...</td>\n",
       "      <td>7</td>\n",
       "      <td>4.8</td>\n",
       "    </tr>\n",
       "    <tr>\n",
       "      <th>3</th>\n",
       "      <td>Feta Potatoes</td>\n",
       "      <td>99994</td>\n",
       "      <td>45</td>\n",
       "      <td>Dawnab</td>\n",
       "      <td>['264.3', '12648', '14.121', '7.838', '43.614'...</td>\n",
       "      <td>3</td>\n",
       "      <td>['Preheat oven to 375.', 'combine all ingredie...</td>\n",
       "      <td>['frozen cubed hash brown potatoes southern st...</td>\n",
       "      <td>5</td>\n",
       "      <td>4.5</td>\n",
       "    </tr>\n",
       "    <tr>\n",
       "      <th>4</th>\n",
       "      <td>Shish Kabob Marinade</td>\n",
       "      <td>99992</td>\n",
       "      <td>125</td>\n",
       "      <td>jenjill</td>\n",
       "      <td>['75.8', '01', '0.10', '00', '00', '117348', '...</td>\n",
       "      <td>4</td>\n",
       "      <td>['Mix all ingredients together.', 'Add meat (c...</td>\n",
       "      <td>['soy sauce', 'ketchup', 'sugar', 'ginger', 'g...</td>\n",
       "      <td>5</td>\n",
       "      <td>4.6</td>\n",
       "    </tr>\n",
       "  </tbody>\n",
       "</table>\n",
       "</div>"
      ],
      "text/plain": [
       "                                    name  recipe_id  minutes contributor_id  \\\n",
       "0                            Tuna Kabobs      99998       25          Lorac   \n",
       "1  South Beach Diet Balsamic Vinaigrette      99996        5   papergoddess   \n",
       "2               All to Myself Cheesecake      99995       45   Claudia Dawn   \n",
       "3                          Feta Potatoes      99994       45         Dawnab   \n",
       "4                   Shish Kabob Marinade      99992      125        jenjill   \n",
       "\n",
       "                                           nutrition  n_steps  \\\n",
       "0  ['219.5', '7233', '8.112', '1.99', '53.917', '...        4   \n",
       "1  ['142.7', '12991', '14.422', '29', '00', '120....        3   \n",
       "2  ['268.5', '16963', '18.828', '9.748', '72.724'...        7   \n",
       "3  ['264.3', '12648', '14.121', '7.838', '43.614'...        3   \n",
       "4  ['75.8', '01', '0.10', '00', '00', '117348', '...        4   \n",
       "\n",
       "                                               steps  \\\n",
       "0  ['Preheat grill to medium high.', 'Combine soy...   \n",
       "1  ['Combine all ingredients in a jar or containe...   \n",
       "2  ['Beat cream cheese, sugar, vanilla and eggs t...   \n",
       "3  ['Preheat oven to 375.', 'combine all ingredie...   \n",
       "4  ['Mix all ingredients together.', 'Add meat (c...   \n",
       "\n",
       "                                         ingredients  n_ingredients  rating  \n",
       "0  ['soy sauce', 'rice vinegar', 'toasted sesame ...              7     5.0  \n",
       "1  ['extra virgin olive oil', 'balsamic vinegar',...              6     5.0  \n",
       "2  ['reo cookies tops separated from bottoms', 'c...              7     4.8  \n",
       "3  ['frozen cubed hash brown potatoes southern st...              5     4.5  \n",
       "4  ['soy sauce', 'ketchup', 'sugar', 'ginger', 'g...              5     4.6  "
      ]
     },
     "execution_count": 11,
     "metadata": {},
     "output_type": "execute_result"
    }
   ],
   "source": [
    "raw_recipes_df = recipes_df.copy()\n",
    "raw_recipes_df = raw_recipes_df.rename({\"id\":\"recipe_id\"}, axis=1)\n",
    "merged_recipes_df = pd.merge(raw_recipes_df, average_ratings_df, on=\"recipe_id\")\n",
    "merged_recipes_df.head()"
   ]
  },
  {
   "cell_type": "code",
   "execution_count": 13,
   "id": "8f38735e",
   "metadata": {},
   "outputs": [
    {
     "data": {
      "text/html": [
       "<div>\n",
       "<style scoped>\n",
       "    .dataframe tbody tr th:only-of-type {\n",
       "        vertical-align: middle;\n",
       "    }\n",
       "\n",
       "    .dataframe tbody tr th {\n",
       "        vertical-align: top;\n",
       "    }\n",
       "\n",
       "    .dataframe thead th {\n",
       "        text-align: right;\n",
       "    }\n",
       "</style>\n",
       "<table border=\"1\" class=\"dataframe\">\n",
       "  <thead>\n",
       "    <tr style=\"text-align: right;\">\n",
       "      <th></th>\n",
       "      <th>name</th>\n",
       "      <th>recipe_id</th>\n",
       "      <th>minutes</th>\n",
       "      <th>contributor_id</th>\n",
       "      <th>nutrition</th>\n",
       "      <th>n_steps</th>\n",
       "      <th>steps</th>\n",
       "      <th>ingredients</th>\n",
       "      <th>n_ingredients</th>\n",
       "      <th>rating</th>\n",
       "    </tr>\n",
       "  </thead>\n",
       "  <tbody>\n",
       "    <tr>\n",
       "      <th>0</th>\n",
       "      <td>Tuna Kabobs</td>\n",
       "      <td>99998</td>\n",
       "      <td>25</td>\n",
       "      <td>Lorac</td>\n",
       "      <td>['219.5', '7233', '8.112', '1.99', '53.917', '...</td>\n",
       "      <td>4</td>\n",
       "      <td>['Preheat grill to medium high.', 'Combine soy...</td>\n",
       "      <td>soy sauce</td>\n",
       "      <td>7</td>\n",
       "      <td>5.0</td>\n",
       "    </tr>\n",
       "    <tr>\n",
       "      <th>0</th>\n",
       "      <td>Tuna Kabobs</td>\n",
       "      <td>99998</td>\n",
       "      <td>25</td>\n",
       "      <td>Lorac</td>\n",
       "      <td>['219.5', '7233', '8.112', '1.99', '53.917', '...</td>\n",
       "      <td>4</td>\n",
       "      <td>['Preheat grill to medium high.', 'Combine soy...</td>\n",
       "      <td>rice vinegar</td>\n",
       "      <td>7</td>\n",
       "      <td>5.0</td>\n",
       "    </tr>\n",
       "    <tr>\n",
       "      <th>0</th>\n",
       "      <td>Tuna Kabobs</td>\n",
       "      <td>99998</td>\n",
       "      <td>25</td>\n",
       "      <td>Lorac</td>\n",
       "      <td>['219.5', '7233', '8.112', '1.99', '53.917', '...</td>\n",
       "      <td>4</td>\n",
       "      <td>['Preheat grill to medium high.', 'Combine soy...</td>\n",
       "      <td>toasted sesame oil</td>\n",
       "      <td>7</td>\n",
       "      <td>5.0</td>\n",
       "    </tr>\n",
       "    <tr>\n",
       "      <th>0</th>\n",
       "      <td>Tuna Kabobs</td>\n",
       "      <td>99998</td>\n",
       "      <td>25</td>\n",
       "      <td>Lorac</td>\n",
       "      <td>['219.5', '7233', '8.112', '1.99', '53.917', '...</td>\n",
       "      <td>4</td>\n",
       "      <td>['Preheat grill to medium high.', 'Combine soy...</td>\n",
       "      <td>wasabi powder mixed with</td>\n",
       "      <td>7</td>\n",
       "      <td>5.0</td>\n",
       "    </tr>\n",
       "    <tr>\n",
       "      <th>0</th>\n",
       "      <td>Tuna Kabobs</td>\n",
       "      <td>99998</td>\n",
       "      <td>25</td>\n",
       "      <td>Lorac</td>\n",
       "      <td>['219.5', '7233', '8.112', '1.99', '53.917', '...</td>\n",
       "      <td>4</td>\n",
       "      <td>['Preheat grill to medium high.', 'Combine soy...</td>\n",
       "      <td>water</td>\n",
       "      <td>7</td>\n",
       "      <td>5.0</td>\n",
       "    </tr>\n",
       "  </tbody>\n",
       "</table>\n",
       "</div>"
      ],
      "text/plain": [
       "          name  recipe_id  minutes contributor_id  \\\n",
       "0  Tuna Kabobs      99998       25          Lorac   \n",
       "0  Tuna Kabobs      99998       25          Lorac   \n",
       "0  Tuna Kabobs      99998       25          Lorac   \n",
       "0  Tuna Kabobs      99998       25          Lorac   \n",
       "0  Tuna Kabobs      99998       25          Lorac   \n",
       "\n",
       "                                           nutrition  n_steps  \\\n",
       "0  ['219.5', '7233', '8.112', '1.99', '53.917', '...        4   \n",
       "0  ['219.5', '7233', '8.112', '1.99', '53.917', '...        4   \n",
       "0  ['219.5', '7233', '8.112', '1.99', '53.917', '...        4   \n",
       "0  ['219.5', '7233', '8.112', '1.99', '53.917', '...        4   \n",
       "0  ['219.5', '7233', '8.112', '1.99', '53.917', '...        4   \n",
       "\n",
       "                                               steps  \\\n",
       "0  ['Preheat grill to medium high.', 'Combine soy...   \n",
       "0  ['Preheat grill to medium high.', 'Combine soy...   \n",
       "0  ['Preheat grill to medium high.', 'Combine soy...   \n",
       "0  ['Preheat grill to medium high.', 'Combine soy...   \n",
       "0  ['Preheat grill to medium high.', 'Combine soy...   \n",
       "\n",
       "                ingredients  n_ingredients  rating  \n",
       "0                 soy sauce              7     5.0  \n",
       "0              rice vinegar              7     5.0  \n",
       "0        toasted sesame oil              7     5.0  \n",
       "0  wasabi powder mixed with              7     5.0  \n",
       "0                     water              7     5.0  "
      ]
     },
     "execution_count": 13,
     "metadata": {},
     "output_type": "execute_result"
    }
   ],
   "source": [
    "merged_recipes_exploded = merged_recipes_df.copy()\n",
    "merged_recipes_exploded = merged_recipes_exploded[merged_recipes_exploded['ingredients'] != \"empty ingredients\"]\n",
    "merged_recipes_exploded['ingredients'] = merged_recipes_exploded['ingredients'].apply(literal_eval) \n",
    "merged_recipes_exploded = merged_recipes_exploded.explode('ingredients')\n",
    "merged_recipes_exploded.head()"
   ]
  },
  {
   "cell_type": "markdown",
   "id": "85a99e6f",
   "metadata": {},
   "source": [
    "## Ingredients Stats"
   ]
  },
  {
   "cell_type": "code",
   "execution_count": 14,
   "id": "2146c997",
   "metadata": {},
   "outputs": [
    {
     "data": {
      "text/html": [
       "<div>\n",
       "<style scoped>\n",
       "    .dataframe tbody tr th:only-of-type {\n",
       "        vertical-align: middle;\n",
       "    }\n",
       "\n",
       "    .dataframe tbody tr th {\n",
       "        vertical-align: top;\n",
       "    }\n",
       "\n",
       "    .dataframe thead th {\n",
       "        text-align: right;\n",
       "    }\n",
       "</style>\n",
       "<table border=\"1\" class=\"dataframe\">\n",
       "  <thead>\n",
       "    <tr style=\"text-align: right;\">\n",
       "      <th></th>\n",
       "      <th>ingredients</th>\n",
       "      <th>recipe_count</th>\n",
       "      <th>rating_count</th>\n",
       "      <th>rating_mean</th>\n",
       "      <th>frequency</th>\n",
       "    </tr>\n",
       "  </thead>\n",
       "  <tbody>\n",
       "    <tr>\n",
       "      <th>0</th>\n",
       "      <td></td>\n",
       "      <td>10229</td>\n",
       "      <td>10229</td>\n",
       "      <td>4.338211</td>\n",
       "      <td>0.017536</td>\n",
       "    </tr>\n",
       "    <tr>\n",
       "      <th>1</th>\n",
       "      <td>\"good eats\" cranberry sauce, recipe follows</td>\n",
       "      <td>1</td>\n",
       "      <td>1</td>\n",
       "      <td>4.875000</td>\n",
       "      <td>0.000002</td>\n",
       "    </tr>\n",
       "    <tr>\n",
       "      <th>2</th>\n",
       "      <td>'hearty' chicken stock or broth</td>\n",
       "      <td>1</td>\n",
       "      <td>1</td>\n",
       "      <td>4.636364</td>\n",
       "      <td>0.000002</td>\n",
       "    </tr>\n",
       "    <tr>\n",
       "      <th>3</th>\n",
       "      <td>*note: if you use dehydrated tomatoes ? add a ...</td>\n",
       "      <td>1</td>\n",
       "      <td>1</td>\n",
       "      <td>4.800000</td>\n",
       "      <td>0.000002</td>\n",
       "    </tr>\n",
       "    <tr>\n",
       "      <th>4</th>\n",
       "      <td>*toasted kaiser rolls</td>\n",
       "      <td>1</td>\n",
       "      <td>1</td>\n",
       "      <td>5.000000</td>\n",
       "      <td>0.000002</td>\n",
       "    </tr>\n",
       "  </tbody>\n",
       "</table>\n",
       "</div>"
      ],
      "text/plain": [
       "                                         ingredients  recipe_count  \\\n",
       "0                                                            10229   \n",
       "1        \"good eats\" cranberry sauce, recipe follows             1   \n",
       "2                    'hearty' chicken stock or broth             1   \n",
       "3  *note: if you use dehydrated tomatoes ? add a ...             1   \n",
       "4                              *toasted kaiser rolls             1   \n",
       "\n",
       "   rating_count  rating_mean  frequency  \n",
       "0         10229     4.338211   0.017536  \n",
       "1             1     4.875000   0.000002  \n",
       "2             1     4.636364   0.000002  \n",
       "3             1     4.800000   0.000002  \n",
       "4             1     5.000000   0.000002  "
      ]
     },
     "execution_count": 14,
     "metadata": {},
     "output_type": "execute_result"
    }
   ],
   "source": [
    "exploded_df = merged_recipes_exploded.copy()\n",
    "ingredient_group_df = exploded_df.groupby('ingredients').agg(recipe_count=('recipe_id', 'count'), \\\n",
    "                                                             rating_count=('rating', 'count'), \\\n",
    "                                                             rating_mean=('rating', 'mean'))\n",
    "ingredient_group_df['frequency'] = ingredient_group_df['recipe_count'] / recipes_df.shape[0]\n",
    "ingredient_group_df.reset_index(inplace=True)\n",
    "ingredient_group_df.head()"
   ]
  },
  {
   "cell_type": "markdown",
   "id": "5e206e2c",
   "metadata": {},
   "source": [
    "### Ingredient Score"
   ]
  },
  {
   "cell_type": "code",
   "execution_count": 15,
   "id": "8d949686",
   "metadata": {},
   "outputs": [
    {
     "data": {
      "text/html": [
       "<div>\n",
       "<style scoped>\n",
       "    .dataframe tbody tr th:only-of-type {\n",
       "        vertical-align: middle;\n",
       "    }\n",
       "\n",
       "    .dataframe tbody tr th {\n",
       "        vertical-align: top;\n",
       "    }\n",
       "\n",
       "    .dataframe thead th {\n",
       "        text-align: right;\n",
       "    }\n",
       "</style>\n",
       "<table border=\"1\" class=\"dataframe\">\n",
       "  <thead>\n",
       "    <tr style=\"text-align: right;\">\n",
       "      <th></th>\n",
       "      <th>ingredients</th>\n",
       "      <th>recipe_count</th>\n",
       "      <th>rating_count</th>\n",
       "      <th>rating_mean</th>\n",
       "      <th>frequency</th>\n",
       "    </tr>\n",
       "  </thead>\n",
       "  <tbody>\n",
       "    <tr>\n",
       "      <th>309311</th>\n",
       "      <td>salt</td>\n",
       "      <td>92663</td>\n",
       "      <td>92663</td>\n",
       "      <td>4.293477</td>\n",
       "      <td>0.158857</td>\n",
       "    </tr>\n",
       "    <tr>\n",
       "      <th>340064</th>\n",
       "      <td>sugar</td>\n",
       "      <td>51818</td>\n",
       "      <td>51818</td>\n",
       "      <td>4.272470</td>\n",
       "      <td>0.088834</td>\n",
       "    </tr>\n",
       "    <tr>\n",
       "      <th>374748</th>\n",
       "      <td>water</td>\n",
       "      <td>35611</td>\n",
       "      <td>35611</td>\n",
       "      <td>4.241015</td>\n",
       "      <td>0.061050</td>\n",
       "    </tr>\n",
       "    <tr>\n",
       "      <th>40919</th>\n",
       "      <td>butter</td>\n",
       "      <td>34276</td>\n",
       "      <td>34276</td>\n",
       "      <td>4.323757</td>\n",
       "      <td>0.058761</td>\n",
       "    </tr>\n",
       "    <tr>\n",
       "      <th>242700</th>\n",
       "      <td>olive oil</td>\n",
       "      <td>33539</td>\n",
       "      <td>33539</td>\n",
       "      <td>4.380756</td>\n",
       "      <td>0.057498</td>\n",
       "    </tr>\n",
       "  </tbody>\n",
       "</table>\n",
       "</div>"
      ],
      "text/plain": [
       "       ingredients  recipe_count  rating_count  rating_mean  frequency\n",
       "309311        salt         92663         92663     4.293477   0.158857\n",
       "340064       sugar         51818         51818     4.272470   0.088834\n",
       "374748       water         35611         35611     4.241015   0.061050\n",
       "40919       butter         34276         34276     4.323757   0.058761\n",
       "242700   olive oil         33539         33539     4.380756   0.057498"
      ]
     },
     "execution_count": 15,
     "metadata": {},
     "output_type": "execute_result"
    }
   ],
   "source": [
    "# Count the used ingredients\n",
    "ingredients_stat_df = ingredient_group_df.copy()\n",
    "ingredients_stat_df = ingredients_stat_df.sort_values(by=['frequency'], ascending=False, axis=0)\n",
    "ingredients_stat_df.head()"
   ]
  },
  {
   "cell_type": "markdown",
   "id": "8c3522f4",
   "metadata": {},
   "source": [
    "### Frequency of ingredients used"
   ]
  },
  {
   "cell_type": "code",
   "execution_count": 16,
   "id": "b5a7f4f1",
   "metadata": {
    "scrolled": true
   },
   "outputs": [
    {
     "data": {
      "text/html": [
       "<div>\n",
       "<style scoped>\n",
       "    .dataframe tbody tr th:only-of-type {\n",
       "        vertical-align: middle;\n",
       "    }\n",
       "\n",
       "    .dataframe tbody tr th {\n",
       "        vertical-align: top;\n",
       "    }\n",
       "\n",
       "    .dataframe thead th {\n",
       "        text-align: right;\n",
       "    }\n",
       "</style>\n",
       "<table border=\"1\" class=\"dataframe\">\n",
       "  <thead>\n",
       "    <tr style=\"text-align: right;\">\n",
       "      <th></th>\n",
       "      <th>ingredients</th>\n",
       "      <th>frequency</th>\n",
       "    </tr>\n",
       "  </thead>\n",
       "  <tbody>\n",
       "    <tr>\n",
       "      <th>309311</th>\n",
       "      <td>salt</td>\n",
       "      <td>0.158857</td>\n",
       "    </tr>\n",
       "    <tr>\n",
       "      <th>340064</th>\n",
       "      <td>sugar</td>\n",
       "      <td>0.088834</td>\n",
       "    </tr>\n",
       "    <tr>\n",
       "      <th>374748</th>\n",
       "      <td>water</td>\n",
       "      <td>0.061050</td>\n",
       "    </tr>\n",
       "    <tr>\n",
       "      <th>40919</th>\n",
       "      <td>butter</td>\n",
       "      <td>0.058761</td>\n",
       "    </tr>\n",
       "    <tr>\n",
       "      <th>242700</th>\n",
       "      <td>olive oil</td>\n",
       "      <td>0.057498</td>\n",
       "    </tr>\n",
       "  </tbody>\n",
       "</table>\n",
       "</div>"
      ],
      "text/plain": [
       "       ingredients  frequency\n",
       "309311        salt   0.158857\n",
       "340064       sugar   0.088834\n",
       "374748       water   0.061050\n",
       "40919       butter   0.058761\n",
       "242700   olive oil   0.057498"
      ]
     },
     "execution_count": 16,
     "metadata": {},
     "output_type": "execute_result"
    }
   ],
   "source": [
    "frequency_df = ingredients_stat_df.copy()\n",
    "frequency_df = frequency_df[['ingredients','frequency']]\n",
    "frequency_df.head()"
   ]
  },
  {
   "cell_type": "markdown",
   "id": "f24d7efe",
   "metadata": {},
   "source": [
    "### Top 10 popular Ingredients in the Dataset"
   ]
  },
  {
   "cell_type": "code",
   "execution_count": 17,
   "id": "85a9b819",
   "metadata": {},
   "outputs": [
    {
     "data": {
      "image/png": "[encoded data removed]",
      "text/plain": [
       "<Figure size 432x288 with 1 Axes>"
      ]
     },
     "metadata": {
      "needs_background": "light"
     },
     "output_type": "display_data"
    }
   ],
   "source": [
    "frequency_chart = frequency_df.iloc[0:10]\n",
    "ax = frequency_chart.plot.bar(x='ingredients', xlabel='Ingredients', y='frequency', ylabel=\"Frequency (%)\")"
   ]
  },
  {
   "cell_type": "markdown",
   "id": "b116f22d",
   "metadata": {},
   "source": [
    "## Cooking Time"
   ]
  },
  {
   "cell_type": "markdown",
   "id": "01c5edea",
   "metadata": {},
   "source": [
    "### Distribution of recipes by minutes of preparation"
   ]
  },
  {
   "cell_type": "code",
   "execution_count": 18,
   "id": "9ca660fa",
   "metadata": {
    "scrolled": true
   },
   "outputs": [
    {
     "data": {
      "text/html": [
       "<div>\n",
       "<style scoped>\n",
       "    .dataframe tbody tr th:only-of-type {\n",
       "        vertical-align: middle;\n",
       "    }\n",
       "\n",
       "    .dataframe tbody tr th {\n",
       "        vertical-align: top;\n",
       "    }\n",
       "\n",
       "    .dataframe thead th {\n",
       "        text-align: right;\n",
       "    }\n",
       "</style>\n",
       "<table border=\"1\" class=\"dataframe\">\n",
       "  <thead>\n",
       "    <tr style=\"text-align: right;\">\n",
       "      <th></th>\n",
       "      <th>time</th>\n",
       "      <th>recipe_count</th>\n",
       "    </tr>\n",
       "  </thead>\n",
       "  <tbody>\n",
       "    <tr>\n",
       "      <th>0</th>\n",
       "      <td>0</td>\n",
       "      <td>12882</td>\n",
       "    </tr>\n",
       "    <tr>\n",
       "      <th>1</th>\n",
       "      <td>30</td>\n",
       "      <td>230181</td>\n",
       "    </tr>\n",
       "    <tr>\n",
       "      <th>2</th>\n",
       "      <td>60</td>\n",
       "      <td>172751</td>\n",
       "    </tr>\n",
       "    <tr>\n",
       "      <th>3</th>\n",
       "      <td>90</td>\n",
       "      <td>74736</td>\n",
       "    </tr>\n",
       "    <tr>\n",
       "      <th>4</th>\n",
       "      <td>120</td>\n",
       "      <td>18834</td>\n",
       "    </tr>\n",
       "  </tbody>\n",
       "</table>\n",
       "</div>"
      ],
      "text/plain": [
       "   time  recipe_count\n",
       "0     0         12882\n",
       "1    30        230181\n",
       "2    60        172751\n",
       "3    90         74736\n",
       "4   120         18834"
      ]
     },
     "execution_count": 18,
     "metadata": {},
     "output_type": "execute_result"
    }
   ],
   "source": [
    "time_distribution_df = recipes_df.copy()\n",
    "time_distribution_df['time'] = np.where(recipes_df['minutes'] % 30 == 0 , (recipes_df['minutes'] / 30).astype(int) * 30, ((recipes_df['minutes'] / 30 ).astype(int) + 1) * 30) \n",
    "time_distribution_df = time_distribution_df[['time','id']]\n",
    "time_distribution_df = time_distribution_df.groupby('time').count()\n",
    "time_distribution_df.reset_index(inplace=True)\n",
    "time_distribution_df = time_distribution_df.rename({'id':'recipe_count'}, axis=1)\n",
    "time_distribution_df.head()"
   ]
  },
  {
   "cell_type": "code",
   "execution_count": 19,
   "id": "04e616e7",
   "metadata": {},
   "outputs": [
    {
     "data": {
      "image/png": "[encoded data removed]",
      "text/plain": [
       "<Figure size 432x288 with 1 Axes>"
      ]
     },
     "metadata": {
      "needs_background": "light"
     },
     "output_type": "display_data"
    }
   ],
   "source": [
    "time_distribution_graph = time_distribution_df.iloc[0:10]\n",
    "ax = time_distribution_graph.plot.bar(x='time', xlabel='Time (in minutes)', y='recipe_count', ylabel=\"Recipe Count\")"
   ]
  },
  {
   "cell_type": "markdown",
   "id": "ffd95a3c",
   "metadata": {},
   "source": [
    "## Correlation "
   ]
  },
  {
   "cell_type": "code",
   "execution_count": 22,
   "id": "bbcd9df7",
   "metadata": {},
   "outputs": [
    {
     "data": {
      "text/html": [
       "<div>\n",
       "<style scoped>\n",
       "    .dataframe tbody tr th:only-of-type {\n",
       "        vertical-align: middle;\n",
       "    }\n",
       "\n",
       "    .dataframe tbody tr th {\n",
       "        vertical-align: top;\n",
       "    }\n",
       "\n",
       "    .dataframe thead th {\n",
       "        text-align: right;\n",
       "    }\n",
       "</style>\n",
       "<table border=\"1\" class=\"dataframe\">\n",
       "  <thead>\n",
       "    <tr style=\"text-align: right;\">\n",
       "      <th></th>\n",
       "      <th>recipe_id</th>\n",
       "      <th>minutes</th>\n",
       "      <th>n_ingredients</th>\n",
       "      <th>n_steps</th>\n",
       "      <th>rating</th>\n",
       "    </tr>\n",
       "  </thead>\n",
       "  <tbody>\n",
       "    <tr>\n",
       "      <th>0</th>\n",
       "      <td>99998</td>\n",
       "      <td>25</td>\n",
       "      <td>7</td>\n",
       "      <td>4</td>\n",
       "      <td>5.0</td>\n",
       "    </tr>\n",
       "    <tr>\n",
       "      <th>1</th>\n",
       "      <td>99996</td>\n",
       "      <td>5</td>\n",
       "      <td>6</td>\n",
       "      <td>3</td>\n",
       "      <td>5.0</td>\n",
       "    </tr>\n",
       "    <tr>\n",
       "      <th>2</th>\n",
       "      <td>99995</td>\n",
       "      <td>45</td>\n",
       "      <td>7</td>\n",
       "      <td>7</td>\n",
       "      <td>4.8</td>\n",
       "    </tr>\n",
       "    <tr>\n",
       "      <th>3</th>\n",
       "      <td>99994</td>\n",
       "      <td>45</td>\n",
       "      <td>5</td>\n",
       "      <td>3</td>\n",
       "      <td>4.5</td>\n",
       "    </tr>\n",
       "    <tr>\n",
       "      <th>4</th>\n",
       "      <td>99992</td>\n",
       "      <td>125</td>\n",
       "      <td>5</td>\n",
       "      <td>4</td>\n",
       "      <td>4.6</td>\n",
       "    </tr>\n",
       "  </tbody>\n",
       "</table>\n",
       "</div>"
      ],
      "text/plain": [
       "   recipe_id  minutes  n_ingredients  n_steps  rating\n",
       "0      99998       25              7        4     5.0\n",
       "1      99996        5              6        3     5.0\n",
       "2      99995       45              7        7     4.8\n",
       "3      99994       45              5        3     4.5\n",
       "4      99992      125              5        4     4.6"
      ]
     },
     "execution_count": 22,
     "metadata": {},
     "output_type": "execute_result"
    }
   ],
   "source": [
    "corr_df = merged_recipes_df.copy()\n",
    "corr_df = corr_df[['recipe_id','minutes','n_ingredients','n_steps','rating']]\n",
    "corr_df.set_index('recipe_id')\n",
    "corr_df.head()"
   ]
  },
  {
   "cell_type": "markdown",
   "id": "7df0bdbd",
   "metadata": {},
   "source": [
    "### Correlation between minutes and ratings"
   ]
  },
  {
   "cell_type": "code",
   "execution_count": 23,
   "id": "9d115132",
   "metadata": {},
   "outputs": [
    {
     "name": "stdout",
     "output_type": "stream",
     "text": [
      "-0.003792846761259732\n"
     ]
    }
   ],
   "source": [
    "correlation = corr_df['rating'].corr(corr_df['minutes'])\n",
    "print(correlation)"
   ]
  },
  {
   "cell_type": "markdown",
   "id": "90b4b4c7",
   "metadata": {},
   "source": [
    "### Correlation matrix"
   ]
  },
  {
   "cell_type": "code",
   "execution_count": 24,
   "id": "197c28cf",
   "metadata": {},
   "outputs": [
    {
     "data": {
      "text/plain": [
       "<AxesSubplot:>"
      ]
     },
     "execution_count": 24,
     "metadata": {},
     "output_type": "execute_result"
    },
    {
     "data": {
      "image/png": "[encoded data removed]",
      "text/plain": [
       "<Figure size 432x288 with 2 Axes>"
      ]
     },
     "metadata": {
      "needs_background": "light"
     },
     "output_type": "display_data"
    }
   ],
   "source": [
    "heatmap_df = corr_df.copy()\n",
    "heatmap_df = heatmap_df.drop('recipe_id', axis=1)\n",
    "sns.heatmap(heatmap_df.corr())"
   ]
  },
  {
   "cell_type": "markdown",
   "id": "bbdd8be3",
   "metadata": {},
   "source": [
    "### Correlation between Ingredients"
   ]
  },
  {
   "cell_type": "code",
   "execution_count": 117,
   "id": "e073f14f",
   "metadata": {
    "scrolled": false
   },
   "outputs": [
    {
     "name": "stderr",
     "output_type": "stream",
     "text": [
      "/var/folders/5b/0vdy5nmd29z46fdb__gqk64h0000gn/T/ipykernel_43405/1044490000.py:8: FutureWarning: In a future version of pandas all arguments of concat except for the argument 'objs' will be keyword-only.\n",
      "  ingredients_dummies = pd.concat([ingredients_subset[['recipe_id']], pd.get_dummies(ingredients_subset.ingredients)], 1).groupby(['recipe_id']).sum().reset_index()\n"
     ]
    },
    {
     "data": {
      "text/html": [
       "<div>\n",
       "<style scoped>\n",
       "    .dataframe tbody tr th:only-of-type {\n",
       "        vertical-align: middle;\n",
       "    }\n",
       "\n",
       "    .dataframe tbody tr th {\n",
       "        vertical-align: top;\n",
       "    }\n",
       "\n",
       "    .dataframe thead th {\n",
       "        text-align: right;\n",
       "    }\n",
       "</style>\n",
       "<table border=\"1\" class=\"dataframe\">\n",
       "  <thead>\n",
       "    <tr style=\"text-align: right;\">\n",
       "      <th></th>\n",
       "      <th>recipe_id</th>\n",
       "      <th>all purpose flour</th>\n",
       "      <th>baking powder</th>\n",
       "      <th>baking soda</th>\n",
       "      <th>brown sugar</th>\n",
       "      <th>butter</th>\n",
       "      <th>cinnamon</th>\n",
       "      <th>egg</th>\n",
       "      <th>eggs</th>\n",
       "      <th>flour</th>\n",
       "      <th>...</th>\n",
       "      <th>milk</th>\n",
       "      <th>olive oil</th>\n",
       "      <th>onion chopped</th>\n",
       "      <th>pepper</th>\n",
       "      <th>salt</th>\n",
       "      <th>salt and pepper</th>\n",
       "      <th>sugar</th>\n",
       "      <th>vanilla</th>\n",
       "      <th>vegetable oil</th>\n",
       "      <th>water</th>\n",
       "    </tr>\n",
       "  </thead>\n",
       "  <tbody>\n",
       "    <tr>\n",
       "      <th>0</th>\n",
       "      <td>0</td>\n",
       "      <td>1</td>\n",
       "      <td>1</td>\n",
       "      <td>0</td>\n",
       "      <td>0</td>\n",
       "      <td>0</td>\n",
       "      <td>1</td>\n",
       "      <td>1</td>\n",
       "      <td>0</td>\n",
       "      <td>0</td>\n",
       "      <td>...</td>\n",
       "      <td>2</td>\n",
       "      <td>0</td>\n",
       "      <td>0</td>\n",
       "      <td>0</td>\n",
       "      <td>1</td>\n",
       "      <td>0</td>\n",
       "      <td>1</td>\n",
       "      <td>0</td>\n",
       "      <td>0</td>\n",
       "      <td>0</td>\n",
       "    </tr>\n",
       "    <tr>\n",
       "      <th>1</th>\n",
       "      <td>1</td>\n",
       "      <td>0</td>\n",
       "      <td>0</td>\n",
       "      <td>0</td>\n",
       "      <td>0</td>\n",
       "      <td>0</td>\n",
       "      <td>0</td>\n",
       "      <td>0</td>\n",
       "      <td>0</td>\n",
       "      <td>0</td>\n",
       "      <td>...</td>\n",
       "      <td>0</td>\n",
       "      <td>1</td>\n",
       "      <td>0</td>\n",
       "      <td>0</td>\n",
       "      <td>0</td>\n",
       "      <td>0</td>\n",
       "      <td>0</td>\n",
       "      <td>0</td>\n",
       "      <td>0</td>\n",
       "      <td>0</td>\n",
       "    </tr>\n",
       "    <tr>\n",
       "      <th>2</th>\n",
       "      <td>2</td>\n",
       "      <td>0</td>\n",
       "      <td>0</td>\n",
       "      <td>0</td>\n",
       "      <td>0</td>\n",
       "      <td>0</td>\n",
       "      <td>0</td>\n",
       "      <td>0</td>\n",
       "      <td>0</td>\n",
       "      <td>0</td>\n",
       "      <td>...</td>\n",
       "      <td>0</td>\n",
       "      <td>1</td>\n",
       "      <td>0</td>\n",
       "      <td>0</td>\n",
       "      <td>0</td>\n",
       "      <td>0</td>\n",
       "      <td>0</td>\n",
       "      <td>0</td>\n",
       "      <td>0</td>\n",
       "      <td>0</td>\n",
       "    </tr>\n",
       "    <tr>\n",
       "      <th>3</th>\n",
       "      <td>3</td>\n",
       "      <td>0</td>\n",
       "      <td>0</td>\n",
       "      <td>0</td>\n",
       "      <td>0</td>\n",
       "      <td>0</td>\n",
       "      <td>0</td>\n",
       "      <td>0</td>\n",
       "      <td>0</td>\n",
       "      <td>0</td>\n",
       "      <td>...</td>\n",
       "      <td>0</td>\n",
       "      <td>1</td>\n",
       "      <td>0</td>\n",
       "      <td>0</td>\n",
       "      <td>0</td>\n",
       "      <td>0</td>\n",
       "      <td>0</td>\n",
       "      <td>0</td>\n",
       "      <td>0</td>\n",
       "      <td>0</td>\n",
       "    </tr>\n",
       "    <tr>\n",
       "      <th>4</th>\n",
       "      <td>5</td>\n",
       "      <td>0</td>\n",
       "      <td>0</td>\n",
       "      <td>0</td>\n",
       "      <td>0</td>\n",
       "      <td>0</td>\n",
       "      <td>0</td>\n",
       "      <td>0</td>\n",
       "      <td>1</td>\n",
       "      <td>0</td>\n",
       "      <td>...</td>\n",
       "      <td>0</td>\n",
       "      <td>0</td>\n",
       "      <td>0</td>\n",
       "      <td>0</td>\n",
       "      <td>0</td>\n",
       "      <td>0</td>\n",
       "      <td>0</td>\n",
       "      <td>0</td>\n",
       "      <td>0</td>\n",
       "      <td>0</td>\n",
       "    </tr>\n",
       "  </tbody>\n",
       "</table>\n",
       "<p>5 rows × 21 columns</p>\n",
       "</div>"
      ],
      "text/plain": [
       "   recipe_id  all purpose flour  baking powder  baking soda  brown sugar  \\\n",
       "0          0                  1              1            0            0   \n",
       "1          1                  0              0            0            0   \n",
       "2          2                  0              0            0            0   \n",
       "3          3                  0              0            0            0   \n",
       "4          5                  0              0            0            0   \n",
       "\n",
       "   butter  cinnamon  egg  eggs  flour  ...  milk  olive oil  onion chopped  \\\n",
       "0       0         1    1     0      0  ...     2          0              0   \n",
       "1       0         0    0     0      0  ...     0          1              0   \n",
       "2       0         0    0     0      0  ...     0          1              0   \n",
       "3       0         0    0     0      0  ...     0          1              0   \n",
       "4       0         0    0     1      0  ...     0          0              0   \n",
       "\n",
       "   pepper  salt  salt and pepper  sugar  vanilla  vegetable oil  water  \n",
       "0       0     1                0      1        0              0      0  \n",
       "1       0     0                0      0        0              0      0  \n",
       "2       0     0                0      0        0              0      0  \n",
       "3       0     0                0      0        0              0      0  \n",
       "4       0     0                0      0        0              0      0  \n",
       "\n",
       "[5 rows x 21 columns]"
      ]
     },
     "execution_count": 117,
     "metadata": {},
     "output_type": "execute_result"
    }
   ],
   "source": [
    "# \n",
    "start = 0\n",
    "end = start+20\n",
    "subset_count_ingredients = ingredient_group_df.copy()\n",
    "subset_count_ingredients = subset_count_ingredients.sort_values(by='recipe_count',ascending=False)\n",
    "subset_count_ingredients = subset_count_ingredients.iloc[start:end]\n",
    "ingredients_subset = pd.merge(merged_recipes_exploded, subset_count_ingredients, how='inner', on=['ingredients'])\n",
    "ingredients_dummies = pd.concat([ingredients_subset[['recipe_id']], pd.get_dummies(ingredients_subset.ingredients)], 1).groupby(['recipe_id']).sum().reset_index()\n",
    "ingredients_dummies.head()"
   ]
  },
  {
   "cell_type": "code",
   "execution_count": 119,
   "id": "095bdff6",
   "metadata": {},
   "outputs": [
    {
     "data": {
      "image/png": "[encoded data removed]",
      "text/plain": [
       "<Figure size 1368x1080 with 2 Axes>"
      ]
     },
     "metadata": {
      "needs_background": "light"
     },
     "output_type": "display_data"
    }
   ],
   "source": [
    "df = ingredients_dummies.copy()\n",
    "df = df.drop(['recipe_id'], axis=1)\n",
    "df = df.sample(n=20, axis='columns')\n",
    "f = plt.figure(figsize=(19, 15))\n",
    "plt.matshow(df.corr(), fignum=f.number)\n",
    "plt.xticks(range(df.select_dtypes(['number']).shape[1]), df.select_dtypes(['number']).columns, fontsize=14, rotation=45)\n",
    "plt.yticks(range(df.select_dtypes(['number']).shape[1]), df.select_dtypes(['number']).columns, fontsize=14)\n",
    "cb = plt.colorbar()\n",
    "cb.ax.tick_params(labelsize=14)\n",
    "plt.title('Correlation Matrix', fontsize=16);"
   ]
  },
  {
   "cell_type": "markdown",
   "id": "4aa645b9",
   "metadata": {},
   "source": [
    "## Distribution of no of ingredients per recipe "
   ]
  },
  {
   "cell_type": "code",
   "execution_count": 28,
   "id": "b0be75b7",
   "metadata": {},
   "outputs": [
    {
     "data": {
      "image/png": "[encoded data removed]",
      "text/plain": [
       "<Figure size 1152x288 with 1 Axes>"
      ]
     },
     "metadata": {
      "needs_background": "light"
     },
     "output_type": "display_data"
    }
   ],
   "source": [
    "distribution_df = recipes_df.groupby(['n_ingredients']).size().reset_index(name='# of ingredients')\n",
    "distribution_df = distribution_df[distribution_df['n_ingredients'] < 50]\n",
    "distribution_df.shape\n",
    "\n",
    "fig = plt.figure(figsize=(16, 4))\n",
    "plt.grid()\n",
    "plt.title('Distribution of no of ingredients per recipe ', fontsize=15)\n",
    "\n",
    "\n",
    "line_chart = sns.barplot(x='n_ingredients', y='# of ingredients', data=distribution_df)\n",
    "# line_chart.set(ylim=(0, distribution_df['# of ingredients'].max()))"
   ]
  },
  {
   "cell_type": "markdown",
   "id": "87f44678",
   "metadata": {},
   "source": [
    "## Average rating per number of ingredients"
   ]
  },
  {
   "cell_type": "code",
   "execution_count": 29,
   "id": "b25d95b1",
   "metadata": {},
   "outputs": [
    {
     "data": {
      "image/png": "[encoded data removed]",
      "text/plain": [
       "<Figure size 1152x288 with 1 Axes>"
      ]
     },
     "metadata": {
      "needs_background": "light"
     },
     "output_type": "display_data"
    }
   ],
   "source": [
    "average_rating_per_no_ingredients = ratings_df.groupby(['recipe_id'], as_index=False)['rating'].mean()\n",
    "average_rating_per_no_ingredients.rename(columns={'recipe_id': 'id'}, inplace=True)\n",
    "\n",
    "average_rating_per_no_ingredients_m = recipes_df.merge(average_rating_per_no_ingredients, on='id')\n",
    "average_rating_per_no_ingredients_m\n",
    "\n",
    "fig = plt.figure(figsize=(16, 4))\n",
    "plt.grid()\n",
    "plt.title('Average rating per number of ingredients ', fontsize=15)\n",
    "\n",
    "\n",
    "line_chart = sns.barplot(x='n_ingredients', y='rating', data=average_rating_per_no_ingredients_m, ci=None)\n",
    "\n",
    "for ind, label in enumerate(line_chart.get_xticklabels()):\n",
    "    if ind % 10 == 0:  # every 9th label is kept\n",
    "        label.set_visible(True)\n",
    "    else:\n",
    "        label.set_visible(False)\n",
    "# line_chart.set(ylim=(0, distribution_df['rating'].max()))"
   ]
  },
  {
   "cell_type": "markdown",
   "id": "3b35ea66",
   "metadata": {},
   "source": [
    "## Average number of nutritional elements, for every rating."
   ]
  },
  {
   "cell_type": "code",
   "execution_count": 40,
   "id": "c084f1f3",
   "metadata": {},
   "outputs": [
    {
     "data": {
      "image/png": "[encoded data removed]",
      "text/plain": [
       "<Figure size 1152x1152 with 6 Axes>"
      ]
     },
     "metadata": {
      "needs_background": "light"
     },
     "output_type": "display_data"
    }
   ],
   "source": [
    "average_rating_per_no_ingredients_df = average_rating_per_no_ingredients_m.copy()\n",
    "average_rating_per_no_ingredients_df = average_rating_per_no_ingredients_df[\n",
    "    average_rating_per_no_ingredients_df['nutrition'] != \"[]\"]\n",
    "average_rating_per_no_ingredients_df['nutrition'] = average_rating_per_no_ingredients_df['nutrition'].apply(literal_eval)\n",
    "average_rating_per_no_ingredients_m_exploded = average_rating_per_no_ingredients_df.explode(\"nutrition\")\n",
    "average_rating_per_no_ingredients_df = average_rating_per_no_ingredients_df[\n",
    "    average_rating_per_no_ingredients_df['nutrition'] != \"''\"]\n",
    "nutrition_info = ['calories (#)', 'total fat (PDV)', 'sugar (PDV)', 'sodium (PDV)', 'protein (PDV)', 'saturated fat']\n",
    "nutrition_df = pd.DataFrame()\n",
    "all_nutrition_df = pd.DataFrame()\n",
    "\n",
    "plt.figure(figsize=(16, 16))\n",
    "\n",
    "for index, nutrition in enumerate(nutrition_info):\n",
    "    nutrition_df = average_rating_per_no_ingredients_m_exploded.groupby('id').nth(index)\n",
    "    nutrition_df = nutrition_df[['rating', 'nutrition']]\n",
    "    nutrition_df['nutrition'] = nutrition_df['nutrition'].str.replace(\"RE\", \"\")\n",
    "    nutrition_df['nutrition'] = nutrition_df['nutrition'].apply(lambda x: x if x != '' else 0.0)\n",
    "    nutrition_df['nutrition'] = nutrition_df['nutrition'].astype(float)\n",
    "    nutrition_df = nutrition_df.groupby(['rating'])['nutrition'].apply(np.mean).reset_index()\n",
    "    if('rating' not in list(all_nutrition_df.columns.values)):\n",
    "        all_nutrition_df['rating'] = nutrition_df['rating']\n",
    "    all_nutrition_df[nutrition] = nutrition_df['nutrition']\n",
    "    plt.subplot(3, 2, index+1)\n",
    "    plt.title('hexplot of ratings vs ' + nutrition, fontsize=15)\n",
    "    hexplot_chart = plt.hexbin(x=all_nutrition_df['rating'], y=all_nutrition_df[nutrition], gridsize=20, bins='log', cmap='Greys')\n",
    "    plt.xlabel(\"rating\", fontsize=10)\n",
    "    plt.ylabel(nutrition,fontsize=10) \n",
    "    plt.tight_layout()"
   ]
  },
  {
   "cell_type": "code",
   "execution_count": null,
   "id": "95373b3c",
   "metadata": {},
   "outputs": [],
   "source": []
  }
 ],
 "metadata": {
  "kernelspec": {
   "display_name": "Python 3 (ipykernel)",
   "language": "python",
   "name": "python3"
  },
  "language_info": {
   "codemirror_mode": {
    "name": "ipython",
    "version": 3
   },
   "file_extension": ".py",
   "mimetype": "text/x-python",
   "name": "python",
   "nbconvert_exporter": "python",
   "pygments_lexer": "ipython3",
   "version": "3.9.7"
  }
 },
 "nbformat": 4,
 "nbformat_minor": 5
}
