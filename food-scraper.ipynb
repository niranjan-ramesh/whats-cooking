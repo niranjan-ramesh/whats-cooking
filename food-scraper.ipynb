{
 "cells": [
  {
   "cell_type": "code",
   "execution_count": 24,
   "metadata": {},
   "outputs": [
    {
     "name": "stderr",
     "output_type": "stream",
     "text": [
      "/var/folders/lw/4hhwbl4d4q1dfpb0z8l91sr40000gn/T/ipykernel_55263/552557789.py:8: DeprecationWarning: executable_path has been deprecated, please pass in a Service object\n",
      "  driver = webdriver.Chrome(executable_path=r\"/Users/ninja/Downloads/chromedriver\", options=op)\n",
      "/var/folders/lw/4hhwbl4d4q1dfpb0z8l91sr40000gn/T/ipykernel_55263/552557789.py:11: DeprecationWarning: find_element_by_* commands are deprecated. Please use find_element() instead\n",
      "  driver.find_element_by_css_selector('.gk-aa-load-more').click()\n"
     ]
    }
   ],
   "source": [
    "import time\n",
    "from bs4 import BeautifulSoup\n",
    "from selenium import webdriver\n",
    "\n",
    "op = webdriver.ChromeOptions()\n",
    "op.add_argument('headless')\n",
    "\n",
    "driver = webdriver.Chrome(executable_path=r\"/Users/ninja/Downloads/chromedriver\", options=op)\n",
    "driver.get(\"https://www.food.com/recipe\")\n",
    "time.sleep(2)  \n",
    "driver.find_element_by_css_selector('.gk-aa-load-more').click()\n",
    "scroll_pause_time = 2 \n",
    "screen_height = driver.execute_script(\"return window.screen.height;\")   \n",
    "i = 1\n",
    "\n",
    "while True:\n",
    "    \n",
    "    driver.execute_script(\"window.scrollTo(0, {screen_height}*{i});\".format(screen_height=screen_height, i=i))  \n",
    "    i += 1\n",
    "    time.sleep(scroll_pause_time)\n",
    "    \n",
    "    scroll_height = driver.execute_script(\"return document.body.scrollHeight;\")  \n",
    "    \n",
    "    if (screen_height) * i > scroll_height:\n",
    "        break\n",
    "\n",
    "soup = BeautifulSoup(driver.page_source, \"html.parser\")\n",
    "with open(\"output1.html\", \"w\") as file:\n",
    "    file.write(str(soup))"
   ]
  },
  {
   "cell_type": "code",
   "execution_count": 1,
   "metadata": {},
   "outputs": [
    {
     "ename": "NameError",
     "evalue": "name 'connect' is not defined",
     "output_type": "error",
     "traceback": [
      "\u001b[0;31m---------------------------------------------------------------------------\u001b[0m",
      "\u001b[0;31mNameError\u001b[0m                                 Traceback (most recent call last)",
      "\u001b[1;32m/Users/ninja/Documents/Spring22/CMPT733/whats-cooking/food-scraper.ipynb Cell 2'\u001b[0m in \u001b[0;36m<module>\u001b[0;34m\u001b[0m\n\u001b[1;32m      <a href='vscode-notebook-cell:/Users/ninja/Documents/Spring22/CMPT733/whats-cooking/food-scraper.ipynb#ch0000001?line=0'>1</a>\u001b[0m \u001b[39m# from dataprep.connector import connect\u001b[39;00m\n\u001b[0;32m----> <a href='vscode-notebook-cell:/Users/ninja/Documents/Spring22/CMPT733/whats-cooking/food-scraper.ipynb#ch0000001?line=2'>3</a>\u001b[0m anime_connector \u001b[39m=\u001b[39m connect(\u001b[39m\"\u001b[39m\u001b[39m./food\u001b[39m\u001b[39m\"\u001b[39m)\n\u001b[1;32m      <a href='vscode-notebook-cell:/Users/ninja/Documents/Spring22/CMPT733/whats-cooking/food-scraper.ipynb#ch0000001?line=3'>4</a>\u001b[0m \u001b[39m# ranked_animes = await anime_connector.query('food', q='topic:python+topic:distributed+topic:machine-learning')\u001b[39;00m\n\u001b[1;32m      <a href='vscode-notebook-cell:/Users/ninja/Documents/Spring22/CMPT733/whats-cooking/food-scraper.ipynb#ch0000001?line=4'>5</a>\u001b[0m \u001b[39mprint\u001b[39m(\u001b[39m'\u001b[39m\u001b[39mtest\u001b[39m\u001b[39m'\u001b[39m)\n",
      "\u001b[0;31mNameError\u001b[0m: name 'connect' is not defined"
     ]
    }
   ],
   "source": [
    "# from dataprep.connector import connect\n",
    "\n",
    "# anime_connector = connect(\"./food\")\n",
    "# ranked_animes = await anime_connector.query('food', q='topic:python+topic:distributed+topic:machine-learning')\n",
    "print('test')\n",
    "# print(ranked_animes)\n",
    "\n",
    "    "
   ]
  }
 ],
 "metadata": {
  "interpreter": {
   "hash": "86dba72ce755bfcab99de1af17cfe306770ace594e233a2cc90aea7b42b79bab"
  },
  "kernelspec": {
   "display_name": "Python 3.8.12 64-bit ('nn': conda)",
   "language": "python",
   "name": "python3"
  },
  "language_info": {
   "codemirror_mode": {
    "name": "ipython",
    "version": 3
   },
   "file_extension": ".py",
   "mimetype": "text/x-python",
   "name": "python",
   "nbconvert_exporter": "python",
   "pygments_lexer": "ipython3",
   "version": "3.8.12"
  },
  "orig_nbformat": 4
 },
 "nbformat": 4,
 "nbformat_minor": 2
}
