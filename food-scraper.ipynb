{
 "cells": [
  {
   "cell_type": "code",
   "execution_count": 24,
   "metadata": {},
   "outputs": [
    {
     "name": "stderr",
     "output_type": "stream",
     "text": [
      "/var/folders/lw/4hhwbl4d4q1dfpb0z8l91sr40000gn/T/ipykernel_55263/552557789.py:8: DeprecationWarning: executable_path has been deprecated, please pass in a Service object\n",
      "  driver = webdriver.Chrome(executable_path=r\"/Users/ninja/Downloads/chromedriver\", options=op)\n",
      "/var/folders/lw/4hhwbl4d4q1dfpb0z8l91sr40000gn/T/ipykernel_55263/552557789.py:11: DeprecationWarning: find_element_by_* commands are deprecated. Please use find_element() instead\n",
      "  driver.find_element_by_css_selector('.gk-aa-load-more').click()\n"
     ]
    }
   ],
   "source": [
    "import time\n",
    "from bs4 import BeautifulSoup\n",
    "from selenium import webdriver\n",
    "\n",
    "op = webdriver.ChromeOptions()\n",
    "op.add_argument('headless')\n",
    "\n",
    "driver = webdriver.Chrome(executable_path=r\"/Users/ninja/Downloads/chromedriver\", options=op)\n",
    "driver.get(\"https://www.food.com/recipe\")\n",
    "time.sleep(2)  \n",
    "driver.find_element_by_css_selector('.gk-aa-load-more').click()\n",
    "scroll_pause_time = 2 \n",
    "screen_height = driver.execute_script(\"return window.screen.height;\")   \n",
    "i = 1\n",
    "\n",
    "while True:\n",
    "    \n",
    "    driver.execute_script(\"window.scrollTo(0, {screen_height}*{i});\".format(screen_height=screen_height, i=i))  \n",
    "    i += 1\n",
    "    time.sleep(scroll_pause_time)\n",
    "    \n",
    "    scroll_height = driver.execute_script(\"return document.body.scrollHeight;\")  \n",
    "    \n",
    "    if (screen_height) * i > scroll_height:\n",
    "        break\n",
    "\n",
    "soup = BeautifulSoup(driver.page_source, \"html.parser\")\n",
    "with open(\"output1.html\", \"w\") as file:\n",
    "    file.write(str(soup))"
   ]
  },
  {
   "cell_type": "code",
   "execution_count": 1,
   "metadata": {},
   "outputs": [
    {
     "ename": "NameError",
     "evalue": "name 'connect' is not defined",
     "output_type": "error",
     "traceback": [
      "\u001b[0;31m---------------------------------------------------------------------------\u001b[0m",
      "\u001b[0;31mNameError\u001b[0m                                 Traceback (most recent call last)",
      "\u001b[1;32m/Users/ninja/Documents/Spring22/CMPT733/whats-cooking/food-scraper.ipynb Cell 2'\u001b[0m in \u001b[0;36m<module>\u001b[0;34m\u001b[0m\n\u001b[1;32m      <a href='vscode-notebook-cell:/Users/ninja/Documents/Spring22/CMPT733/whats-cooking/food-scraper.ipynb#ch0000001?line=0'>1</a>\u001b[0m \u001b[39m# from dataprep.connector import connect\u001b[39;00m\n\u001b[0;32m----> <a href='vscode-notebook-cell:/Users/ninja/Documents/Spring22/CMPT733/whats-cooking/food-scraper.ipynb#ch0000001?line=2'>3</a>\u001b[0m anime_connector \u001b[39m=\u001b[39m connect(\u001b[39m\"\u001b[39m\u001b[39m./food\u001b[39m\u001b[39m\"\u001b[39m)\n\u001b[1;32m      <a href='vscode-notebook-cell:/Users/ninja/Documents/Spring22/CMPT733/whats-cooking/food-scraper.ipynb#ch0000001?line=3'>4</a>\u001b[0m \u001b[39m# ranked_animes = await anime_connector.query('food', q='topic:python+topic:distributed+topic:machine-learning')\u001b[39;00m\n\u001b[1;32m      <a href='vscode-notebook-cell:/Users/ninja/Documents/Spring22/CMPT733/whats-cooking/food-scraper.ipynb#ch0000001?line=4'>5</a>\u001b[0m \u001b[39mprint\u001b[39m(\u001b[39m'\u001b[39m\u001b[39mtest\u001b[39m\u001b[39m'\u001b[39m)\n",
      "\u001b[0;31mNameError\u001b[0m: name 'connect' is not defined"
     ]
    }
   ],
   "source": [
    "# from dataprep.connector import connect\n",
    "\n",
    "# anime_connector = connect(\"./food\")\n",
    "# ranked_animes = await anime_connector.query('food', q='topic:python+topic:distributed+topic:machine-learning')\n",
    "print('test')\n",
    "# print(ranked_animes)\n",
    "\n",
    "    "
   ]
  },
  {
   "cell_type": "code",
   "execution_count": null,
   "metadata": {},
   "outputs": [],
   "source": [
    "\n",
    "from bs4 import BeautifulSoup"
   ]
  },
  {
   "cell_type": "code",
   "execution_count": 1,
   "metadata": {},
   "outputs": [
    {
     "name": "stderr",
     "output_type": "stream",
     "text": [
      "NumExpr defaulting to 8 threads.\n"
     ]
    },
    {
     "ename": "FileNotFoundError",
     "evalue": "[Errno 2] No such file or directory: '/Users/ninja/Documents/Spring22/CMPT733/whats-cooking/config'",
     "output_type": "error",
     "traceback": [
      "\u001b[0;31m---------------------------------------------------------------------------\u001b[0m",
      "\u001b[0;31mFileNotFoundError\u001b[0m                         Traceback (most recent call last)",
      "\u001b[0;32m/var/folders/lw/4hhwbl4d4q1dfpb0z8l91sr40000gn/T/ipykernel_58059/2937632046.py\u001b[0m in \u001b[0;36m<module>\u001b[0;34m\u001b[0m\n\u001b[1;32m     22\u001b[0m \u001b[0;31m# API_key = \"8D73AS9T8U2JKXRP\"\u001b[0m\u001b[0;34m\u001b[0m\u001b[0;34m\u001b[0m\u001b[0m\n\u001b[1;32m     23\u001b[0m \u001b[0;34m\u001b[0m\u001b[0m\n\u001b[0;32m---> 24\u001b[0;31m \u001b[0mconnect_api\u001b[0m \u001b[0;34m=\u001b[0m \u001b[0mconnect\u001b[0m\u001b[0;34m(\u001b[0m\u001b[0;34m\"./config\"\u001b[0m\u001b[0;34m,\u001b[0m \u001b[0m_concurrency\u001b[0m\u001b[0;34m=\u001b[0m\u001b[0;36m100\u001b[0m\u001b[0;34m)\u001b[0m\u001b[0;34m\u001b[0m\u001b[0;34m\u001b[0m\u001b[0m\n\u001b[0m\u001b[1;32m     25\u001b[0m \u001b[0mmetadata\u001b[0m \u001b[0;34m=\u001b[0m \u001b[0;32mawait\u001b[0m \u001b[0mconnect_api\u001b[0m\u001b[0;34m.\u001b[0m\u001b[0mquery\u001b[0m\u001b[0;34m(\u001b[0m\u001b[0;34m'allrecipes'\u001b[0m\u001b[0;34m,\u001b[0m \u001b[0mpage\u001b[0m\u001b[0;34m=\u001b[0m\u001b[0;36m1\u001b[0m\u001b[0;34m)\u001b[0m\u001b[0;34m\u001b[0m\u001b[0;34m\u001b[0m\u001b[0m\n\u001b[1;32m     26\u001b[0m \u001b[0mresult_set\u001b[0m \u001b[0;34m=\u001b[0m \u001b[0mmetadata\u001b[0m\u001b[0;34m.\u001b[0m\u001b[0miloc\u001b[0m\u001b[0;34m[\u001b[0m\u001b[0;36m0\u001b[0m\u001b[0;34m]\u001b[0m\u001b[0;34m[\u001b[0m\u001b[0;34m'totalResults'\u001b[0m\u001b[0;34m]\u001b[0m\u001b[0;34m\u001b[0m\u001b[0;34m\u001b[0m\u001b[0m\n",
      "\u001b[0;32m/opt/anaconda3/lib/python3.9/site-packages/dataprep/connector/__init__.py\u001b[0m in \u001b[0;36mconnect\u001b[0;34m(config_path, update, _auth, _concurrency, **kwargs)\u001b[0m\n\u001b[1;32m     53\u001b[0m     \u001b[0;34m>>\u001b[0m\u001b[0;34m>\u001b[0m \u001b[0mdc\u001b[0m \u001b[0;34m=\u001b[0m \u001b[0mconnect\u001b[0m\u001b[0;34m(\u001b[0m\u001b[0;34m\"yelp\"\u001b[0m\u001b[0;34m,\u001b[0m \u001b[0m_auth\u001b[0m\u001b[0;34m=\u001b[0m\u001b[0;34m{\u001b[0m\u001b[0;34m\"access_token\"\u001b[0m\u001b[0;34m:\u001b[0m \u001b[0maccess_token\u001b[0m\u001b[0;34m}\u001b[0m\u001b[0;34m,\u001b[0m \u001b[0m_concurrency\u001b[0m\u001b[0;34m=\u001b[0m\u001b[0;36m3\u001b[0m\u001b[0;34m)\u001b[0m\u001b[0;34m\u001b[0m\u001b[0;34m\u001b[0m\u001b[0m\n\u001b[1;32m     54\u001b[0m     \"\"\"\n\u001b[0;32m---> 55\u001b[0;31m     \u001b[0;32mreturn\u001b[0m \u001b[0mConnector\u001b[0m\u001b[0;34m(\u001b[0m\u001b[0mconfig_path\u001b[0m\u001b[0;34m,\u001b[0m \u001b[0mupdate\u001b[0m\u001b[0;34m=\u001b[0m\u001b[0mupdate\u001b[0m\u001b[0;34m,\u001b[0m \u001b[0m_auth\u001b[0m\u001b[0;34m=\u001b[0m\u001b[0m_auth\u001b[0m\u001b[0;34m,\u001b[0m \u001b[0m_concurrency\u001b[0m\u001b[0;34m=\u001b[0m\u001b[0m_concurrency\u001b[0m\u001b[0;34m,\u001b[0m \u001b[0;34m**\u001b[0m\u001b[0mkwargs\u001b[0m\u001b[0;34m)\u001b[0m\u001b[0;34m\u001b[0m\u001b[0;34m\u001b[0m\u001b[0m\n\u001b[0m\u001b[1;32m     56\u001b[0m \u001b[0;34m\u001b[0m\u001b[0m\n\u001b[1;32m     57\u001b[0m \u001b[0;34m\u001b[0m\u001b[0m\n",
      "\u001b[0;32m/opt/anaconda3/lib/python3.9/site-packages/dataprep/connector/connector.py\u001b[0m in \u001b[0;36m__init__\u001b[0;34m(self, config_path, update, _auth, _concurrency, **kwargs)\u001b[0m\n\u001b[1;32m     77\u001b[0m         \u001b[0mpath\u001b[0m \u001b[0;34m=\u001b[0m \u001b[0minitialize_path\u001b[0m\u001b[0;34m(\u001b[0m\u001b[0mconfig_path\u001b[0m\u001b[0;34m,\u001b[0m \u001b[0mupdate\u001b[0m\u001b[0;34m)\u001b[0m\u001b[0;34m\u001b[0m\u001b[0;34m\u001b[0m\u001b[0m\n\u001b[1;32m     78\u001b[0m \u001b[0;34m\u001b[0m\u001b[0m\n\u001b[0;32m---> 79\u001b[0;31m         \u001b[0mself\u001b[0m\u001b[0;34m.\u001b[0m\u001b[0m_impdb\u001b[0m \u001b[0;34m=\u001b[0m \u001b[0mImplicitDatabase\u001b[0m\u001b[0;34m(\u001b[0m\u001b[0mpath\u001b[0m\u001b[0;34m)\u001b[0m\u001b[0;34m\u001b[0m\u001b[0;34m\u001b[0m\u001b[0m\n\u001b[0m\u001b[1;32m     80\u001b[0m \u001b[0;34m\u001b[0m\u001b[0m\n\u001b[1;32m     81\u001b[0m         \u001b[0mself\u001b[0m\u001b[0;34m.\u001b[0m\u001b[0m_vars\u001b[0m \u001b[0;34m=\u001b[0m \u001b[0mkwargs\u001b[0m\u001b[0;34m\u001b[0m\u001b[0;34m\u001b[0m\u001b[0m\n",
      "\u001b[0;32m/opt/anaconda3/lib/python3.9/site-packages/dataprep/connector/implicit_database.py\u001b[0m in \u001b[0;36m__init__\u001b[0;34m(self, config_path)\u001b[0m\n\u001b[1;32m    109\u001b[0m         \u001b[0mself\u001b[0m\u001b[0;34m.\u001b[0m\u001b[0mtables\u001b[0m \u001b[0;34m=\u001b[0m \u001b[0;34m{\u001b[0m\u001b[0;34m}\u001b[0m\u001b[0;34m\u001b[0m\u001b[0;34m\u001b[0m\u001b[0m\n\u001b[1;32m    110\u001b[0m \u001b[0;34m\u001b[0m\u001b[0m\n\u001b[0;32m--> 111\u001b[0;31m         \u001b[0;32mfor\u001b[0m \u001b[0mtable_config_path\u001b[0m \u001b[0;32min\u001b[0m \u001b[0mpath\u001b[0m\u001b[0;34m.\u001b[0m\u001b[0miterdir\u001b[0m\u001b[0;34m(\u001b[0m\u001b[0;34m)\u001b[0m\u001b[0;34m:\u001b[0m\u001b[0;34m\u001b[0m\u001b[0;34m\u001b[0m\u001b[0m\n\u001b[0m\u001b[1;32m    112\u001b[0m             \u001b[0;32mif\u001b[0m \u001b[0;32mnot\u001b[0m \u001b[0mtable_config_path\u001b[0m\u001b[0;34m.\u001b[0m\u001b[0mis_file\u001b[0m\u001b[0;34m(\u001b[0m\u001b[0;34m)\u001b[0m\u001b[0;34m:\u001b[0m\u001b[0;34m\u001b[0m\u001b[0;34m\u001b[0m\u001b[0m\n\u001b[1;32m    113\u001b[0m                 \u001b[0;31m# ignore configs that are not file\u001b[0m\u001b[0;34m\u001b[0m\u001b[0;34m\u001b[0m\u001b[0m\n",
      "\u001b[0;32m/opt/anaconda3/lib/python3.9/pathlib.py\u001b[0m in \u001b[0;36miterdir\u001b[0;34m(self)\u001b[0m\n\u001b[1;32m   1158\u001b[0m         \u001b[0mresult\u001b[0m \u001b[0;32mfor\u001b[0m \u001b[0mthe\u001b[0m \u001b[0mspecial\u001b[0m \u001b[0mpaths\u001b[0m \u001b[0;34m'.'\u001b[0m \u001b[0;32mand\u001b[0m \u001b[0;34m'..'\u001b[0m\u001b[0;34m.\u001b[0m\u001b[0;34m\u001b[0m\u001b[0;34m\u001b[0m\u001b[0m\n\u001b[1;32m   1159\u001b[0m         \"\"\"\n\u001b[0;32m-> 1160\u001b[0;31m         \u001b[0;32mfor\u001b[0m \u001b[0mname\u001b[0m \u001b[0;32min\u001b[0m \u001b[0mself\u001b[0m\u001b[0;34m.\u001b[0m\u001b[0m_accessor\u001b[0m\u001b[0;34m.\u001b[0m\u001b[0mlistdir\u001b[0m\u001b[0;34m(\u001b[0m\u001b[0mself\u001b[0m\u001b[0;34m)\u001b[0m\u001b[0;34m:\u001b[0m\u001b[0;34m\u001b[0m\u001b[0;34m\u001b[0m\u001b[0m\n\u001b[0m\u001b[1;32m   1161\u001b[0m             \u001b[0;32mif\u001b[0m \u001b[0mname\u001b[0m \u001b[0;32min\u001b[0m \u001b[0;34m{\u001b[0m\u001b[0;34m'.'\u001b[0m\u001b[0;34m,\u001b[0m \u001b[0;34m'..'\u001b[0m\u001b[0;34m}\u001b[0m\u001b[0;34m:\u001b[0m\u001b[0;34m\u001b[0m\u001b[0;34m\u001b[0m\u001b[0m\n\u001b[1;32m   1162\u001b[0m                 \u001b[0;31m# Yielding a path object for these makes little sense\u001b[0m\u001b[0;34m\u001b[0m\u001b[0;34m\u001b[0m\u001b[0m\n",
      "\u001b[0;31mFileNotFoundError\u001b[0m: [Errno 2] No such file or directory: '/Users/ninja/Documents/Spring22/CMPT733/whats-cooking/config'"
     ]
    }
   ],
   "source": [
    "from dataprep.connector import connect\n",
    "from datetime import datetime\n",
    "import matplotlib.pyplot as plt\n",
    "import pandas as pd\n",
    "import asyncio\n",
    "import math\n",
    "\n",
    "# \"authorization\": \"Bearer\",\n",
    "# \"pagination\": {\n",
    "#             \"type\": \"page\",\n",
    "#             \"pageKey\": \"page\",\n",
    "#             \"limitKey\": \"pageSize\",\n",
    "#             \"maxCount\": 5000000\n",
    "#         } \n",
    "# \"pagination\": {\n",
    "#             \"type\": \"offset\",\n",
    "#             \"offsetKey\": \"f\",\n",
    "#             \"limitKey\": \"h\",\n",
    "#             \"maxCount\": 100000\n",
    "#         }   \n",
    "# Provide your API key here for TAs to reproduce your results\n",
    "# API_key = \"8D73AS9T8U2JKXRP\"\n",
    "\n",
    "connect_api = connect(\"./config\", _concurrency=100)\n",
    "metadata = await connect_api.query('allrecipes', page=1)\n",
    "result_set = metadata.iloc[0]['totalResults']\n",
    "perPage = 24\n",
    "total_requests = math.ceil(result_set/perPage)\n",
    "print(total_requests)\n",
    "async def fetch_records(queries_to_fetch):\n",
    "    results = asyncio.gather(*queries_to_fetch)\n",
    "    df = pd.concat(await results)\n",
    "    return df\n",
    "\n",
    "# Connecting to Web API using dataprep\n",
    "queries = []\n",
    "for i in range(1, total_requests):\n",
    "    query = connect_api.query('allrecipes', page=i)\n",
    "    queries.append(query)\n",
    "\n",
    "df = await fetch_records(queries)\n",
    "\n",
    "# loop = asyncio.get_event_loop()\n",
    "# df = loop.create_task(fetch_records(queries))\n",
    "# query_list = [connect_api.query('allrecipes', page=i) for i in range(int(10))]\n",
    "# results = asyncio.gather(*query_list)\n",
    "# inflation_df = pd.concat(await results)\n",
    "\n",
    "# query_list = await connect_api.query('allrecipes', page=1)\n",
    "\n",
    "# results = asyncio.gather(*query_list)\n",
    "# inflation_df = pd.concat(await results)\n",
    "\n",
    "# initial = True\n",
    "# page = 1\n",
    "# while initial or json_data['hasNext']:"
   ]
  },
  {
   "cell_type": "code",
   "execution_count": 20,
   "metadata": {},
   "outputs": [
    {
     "name": "stdout",
     "output_type": "stream",
     "text": [
      "READY IN: 35mins\n",
      "SERVES: 4\n",
      "[' 2    lbs    boneless chicken breasts, cut into bite-size pieces ', ' 1 -2    tablespoon    olive oil', ' 1   garlic clove, crushed ', ' 1⁄4   teaspoon    ginger', ' 3⁄4   teaspoon    crushed red pepper flakes', ' 1⁄4   cup    apple juice', ' 1⁄3   cup    light brown sugar', ' 2    tablespoons    ketchup', ' 1    tablespoon    cider vinegar', ' 1⁄2   cup    water', ' 1⁄3   cup    soy sauce']\n",
      "[\"Editor's Note:  Named Bourbon Chicken because it was supposedly created by a Chinese cook who worked in a restaurant on Bourbon Street.\", 'Heat oil in a large skillet.', 'Add chicken pieces and cook until lightly browned.', 'Remove chicken.', 'Add remaining ingredients, heating over medium Heat until well mixed and dissolved.', 'Add chicken and bring to a hard boil.', 'Reduce heat and simmer for 20 minutes.', 'Serve over hot rice and ENJOY.']\n",
      "['\\n          Calories: 521.4\\n        ', 'Calories from Fat 220 g 42 %', 'Total Fat 24.5 g 37 %', 'Saturated Fat 6.5 g 32 %', 'Cholesterol 145.3 mg\\n           48 %', 'Sodium 1573 mg\\n           65 %', 'Total Carbohydrate\\n            23.4 g\\n           7 %', 'Dietary Fiber 0.3 g 1 %', 'Sugars 21.5 g 85 %', 'Protein 50.1 g\\n           100 %']\n"
     ]
    }
   ],
   "source": [
    "from bs4 import BeautifulSoup\n",
    "\n",
    "file = open('sample.html')\n",
    "html = file.read()\n",
    "\n",
    "soup = BeautifulSoup(html, 'html.parser')\n",
    "left_pane = soup.find('div', class_='recipe-layout__content-left')\n",
    "\n",
    "prep_time = left_pane.find('div', class_= 'recipe-facts__time').text\n",
    "serves = left_pane.find('div', class_='recipe-facts__servings').text\n",
    "ingredients = left_pane.find_all('li', class_='recipe-ingredients__item')\n",
    "ingredients = [ingredient.text for ingredient in ingredients]\n",
    "recipe = soup.find_all('li', class_='recipe-directions__step')\n",
    "recipe = [step.text for step in recipe]\n",
    "nutrients = left_pane.find_all('p', class_='recipe-nutrition__item')\n",
    "nutrients = [nutrient.text for nutrient in nutrients]\n",
    "print(prep_time)\n",
    "print(serves)\n",
    "print(ingredients)\n",
    "print(recipe)\n",
    "print(nutrients)"
   ]
  },
  {
   "cell_type": "code",
   "execution_count": 118,
   "metadata": {},
   "outputs": [
    {
     "name": "stderr",
     "output_type": "stream",
     "text": [
      "\n",
      "\n",
      "\n",
      "\n",
      "====== WebDriver manager ======\n",
      "====== WebDriver manager ======\n",
      "Current google-chrome version is 98.0.4758\n",
      "Current google-chrome version is 98.0.4758\n",
      "Get LATEST chromedriver version for 98.0.4758 google-chrome\n",
      "Get LATEST chromedriver version for 98.0.4758 google-chrome\n",
      "Driver [/Users/ninja/.wdm/drivers/chromedriver/mac64/98.0.4758.102/chromedriver] found in cache\n",
      "Driver [/Users/ninja/.wdm/drivers/chromedriver/mac64/98.0.4758.102/chromedriver] found in cache\n"
     ]
    }
   ],
   "source": [
    "from selenium import webdriver\n",
    "from selenium.webdriver.common.by import By\n",
    "from selenium.webdriver.chrome.service import Service\n",
    "from webdriver_manager.chrome import ChromeDriverManager\n",
    "import time \n",
    "\n",
    "op = webdriver.ChromeOptions()\n",
    "op.add_argument('headless')\n",
    "s=Service(ChromeDriverManager().install())\n",
    "driver = webdriver.Chrome(service=s, options=op)\n",
    "# driver = webdriver.Chrome('./chromedriver', options=op)"
   ]
  },
  {
   "cell_type": "code",
   "execution_count": 119,
   "metadata": {},
   "outputs": [],
   "source": [
    "\n",
    "\n",
    "def scrape_recipe(URL, recipe_id):\n",
    "    URL = 'https://www.food.com/recipe/kittencals-easy-and-delicious-ranch-parmesan-chicken-200296'\n",
    "    driver.get(\"{}?ftab=reviews\".format(URL))\n",
    "    button = driver.find_elements(by=By.CSS_SELECTOR, value=\".conversation__show-more\")\n",
    "    while(len(button) > 0):\n",
    "        button[0].click()\n",
    "        time.sleep(1)\n",
    "        button = driver.find_elements(by=By.CSS_SELECTOR, value=\".conversation__show-more\")\n",
    "    page_source = driver.page_source\n",
    "    return get_data(page_source, recipe_id)\n",
    "\n"
   ]
  },
  {
   "cell_type": "code",
   "execution_count": 120,
   "metadata": {},
   "outputs": [],
   "source": [
    "def get_data(page_source, recipe_id):\n",
    "    reviewer_ids = []\n",
    "    recipe_ids = []\n",
    "    review_texts = []\n",
    "\n",
    "    soup = BeautifulSoup(page_source, 'html.parser')\n",
    "\n",
    "    left_pane = soup.find('div', class_='recipe-layout__content-left')\n",
    "\n",
    "    prep_time = left_pane.find('div', class_= 'recipe-facts__time').text\n",
    "    serves = left_pane.find('div', class_='recipe-facts__servings').text\n",
    "    ingredients = left_pane.find_all('li', class_='recipe-ingredients__item')\n",
    "    ingredients = [ingredient.text for ingredient in ingredients]\n",
    "    recipe = soup.find_all('li', class_='recipe-directions__step')\n",
    "    recipe = [step.text for step in recipe]\n",
    "    nutrients = left_pane.find_all('p', class_='recipe-nutrition__item')\n",
    "    nutrients = [nutrient.text for nutrient in nutrients]\n",
    "    reviews = soup.find_all('li', class_='conversation__post')\n",
    "    print(len(reviews))\n",
    "    for review in reviews:\n",
    "        reviewer = review.find('a', class_='post__author-link').text\n",
    "        review_box = review.find('div', class_='post__text').find('div')\n",
    "        review = review_box['title']\n",
    "        if(review == ''):\n",
    "            review = review_box.find('span', class_='text-truncate__text').text\n",
    "        reviewer_ids.append(reviewer)\n",
    "        review_texts.append(review)\n",
    "        recipe_ids.append(recipe_id)\n",
    "\n",
    "    review_data = pd.DataFrame({\n",
    "        'reviewer': reviewer_ids,\n",
    "        'recipe_id': recipe_ids,\n",
    "        'review': review_texts\n",
    "    })\n",
    "\n",
    "    return (prep_time, serves, ingredients, recipe, nutrients, review_data)"
   ]
  },
  {
   "cell_type": "code",
   "execution_count": 121,
   "metadata": {},
   "outputs": [
    {
     "name": "stdout",
     "output_type": "stream",
     "text": [
      "426\n"
     ]
    }
   ],
   "source": [
    "prep_time, serves, ingredients, recipe, nutrients, review_data = scrape_recipe('', '101')"
   ]
  },
  {
   "cell_type": "code",
   "execution_count": 123,
   "metadata": {},
   "outputs": [
    {
     "data": {
      "text/html": [
       "<div>\n",
       "<style scoped>\n",
       "    .dataframe tbody tr th:only-of-type {\n",
       "        vertical-align: middle;\n",
       "    }\n",
       "\n",
       "    .dataframe tbody tr th {\n",
       "        vertical-align: top;\n",
       "    }\n",
       "\n",
       "    .dataframe thead th {\n",
       "        text-align: right;\n",
       "    }\n",
       "</style>\n",
       "<table border=\"1\" class=\"dataframe\">\n",
       "  <thead>\n",
       "    <tr style=\"text-align: right;\">\n",
       "      <th></th>\n",
       "      <th>reviewer</th>\n",
       "      <th>recipe_id</th>\n",
       "      <th>review</th>\n",
       "    </tr>\n",
       "  </thead>\n",
       "  <tbody>\n",
       "    <tr>\n",
       "      <th>0</th>\n",
       "      <td>\\n          Seashorewalker\\n</td>\n",
       "      <td>101</td>\n",
       "      <td>I had chicken breasts to prepare for dinner an...</td>\n",
       "    </tr>\n",
       "    <tr>\n",
       "      <th>1</th>\n",
       "      <td>\\n          t4cram4_7252722\\n</td>\n",
       "      <td>101</td>\n",
       "      <td>I finally made this last night.  My husband an...</td>\n",
       "    </tr>\n",
       "    <tr>\n",
       "      <th>2</th>\n",
       "      <td>\\n          The Amaze-Ing Me\\n</td>\n",
       "      <td>101</td>\n",
       "      <td>Wonderful and easy to make.  Used Mrs. dash in...</td>\n",
       "    </tr>\n",
       "    <tr>\n",
       "      <th>3</th>\n",
       "      <td>\\n          jessicaweber1985\\n</td>\n",
       "      <td>101</td>\n",
       "      <td>This was sooo good! I used 3 good sized chicke...</td>\n",
       "    </tr>\n",
       "    <tr>\n",
       "      <th>4</th>\n",
       "      <td>\\n          Jonathan Melendez \\n</td>\n",
       "      <td>101</td>\n",
       "      <td>Used panko bread crumbs and it was so crunchy ...</td>\n",
       "    </tr>\n",
       "    <tr>\n",
       "      <th>...</th>\n",
       "      <td>...</td>\n",
       "      <td>...</td>\n",
       "      <td>...</td>\n",
       "    </tr>\n",
       "    <tr>\n",
       "      <th>421</th>\n",
       "      <td>\\n          soxfan28\\n</td>\n",
       "      <td>101</td>\n",
       "      <td>This was AWESOME!! As others noted, the chicke...</td>\n",
       "    </tr>\n",
       "    <tr>\n",
       "      <th>422</th>\n",
       "      <td>\\n          Chasealily\\n</td>\n",
       "      <td>101</td>\n",
       "      <td>yum yum yuumm!! I am new at cooking and the fa...</td>\n",
       "    </tr>\n",
       "    <tr>\n",
       "      <th>423</th>\n",
       "      <td>\\n          Food Snob \\n</td>\n",
       "      <td>101</td>\n",
       "      <td>This chicken was really great~ melt in your mo...</td>\n",
       "    </tr>\n",
       "    <tr>\n",
       "      <th>424</th>\n",
       "      <td>\\n          byacks47\\n</td>\n",
       "      <td>101</td>\n",
       "      <td>Easy to prepare, great alternative to frying a...</td>\n",
       "    </tr>\n",
       "    <tr>\n",
       "      <th>425</th>\n",
       "      <td>\\n          Baby Kato\\n</td>\n",
       "      <td>101</td>\n",
       "      <td>Wow! Kitten this is so wonderful.  I knew that...</td>\n",
       "    </tr>\n",
       "  </tbody>\n",
       "</table>\n",
       "<p>426 rows × 3 columns</p>\n",
       "</div>"
      ],
      "text/plain": [
       "                                     reviewer recipe_id  \\\n",
       "0        \\n          Seashorewalker\\n               101   \n",
       "1       \\n          t4cram4_7252722\\n               101   \n",
       "2      \\n          The Amaze-Ing Me\\n               101   \n",
       "3      \\n          jessicaweber1985\\n               101   \n",
       "4    \\n          Jonathan Melendez \\n               101   \n",
       "..                                        ...       ...   \n",
       "421            \\n          soxfan28\\n               101   \n",
       "422          \\n          Chasealily\\n               101   \n",
       "423          \\n          Food Snob \\n               101   \n",
       "424            \\n          byacks47\\n               101   \n",
       "425           \\n          Baby Kato\\n               101   \n",
       "\n",
       "                                                review  \n",
       "0    I had chicken breasts to prepare for dinner an...  \n",
       "1    I finally made this last night.  My husband an...  \n",
       "2    Wonderful and easy to make.  Used Mrs. dash in...  \n",
       "3    This was sooo good! I used 3 good sized chicke...  \n",
       "4    Used panko bread crumbs and it was so crunchy ...  \n",
       "..                                                 ...  \n",
       "421  This was AWESOME!! As others noted, the chicke...  \n",
       "422  yum yum yuumm!! I am new at cooking and the fa...  \n",
       "423  This chicken was really great~ melt in your mo...  \n",
       "424  Easy to prepare, great alternative to frying a...  \n",
       "425  Wow! Kitten this is so wonderful.  I knew that...  \n",
       "\n",
       "[426 rows x 3 columns]"
      ]
     },
     "execution_count": 123,
     "metadata": {},
     "output_type": "execute_result"
    }
   ],
   "source": [
    "review_data"
   ]
  },
  {
   "cell_type": "code",
   "execution_count": null,
   "metadata": {},
   "outputs": [],
   "source": []
  }
 ],
 "metadata": {
  "interpreter": {
   "hash": "86dba72ce755bfcab99de1af17cfe306770ace594e233a2cc90aea7b42b79bab"
  },
  "kernelspec": {
   "display_name": "Python 3.8.12 64-bit ('nn': conda)",
   "language": "python",
   "name": "python3"
  },
  "language_info": {
   "codemirror_mode": {
    "name": "ipython",
    "version": 3
   },
   "file_extension": ".py",
   "mimetype": "text/x-python",
   "name": "python",
   "nbconvert_exporter": "python",
   "pygments_lexer": "ipython3",
   "version": "3.9.7"
  },
  "orig_nbformat": 4
 },
 "nbformat": 4,
 "nbformat_minor": 2
}
