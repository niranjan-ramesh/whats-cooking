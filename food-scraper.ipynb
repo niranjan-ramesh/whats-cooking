{
 "cells": [
  {
   "cell_type": "code",
   "execution_count": 130,
   "metadata": {},
   "outputs": [
    {
     "name": "stderr",
     "output_type": "stream",
     "text": [
      "\n",
      "\n",
      "\n",
      "\n",
      "====== WebDriver manager ======\n",
      "====== WebDriver manager ======\n",
      "Current google-chrome version is 98.0.4758\n",
      "Current google-chrome version is 98.0.4758\n",
      "Get LATEST chromedriver version for 98.0.4758 google-chrome\n",
      "Get LATEST chromedriver version for 98.0.4758 google-chrome\n",
      "Trying to download new driver from https://chromedriver.storage.googleapis.com/98.0.4758.102/chromedriver_mac64.zip\n",
      "Trying to download new driver from https://chromedriver.storage.googleapis.com/98.0.4758.102/chromedriver_mac64.zip\n",
      "Driver has been saved in cache [/Users/ninja/.wdm/drivers/chromedriver/mac64/98.0.4758.102]\n",
      "Driver has been saved in cache [/Users/ninja/.wdm/drivers/chromedriver/mac64/98.0.4758.102]\n"
     ]
    }
   ],
   "source": [
    "from selenium import webdriver\n",
    "from selenium.webdriver.common.by import By\n",
    "from selenium.webdriver.chrome.service import Service\n",
    "from webdriver_manager.chrome import ChromeDriverManager\n",
    "import time \n",
    "\n",
    "op = webdriver.ChromeOptions()\n",
    "op.add_argument('headless')\n",
    "s=Service(ChromeDriverManager().install())\n",
    "# driver = webdriver.Chrome('./chromedriver', options=op)"
   ]
  },
  {
   "cell_type": "code",
   "execution_count": 119,
   "metadata": {},
   "outputs": [],
   "source": [
    "\n",
    "\n",
    "def scrape_recipe(URL, recipe_id):\n",
    "    driver = webdriver.Chrome(service=s, options=op)\n",
    "    # URL = 'https://www.food.com/recipe/kittencals-easy-and-delicious-ranch-parmesan-chicken-200296'\n",
    "    driver.get(\"{}?ftab=reviews\".format(URL))\n",
    "    button = driver.find_elements(by=By.CSS_SELECTOR, value=\".conversation__show-more\")\n",
    "    while(len(button) > 0):\n",
    "        button[0].click()\n",
    "        time.sleep(1)\n",
    "        button = driver.find_elements(by=By.CSS_SELECTOR, value=\".conversation__show-more\")\n",
    "    page_source = driver.page_source\n",
    "    return get_data(page_source, recipe_id)\n",
    "\n"
   ]
  },
  {
   "cell_type": "code",
   "execution_count": 120,
   "metadata": {},
   "outputs": [],
   "source": [
    "def get_data(page_source, recipe_id):\n",
    "    reviewer_ids = []\n",
    "    recipe_ids = []\n",
    "    review_texts = []\n",
    "\n",
    "    soup = BeautifulSoup(page_source, 'html.parser')\n",
    "\n",
    "    left_pane = soup.find('div', class_='recipe-layout__content-left')\n",
    "\n",
    "    prep_time = left_pane.find('div', class_= 'recipe-facts__time').text\n",
    "    serves = left_pane.find('div', class_='recipe-facts__servings').text\n",
    "    ingredients = left_pane.find_all('li', class_='recipe-ingredients__item')\n",
    "    ingredients = [ingredient.text for ingredient in ingredients]\n",
    "    recipe = soup.find_all('li', class_='recipe-directions__step')\n",
    "    recipe = [step.text for step in recipe]\n",
    "    nutrients = left_pane.find_all('p', class_='recipe-nutrition__item')\n",
    "    nutrients = [nutrient.text for nutrient in nutrients]\n",
    "    reviews = soup.find_all('li', class_='conversation__post')\n",
    "    print(len(reviews))\n",
    "    for review in reviews:\n",
    "        reviewer = review.find('a', class_='post__author-link').text\n",
    "        review_box = review.find('div', class_='post__text').find('div')\n",
    "        review = review_box['title']\n",
    "        if(review == ''):\n",
    "            review = review_box.find('span', class_='text-truncate__text').text\n",
    "        reviewer_ids.append(reviewer)\n",
    "        review_texts.append(review)\n",
    "        recipe_ids.append(recipe_id)\n",
    "\n",
    "    review_data = pd.DataFrame({\n",
    "        'reviewer': reviewer_ids,\n",
    "        'recipe_id': recipe_ids,\n",
    "        'review': review_texts\n",
    "    })\n",
    "\n",
    "    return (prep_time, serves, ingredients, recipe, nutrients, review_data)"
   ]
  },
  {
   "cell_type": "code",
   "execution_count": 121,
   "metadata": {},
   "outputs": [
    {
     "name": "stdout",
     "output_type": "stream",
     "text": [
      "426\n"
     ]
    }
   ],
   "source": [
    "prep_time, serves, ingredients, recipe, nutrients, review_data = scrape_recipe('', '101')"
   ]
  },
  {
   "cell_type": "code",
   "execution_count": 123,
   "metadata": {},
   "outputs": [
    {
     "data": {
      "text/html": [
       "<div>\n",
       "<style scoped>\n",
       "    .dataframe tbody tr th:only-of-type {\n",
       "        vertical-align: middle;\n",
       "    }\n",
       "\n",
       "    .dataframe tbody tr th {\n",
       "        vertical-align: top;\n",
       "    }\n",
       "\n",
       "    .dataframe thead th {\n",
       "        text-align: right;\n",
       "    }\n",
       "</style>\n",
       "<table border=\"1\" class=\"dataframe\">\n",
       "  <thead>\n",
       "    <tr style=\"text-align: right;\">\n",
       "      <th></th>\n",
       "      <th>reviewer</th>\n",
       "      <th>recipe_id</th>\n",
       "      <th>review</th>\n",
       "    </tr>\n",
       "  </thead>\n",
       "  <tbody>\n",
       "    <tr>\n",
       "      <th>0</th>\n",
       "      <td>\\n          Seashorewalker\\n</td>\n",
       "      <td>101</td>\n",
       "      <td>I had chicken breasts to prepare for dinner an...</td>\n",
       "    </tr>\n",
       "    <tr>\n",
       "      <th>1</th>\n",
       "      <td>\\n          t4cram4_7252722\\n</td>\n",
       "      <td>101</td>\n",
       "      <td>I finally made this last night.  My husband an...</td>\n",
       "    </tr>\n",
       "    <tr>\n",
       "      <th>2</th>\n",
       "      <td>\\n          The Amaze-Ing Me\\n</td>\n",
       "      <td>101</td>\n",
       "      <td>Wonderful and easy to make.  Used Mrs. dash in...</td>\n",
       "    </tr>\n",
       "    <tr>\n",
       "      <th>3</th>\n",
       "      <td>\\n          jessicaweber1985\\n</td>\n",
       "      <td>101</td>\n",
       "      <td>This was sooo good! I used 3 good sized chicke...</td>\n",
       "    </tr>\n",
       "    <tr>\n",
       "      <th>4</th>\n",
       "      <td>\\n          Jonathan Melendez \\n</td>\n",
       "      <td>101</td>\n",
       "      <td>Used panko bread crumbs and it was so crunchy ...</td>\n",
       "    </tr>\n",
       "    <tr>\n",
       "      <th>...</th>\n",
       "      <td>...</td>\n",
       "      <td>...</td>\n",
       "      <td>...</td>\n",
       "    </tr>\n",
       "    <tr>\n",
       "      <th>421</th>\n",
       "      <td>\\n          soxfan28\\n</td>\n",
       "      <td>101</td>\n",
       "      <td>This was AWESOME!! As others noted, the chicke...</td>\n",
       "    </tr>\n",
       "    <tr>\n",
       "      <th>422</th>\n",
       "      <td>\\n          Chasealily\\n</td>\n",
       "      <td>101</td>\n",
       "      <td>yum yum yuumm!! I am new at cooking and the fa...</td>\n",
       "    </tr>\n",
       "    <tr>\n",
       "      <th>423</th>\n",
       "      <td>\\n          Food Snob \\n</td>\n",
       "      <td>101</td>\n",
       "      <td>This chicken was really great~ melt in your mo...</td>\n",
       "    </tr>\n",
       "    <tr>\n",
       "      <th>424</th>\n",
       "      <td>\\n          byacks47\\n</td>\n",
       "      <td>101</td>\n",
       "      <td>Easy to prepare, great alternative to frying a...</td>\n",
       "    </tr>\n",
       "    <tr>\n",
       "      <th>425</th>\n",
       "      <td>\\n          Baby Kato\\n</td>\n",
       "      <td>101</td>\n",
       "      <td>Wow! Kitten this is so wonderful.  I knew that...</td>\n",
       "    </tr>\n",
       "  </tbody>\n",
       "</table>\n",
       "<p>426 rows × 3 columns</p>\n",
       "</div>"
      ],
      "text/plain": [
       "                                     reviewer recipe_id  \\\n",
       "0        \\n          Seashorewalker\\n               101   \n",
       "1       \\n          t4cram4_7252722\\n               101   \n",
       "2      \\n          The Amaze-Ing Me\\n               101   \n",
       "3      \\n          jessicaweber1985\\n               101   \n",
       "4    \\n          Jonathan Melendez \\n               101   \n",
       "..                                        ...       ...   \n",
       "421            \\n          soxfan28\\n               101   \n",
       "422          \\n          Chasealily\\n               101   \n",
       "423          \\n          Food Snob \\n               101   \n",
       "424            \\n          byacks47\\n               101   \n",
       "425           \\n          Baby Kato\\n               101   \n",
       "\n",
       "                                                review  \n",
       "0    I had chicken breasts to prepare for dinner an...  \n",
       "1    I finally made this last night.  My husband an...  \n",
       "2    Wonderful and easy to make.  Used Mrs. dash in...  \n",
       "3    This was sooo good! I used 3 good sized chicke...  \n",
       "4    Used panko bread crumbs and it was so crunchy ...  \n",
       "..                                                 ...  \n",
       "421  This was AWESOME!! As others noted, the chicke...  \n",
       "422  yum yum yuumm!! I am new at cooking and the fa...  \n",
       "423  This chicken was really great~ melt in your mo...  \n",
       "424  Easy to prepare, great alternative to frying a...  \n",
       "425  Wow! Kitten this is so wonderful.  I knew that...  \n",
       "\n",
       "[426 rows x 3 columns]"
      ]
     },
     "execution_count": 123,
     "metadata": {},
     "output_type": "execute_result"
    }
   ],
   "source": [
    "review_data"
   ]
  },
  {
   "cell_type": "code",
   "execution_count": 131,
   "metadata": {},
   "outputs": [
    {
     "name": "stdout",
     "output_type": "stream",
     "text": [
      "426\n"
     ]
    },
    {
     "ename": "StaleElementReferenceException",
     "evalue": "Message: stale element reference: element is not attached to the page document\n  (Session info: headless chrome=98.0.4758.109)\nStacktrace:\n0   chromedriver                        0x0000000102cb8ee9 chromedriver + 5013225\n1   chromedriver                        0x0000000102c441d3 chromedriver + 4534739\n2   chromedriver                        0x000000010281aa68 chromedriver + 170600\n3   chromedriver                        0x000000010281d8b1 chromedriver + 182449\n4   chromedriver                        0x000000010281d6d1 chromedriver + 181969\n5   chromedriver                        0x000000010281d96c chromedriver + 182636\n6   chromedriver                        0x0000000102856324 chromedriver + 414500\n7   chromedriver                        0x0000000102853d5f chromedriver + 404831\n8   chromedriver                        0x0000000102851940 chromedriver + 395584\n9   chromedriver                        0x000000010285061c chromedriver + 390684\n10  chromedriver                        0x0000000102844359 chromedriver + 340825\n11  chromedriver                        0x000000010286c7e2 chromedriver + 505826\n12  chromedriver                        0x0000000102843bf5 chromedriver + 338933\n13  chromedriver                        0x000000010286c8ee chromedriver + 506094\n14  chromedriver                        0x000000010287f074 chromedriver + 581748\n15  chromedriver                        0x000000010286c6d3 chromedriver + 505555\n16  chromedriver                        0x000000010284276e chromedriver + 333678\n17  chromedriver                        0x0000000102843745 chromedriver + 337733\n18  chromedriver                        0x0000000102c74efe chromedriver + 4734718\n19  chromedriver                        0x0000000102c8ea19 chromedriver + 4839961\n20  chromedriver                        0x0000000102c941c8 chromedriver + 4862408\n21  chromedriver                        0x0000000102c8f3aa chromedriver + 4842410\n22  chromedriver                        0x0000000102c69a01 chromedriver + 4688385\n23  chromedriver                        0x0000000102caa538 chromedriver + 4953400\n24  chromedriver                        0x0000000102caa6c1 chromedriver + 4953793\n25  chromedriver                        0x0000000102cc0225 chromedriver + 5042725\n26  libsystem_pthread.dylib             0x00007ff80cf924f4 _pthread_start + 125\n27  libsystem_pthread.dylib             0x00007ff80cf8e00f thread_start + 15\n",
     "output_type": "error",
     "traceback": [
      "\u001b[0;31m---------------------------------------------------------------------------\u001b[0m",
      "\u001b[0;31mStaleElementReferenceException\u001b[0m            Traceback (most recent call last)",
      "\u001b[0;32m/var/folders/lw/4hhwbl4d4q1dfpb0z8l91sr40000gn/T/ipykernel_58059/87483026.py\u001b[0m in \u001b[0;36m<module>\u001b[0;34m\u001b[0m\n\u001b[1;32m      9\u001b[0m \u001b[0;34m\u001b[0m\u001b[0m\n\u001b[1;32m     10\u001b[0m \u001b[0;32mfor\u001b[0m \u001b[0mtitle\u001b[0m\u001b[0;34m,\u001b[0m \u001b[0murl\u001b[0m \u001b[0;32min\u001b[0m \u001b[0mzip\u001b[0m\u001b[0;34m(\u001b[0m\u001b[0mdf\u001b[0m\u001b[0;34m[\u001b[0m\u001b[0;34m'title'\u001b[0m\u001b[0;34m]\u001b[0m\u001b[0;34m,\u001b[0m \u001b[0mdf\u001b[0m\u001b[0;34m[\u001b[0m\u001b[0;34m'dish_url'\u001b[0m\u001b[0;34m]\u001b[0m\u001b[0;34m)\u001b[0m\u001b[0;34m:\u001b[0m\u001b[0;34m\u001b[0m\u001b[0;34m\u001b[0m\u001b[0m\n\u001b[0;32m---> 11\u001b[0;31m     \u001b[0mprep_time\u001b[0m\u001b[0;34m,\u001b[0m \u001b[0mserves\u001b[0m\u001b[0;34m,\u001b[0m \u001b[0mingredients\u001b[0m\u001b[0;34m,\u001b[0m \u001b[0mrecipe\u001b[0m\u001b[0;34m,\u001b[0m \u001b[0mnutrients\u001b[0m\u001b[0;34m,\u001b[0m \u001b[0mreview_data\u001b[0m \u001b[0;34m=\u001b[0m \u001b[0mscrape_recipe\u001b[0m\u001b[0;34m(\u001b[0m\u001b[0murl\u001b[0m\u001b[0;34m,\u001b[0m \u001b[0mtitle\u001b[0m\u001b[0;34m)\u001b[0m\u001b[0;34m\u001b[0m\u001b[0;34m\u001b[0m\u001b[0m\n\u001b[0m\u001b[1;32m     12\u001b[0m     \u001b[0mprep_times\u001b[0m\u001b[0;34m.\u001b[0m\u001b[0mappend\u001b[0m\u001b[0;34m(\u001b[0m\u001b[0mprep_time\u001b[0m\u001b[0;34m)\u001b[0m\u001b[0;34m\u001b[0m\u001b[0;34m\u001b[0m\u001b[0m\n\u001b[1;32m     13\u001b[0m     \u001b[0mserves_s\u001b[0m\u001b[0;34m.\u001b[0m\u001b[0mappend\u001b[0m\u001b[0;34m(\u001b[0m\u001b[0mserves\u001b[0m\u001b[0;34m)\u001b[0m\u001b[0;34m\u001b[0m\u001b[0;34m\u001b[0m\u001b[0m\n",
      "\u001b[0;32m/var/folders/lw/4hhwbl4d4q1dfpb0z8l91sr40000gn/T/ipykernel_58059/3218213954.py\u001b[0m in \u001b[0;36mscrape_recipe\u001b[0;34m(URL, recipe_id)\u001b[0m\n\u001b[1;32m      4\u001b[0m     \u001b[0mbutton\u001b[0m \u001b[0;34m=\u001b[0m \u001b[0mdriver\u001b[0m\u001b[0;34m.\u001b[0m\u001b[0mfind_elements\u001b[0m\u001b[0;34m(\u001b[0m\u001b[0mby\u001b[0m\u001b[0;34m=\u001b[0m\u001b[0mBy\u001b[0m\u001b[0;34m.\u001b[0m\u001b[0mCSS_SELECTOR\u001b[0m\u001b[0;34m,\u001b[0m \u001b[0mvalue\u001b[0m\u001b[0;34m=\u001b[0m\u001b[0;34m\".conversation__show-more\"\u001b[0m\u001b[0;34m)\u001b[0m\u001b[0;34m\u001b[0m\u001b[0;34m\u001b[0m\u001b[0m\n\u001b[1;32m      5\u001b[0m     \u001b[0;32mwhile\u001b[0m\u001b[0;34m(\u001b[0m\u001b[0mlen\u001b[0m\u001b[0;34m(\u001b[0m\u001b[0mbutton\u001b[0m\u001b[0;34m)\u001b[0m \u001b[0;34m>\u001b[0m \u001b[0;36m0\u001b[0m\u001b[0;34m)\u001b[0m\u001b[0;34m:\u001b[0m\u001b[0;34m\u001b[0m\u001b[0;34m\u001b[0m\u001b[0m\n\u001b[0;32m----> 6\u001b[0;31m         \u001b[0mbutton\u001b[0m\u001b[0;34m[\u001b[0m\u001b[0;36m0\u001b[0m\u001b[0;34m]\u001b[0m\u001b[0;34m.\u001b[0m\u001b[0mclick\u001b[0m\u001b[0;34m(\u001b[0m\u001b[0;34m)\u001b[0m\u001b[0;34m\u001b[0m\u001b[0;34m\u001b[0m\u001b[0m\n\u001b[0m\u001b[1;32m      7\u001b[0m         \u001b[0mtime\u001b[0m\u001b[0;34m.\u001b[0m\u001b[0msleep\u001b[0m\u001b[0;34m(\u001b[0m\u001b[0;36m1\u001b[0m\u001b[0;34m)\u001b[0m\u001b[0;34m\u001b[0m\u001b[0;34m\u001b[0m\u001b[0m\n\u001b[1;32m      8\u001b[0m         \u001b[0mbutton\u001b[0m \u001b[0;34m=\u001b[0m \u001b[0mdriver\u001b[0m\u001b[0;34m.\u001b[0m\u001b[0mfind_elements\u001b[0m\u001b[0;34m(\u001b[0m\u001b[0mby\u001b[0m\u001b[0;34m=\u001b[0m\u001b[0mBy\u001b[0m\u001b[0;34m.\u001b[0m\u001b[0mCSS_SELECTOR\u001b[0m\u001b[0;34m,\u001b[0m \u001b[0mvalue\u001b[0m\u001b[0;34m=\u001b[0m\u001b[0;34m\".conversation__show-more\"\u001b[0m\u001b[0;34m)\u001b[0m\u001b[0;34m\u001b[0m\u001b[0;34m\u001b[0m\u001b[0m\n",
      "\u001b[0;32m/opt/anaconda3/lib/python3.9/site-packages/selenium/webdriver/remote/webelement.py\u001b[0m in \u001b[0;36mclick\u001b[0;34m(self)\u001b[0m\n\u001b[1;32m     79\u001b[0m     \u001b[0;32mdef\u001b[0m \u001b[0mclick\u001b[0m\u001b[0;34m(\u001b[0m\u001b[0mself\u001b[0m\u001b[0;34m)\u001b[0m \u001b[0;34m->\u001b[0m \u001b[0;32mNone\u001b[0m\u001b[0;34m:\u001b[0m\u001b[0;34m\u001b[0m\u001b[0;34m\u001b[0m\u001b[0m\n\u001b[1;32m     80\u001b[0m         \u001b[0;34m\"\"\"Clicks the element.\"\"\"\u001b[0m\u001b[0;34m\u001b[0m\u001b[0;34m\u001b[0m\u001b[0m\n\u001b[0;32m---> 81\u001b[0;31m         \u001b[0mself\u001b[0m\u001b[0;34m.\u001b[0m\u001b[0m_execute\u001b[0m\u001b[0;34m(\u001b[0m\u001b[0mCommand\u001b[0m\u001b[0;34m.\u001b[0m\u001b[0mCLICK_ELEMENT\u001b[0m\u001b[0;34m)\u001b[0m\u001b[0;34m\u001b[0m\u001b[0;34m\u001b[0m\u001b[0m\n\u001b[0m\u001b[1;32m     82\u001b[0m \u001b[0;34m\u001b[0m\u001b[0m\n\u001b[1;32m     83\u001b[0m     \u001b[0;32mdef\u001b[0m \u001b[0msubmit\u001b[0m\u001b[0;34m(\u001b[0m\u001b[0mself\u001b[0m\u001b[0;34m)\u001b[0m\u001b[0;34m:\u001b[0m\u001b[0;34m\u001b[0m\u001b[0;34m\u001b[0m\u001b[0m\n",
      "\u001b[0;32m/opt/anaconda3/lib/python3.9/site-packages/selenium/webdriver/remote/webelement.py\u001b[0m in \u001b[0;36m_execute\u001b[0;34m(self, command, params)\u001b[0m\n\u001b[1;32m    708\u001b[0m             \u001b[0mparams\u001b[0m \u001b[0;34m=\u001b[0m \u001b[0;34m{\u001b[0m\u001b[0;34m}\u001b[0m\u001b[0;34m\u001b[0m\u001b[0;34m\u001b[0m\u001b[0m\n\u001b[1;32m    709\u001b[0m         \u001b[0mparams\u001b[0m\u001b[0;34m[\u001b[0m\u001b[0;34m'id'\u001b[0m\u001b[0;34m]\u001b[0m \u001b[0;34m=\u001b[0m \u001b[0mself\u001b[0m\u001b[0;34m.\u001b[0m\u001b[0m_id\u001b[0m\u001b[0;34m\u001b[0m\u001b[0;34m\u001b[0m\u001b[0m\n\u001b[0;32m--> 710\u001b[0;31m         \u001b[0;32mreturn\u001b[0m \u001b[0mself\u001b[0m\u001b[0;34m.\u001b[0m\u001b[0m_parent\u001b[0m\u001b[0;34m.\u001b[0m\u001b[0mexecute\u001b[0m\u001b[0;34m(\u001b[0m\u001b[0mcommand\u001b[0m\u001b[0;34m,\u001b[0m \u001b[0mparams\u001b[0m\u001b[0;34m)\u001b[0m\u001b[0;34m\u001b[0m\u001b[0;34m\u001b[0m\u001b[0m\n\u001b[0m\u001b[1;32m    711\u001b[0m \u001b[0;34m\u001b[0m\u001b[0m\n\u001b[1;32m    712\u001b[0m     \u001b[0;32mdef\u001b[0m \u001b[0mfind_element\u001b[0m\u001b[0;34m(\u001b[0m\u001b[0mself\u001b[0m\u001b[0;34m,\u001b[0m \u001b[0mby\u001b[0m\u001b[0;34m=\u001b[0m\u001b[0mBy\u001b[0m\u001b[0;34m.\u001b[0m\u001b[0mID\u001b[0m\u001b[0;34m,\u001b[0m \u001b[0mvalue\u001b[0m\u001b[0;34m=\u001b[0m\u001b[0;32mNone\u001b[0m\u001b[0;34m)\u001b[0m\u001b[0;34m:\u001b[0m\u001b[0;34m\u001b[0m\u001b[0;34m\u001b[0m\u001b[0m\n",
      "\u001b[0;32m/opt/anaconda3/lib/python3.9/site-packages/selenium/webdriver/remote/webdriver.py\u001b[0m in \u001b[0;36mexecute\u001b[0;34m(self, driver_command, params)\u001b[0m\n\u001b[1;32m    423\u001b[0m         \u001b[0mresponse\u001b[0m \u001b[0;34m=\u001b[0m \u001b[0mself\u001b[0m\u001b[0;34m.\u001b[0m\u001b[0mcommand_executor\u001b[0m\u001b[0;34m.\u001b[0m\u001b[0mexecute\u001b[0m\u001b[0;34m(\u001b[0m\u001b[0mdriver_command\u001b[0m\u001b[0;34m,\u001b[0m \u001b[0mparams\u001b[0m\u001b[0;34m)\u001b[0m\u001b[0;34m\u001b[0m\u001b[0;34m\u001b[0m\u001b[0m\n\u001b[1;32m    424\u001b[0m         \u001b[0;32mif\u001b[0m \u001b[0mresponse\u001b[0m\u001b[0;34m:\u001b[0m\u001b[0;34m\u001b[0m\u001b[0;34m\u001b[0m\u001b[0m\n\u001b[0;32m--> 425\u001b[0;31m             \u001b[0mself\u001b[0m\u001b[0;34m.\u001b[0m\u001b[0merror_handler\u001b[0m\u001b[0;34m.\u001b[0m\u001b[0mcheck_response\u001b[0m\u001b[0;34m(\u001b[0m\u001b[0mresponse\u001b[0m\u001b[0;34m)\u001b[0m\u001b[0;34m\u001b[0m\u001b[0;34m\u001b[0m\u001b[0m\n\u001b[0m\u001b[1;32m    426\u001b[0m             response['value'] = self._unwrap_value(\n\u001b[1;32m    427\u001b[0m                 response.get('value', None))\n",
      "\u001b[0;32m/opt/anaconda3/lib/python3.9/site-packages/selenium/webdriver/remote/errorhandler.py\u001b[0m in \u001b[0;36mcheck_response\u001b[0;34m(self, response)\u001b[0m\n\u001b[1;32m    245\u001b[0m                 \u001b[0malert_text\u001b[0m \u001b[0;34m=\u001b[0m \u001b[0mvalue\u001b[0m\u001b[0;34m[\u001b[0m\u001b[0;34m'alert'\u001b[0m\u001b[0;34m]\u001b[0m\u001b[0;34m.\u001b[0m\u001b[0mget\u001b[0m\u001b[0;34m(\u001b[0m\u001b[0;34m'text'\u001b[0m\u001b[0;34m)\u001b[0m\u001b[0;34m\u001b[0m\u001b[0;34m\u001b[0m\u001b[0m\n\u001b[1;32m    246\u001b[0m             \u001b[0;32mraise\u001b[0m \u001b[0mexception_class\u001b[0m\u001b[0;34m(\u001b[0m\u001b[0mmessage\u001b[0m\u001b[0;34m,\u001b[0m \u001b[0mscreen\u001b[0m\u001b[0;34m,\u001b[0m \u001b[0mstacktrace\u001b[0m\u001b[0;34m,\u001b[0m \u001b[0malert_text\u001b[0m\u001b[0;34m)\u001b[0m  \u001b[0;31m# type: ignore[call-arg]  # mypy is not smart enough here\u001b[0m\u001b[0;34m\u001b[0m\u001b[0;34m\u001b[0m\u001b[0m\n\u001b[0;32m--> 247\u001b[0;31m         \u001b[0;32mraise\u001b[0m \u001b[0mexception_class\u001b[0m\u001b[0;34m(\u001b[0m\u001b[0mmessage\u001b[0m\u001b[0;34m,\u001b[0m \u001b[0mscreen\u001b[0m\u001b[0;34m,\u001b[0m \u001b[0mstacktrace\u001b[0m\u001b[0;34m)\u001b[0m\u001b[0;34m\u001b[0m\u001b[0;34m\u001b[0m\u001b[0m\n\u001b[0m\u001b[1;32m    248\u001b[0m \u001b[0;34m\u001b[0m\u001b[0m\n\u001b[1;32m    249\u001b[0m     \u001b[0;32mdef\u001b[0m \u001b[0m_value_or_default\u001b[0m\u001b[0;34m(\u001b[0m\u001b[0mself\u001b[0m\u001b[0;34m,\u001b[0m \u001b[0mobj\u001b[0m\u001b[0;34m:\u001b[0m \u001b[0mMapping\u001b[0m\u001b[0;34m[\u001b[0m\u001b[0m_KT\u001b[0m\u001b[0;34m,\u001b[0m \u001b[0m_VT\u001b[0m\u001b[0;34m]\u001b[0m\u001b[0;34m,\u001b[0m \u001b[0mkey\u001b[0m\u001b[0;34m:\u001b[0m \u001b[0m_KT\u001b[0m\u001b[0;34m,\u001b[0m \u001b[0mdefault\u001b[0m\u001b[0;34m:\u001b[0m \u001b[0m_VT\u001b[0m\u001b[0;34m)\u001b[0m \u001b[0;34m->\u001b[0m \u001b[0m_VT\u001b[0m\u001b[0;34m:\u001b[0m\u001b[0;34m\u001b[0m\u001b[0;34m\u001b[0m\u001b[0m\n",
      "\u001b[0;31mStaleElementReferenceException\u001b[0m: Message: stale element reference: element is not attached to the page document\n  (Session info: headless chrome=98.0.4758.109)\nStacktrace:\n0   chromedriver                        0x0000000102cb8ee9 chromedriver + 5013225\n1   chromedriver                        0x0000000102c441d3 chromedriver + 4534739\n2   chromedriver                        0x000000010281aa68 chromedriver + 170600\n3   chromedriver                        0x000000010281d8b1 chromedriver + 182449\n4   chromedriver                        0x000000010281d6d1 chromedriver + 181969\n5   chromedriver                        0x000000010281d96c chromedriver + 182636\n6   chromedriver                        0x0000000102856324 chromedriver + 414500\n7   chromedriver                        0x0000000102853d5f chromedriver + 404831\n8   chromedriver                        0x0000000102851940 chromedriver + 395584\n9   chromedriver                        0x000000010285061c chromedriver + 390684\n10  chromedriver                        0x0000000102844359 chromedriver + 340825\n11  chromedriver                        0x000000010286c7e2 chromedriver + 505826\n12  chromedriver                        0x0000000102843bf5 chromedriver + 338933\n13  chromedriver                        0x000000010286c8ee chromedriver + 506094\n14  chromedriver                        0x000000010287f074 chromedriver + 581748\n15  chromedriver                        0x000000010286c6d3 chromedriver + 505555\n16  chromedriver                        0x000000010284276e chromedriver + 333678\n17  chromedriver                        0x0000000102843745 chromedriver + 337733\n18  chromedriver                        0x0000000102c74efe chromedriver + 4734718\n19  chromedriver                        0x0000000102c8ea19 chromedriver + 4839961\n20  chromedriver                        0x0000000102c941c8 chromedriver + 4862408\n21  chromedriver                        0x0000000102c8f3aa chromedriver + 4842410\n22  chromedriver                        0x0000000102c69a01 chromedriver + 4688385\n23  chromedriver                        0x0000000102caa538 chromedriver + 4953400\n24  chromedriver                        0x0000000102caa6c1 chromedriver + 4953793\n25  chromedriver                        0x0000000102cc0225 chromedriver + 5042725\n26  libsystem_pthread.dylib             0x00007ff80cf924f4 _pthread_start + 125\n27  libsystem_pthread.dylib             0x00007ff80cf8e00f thread_start + 15\n"
     ]
    }
   ],
   "source": [
    "df = pd.read_csv('result.csv')\n",
    "\n",
    "prep_times = []\n",
    "serves_s = []\n",
    "ingredients_s = [] \n",
    "recipes = []\n",
    "nutrients_s = []\n",
    "# review_data = []\n",
    "\n",
    "for title, url in zip(df['title'], df['dish_url']):\n",
    "    prep_time, serves, ingredients, recipe, nutrients, review_data = scrape_recipe(url, title)\n",
    "    prep_times.append(prep_time)\n",
    "    serves_s.append(serves)\n",
    "    ingredients_s.append(ingredients)\n",
    "    recipes.append(recipe)\n",
    "    nutrients_s.append(nutrients)"
   ]
  }
 ],
 "metadata": {
  "interpreter": {
   "hash": "86dba72ce755bfcab99de1af17cfe306770ace594e233a2cc90aea7b42b79bab"
  },
  "kernelspec": {
   "display_name": "Python 3.8.12 64-bit ('nn': conda)",
   "language": "python",
   "name": "python3"
  },
  "language_info": {
   "codemirror_mode": {
    "name": "ipython",
    "version": 3
   },
   "file_extension": ".py",
   "mimetype": "text/x-python",
   "name": "python",
   "nbconvert_exporter": "python",
   "pygments_lexer": "ipython3",
   "version": "3.9.7"
  },
  "orig_nbformat": 4
 },
 "nbformat": 4,
 "nbformat_minor": 2
}
