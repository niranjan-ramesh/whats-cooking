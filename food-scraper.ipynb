{
 "cells": [
  {
   "cell_type": "code",
   "execution_count": 24,
   "metadata": {},
   "outputs": [
    {
     "name": "stderr",
     "output_type": "stream",
     "text": [
      "/var/folders/lw/4hhwbl4d4q1dfpb0z8l91sr40000gn/T/ipykernel_55263/552557789.py:8: DeprecationWarning: executable_path has been deprecated, please pass in a Service object\n",
      "  driver = webdriver.Chrome(executable_path=r\"/Users/ninja/Downloads/chromedriver\", options=op)\n",
      "/var/folders/lw/4hhwbl4d4q1dfpb0z8l91sr40000gn/T/ipykernel_55263/552557789.py:11: DeprecationWarning: find_element_by_* commands are deprecated. Please use find_element() instead\n",
      "  driver.find_element_by_css_selector('.gk-aa-load-more').click()\n"
     ]
    }
   ],
   "source": [
    "import time\n",
    "from bs4 import BeautifulSoup\n",
    "from selenium import webdriver\n",
    "\n",
    "op = webdriver.ChromeOptions()\n",
    "op.add_argument('headless')\n",
    "\n",
    "driver = webdriver.Chrome(executable_path=r\"/Users/ninja/Downloads/chromedriver\", options=op)\n",
    "driver.get(\"https://www.food.com/recipe\")\n",
    "time.sleep(2)  \n",
    "driver.find_element_by_css_selector('.gk-aa-load-more').click()\n",
    "scroll_pause_time = 2 \n",
    "screen_height = driver.execute_script(\"return window.screen.height;\")   \n",
    "i = 1\n",
    "\n",
    "while True:\n",
    "    \n",
    "    driver.execute_script(\"window.scrollTo(0, {screen_height}*{i});\".format(screen_height=screen_height, i=i))  \n",
    "    i += 1\n",
    "    time.sleep(scroll_pause_time)\n",
    "    \n",
    "    scroll_height = driver.execute_script(\"return document.body.scrollHeight;\")  \n",
    "    \n",
    "    if (screen_height) * i > scroll_height:\n",
    "        break\n",
    "\n",
    "soup = BeautifulSoup(driver.page_source, \"html.parser\")\n",
    "with open(\"output1.html\", \"w\") as file:\n",
    "    file.write(str(soup))"
   ]
  }
 ],
 "metadata": {
  "interpreter": {
   "hash": "86dba72ce755bfcab99de1af17cfe306770ace594e233a2cc90aea7b42b79bab"
  },
  "kernelspec": {
   "display_name": "Python 3.8.12 64-bit ('nn': conda)",
   "language": "python",
   "name": "python3"
  },
  "language_info": {
   "codemirror_mode": {
    "name": "ipython",
    "version": 3
   },
   "file_extension": ".py",
   "mimetype": "text/x-python",
   "name": "python",
   "nbconvert_exporter": "python",
   "pygments_lexer": "ipython3",
   "version": "3.8.12"
  },
  "orig_nbformat": 4
 },
 "nbformat": 4,
 "nbformat_minor": 2
}
