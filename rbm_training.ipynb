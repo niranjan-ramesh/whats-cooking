{
  "cells": [
    {
      "cell_type": "code",
      "execution_count": 1,
      "metadata": {
        "id": "BHhUrc8vj5qs"
      },
      "outputs": [],
      "source": [
        "import pandas as pd\n",
        "import numpy as np\n",
        "import random\n",
        "\n",
        "import data_loader"
      ]
    },
    {
      "cell_type": "code",
      "execution_count": 2,
      "metadata": {
        "id": "fzW_Jhmqj5qt"
      },
      "outputs": [],
      "source": [
        "reviews, num_vis = data_loader.get_iteractions(size=12000)"
      ]
    },
    {
      "cell_type": "code",
      "execution_count": 3,
      "metadata": {
        "colab": {
          "base_uri": "https://localhost:8080/",
          "height": 206
        },
        "id": "csQY_sNlj5qu",
        "outputId": "2595554e-8688-451b-fcf2-dc4a9721d750"
      },
      "outputs": [
        {
          "data": {
            "text/html": [
              "<div>\n",
              "<style scoped>\n",
              "    .dataframe tbody tr th:only-of-type {\n",
              "        vertical-align: middle;\n",
              "    }\n",
              "\n",
              "    .dataframe tbody tr th {\n",
              "        vertical-align: top;\n",
              "    }\n",
              "\n",
              "    .dataframe thead th {\n",
              "        text-align: right;\n",
              "    }\n",
              "</style>\n",
              "<table border=\"1\" class=\"dataframe\">\n",
              "  <thead>\n",
              "    <tr style=\"text-align: right;\">\n",
              "      <th></th>\n",
              "      <th>user_id</th>\n",
              "      <th>recipe_id</th>\n",
              "      <th>date</th>\n",
              "      <th>rating</th>\n",
              "      <th>review</th>\n",
              "    </tr>\n",
              "  </thead>\n",
              "  <tbody>\n",
              "    <tr>\n",
              "      <th>730397</th>\n",
              "      <td>1533</td>\n",
              "      <td>46877</td>\n",
              "      <td>2005-01-05</td>\n",
              "      <td>5</td>\n",
              "      <td>Uncle Bill you are amazing and so are your coo...</td>\n",
              "    </tr>\n",
              "    <tr>\n",
              "      <th>435538</th>\n",
              "      <td>1533</td>\n",
              "      <td>14777</td>\n",
              "      <td>2002-07-25</td>\n",
              "      <td>5</td>\n",
              "      <td>Well Bergy these were WONDERFUL, my husband an...</td>\n",
              "    </tr>\n",
              "    <tr>\n",
              "      <th>712621</th>\n",
              "      <td>1533</td>\n",
              "      <td>45033</td>\n",
              "      <td>2003-09-21</td>\n",
              "      <td>5</td>\n",
              "      <td>Hi Bev, This where great, They turned out perf...</td>\n",
              "    </tr>\n",
              "    <tr>\n",
              "      <th>483437</th>\n",
              "      <td>1533</td>\n",
              "      <td>37252</td>\n",
              "      <td>2002-08-16</td>\n",
              "      <td>5</td>\n",
              "      <td>Wow what a great easy recipe, the flavor was w...</td>\n",
              "    </tr>\n",
              "    <tr>\n",
              "      <th>497013</th>\n",
              "      <td>1533</td>\n",
              "      <td>48475</td>\n",
              "      <td>2003-09-23</td>\n",
              "      <td>4</td>\n",
              "      <td>This soup was very good, I do agree it needs a...</td>\n",
              "    </tr>\n",
              "  </tbody>\n",
              "</table>\n",
              "</div>"
            ],
            "text/plain": [
              "        user_id  recipe_id        date  rating  \\\n",
              "730397     1533      46877  2005-01-05       5   \n",
              "435538     1533      14777  2002-07-25       5   \n",
              "712621     1533      45033  2003-09-21       5   \n",
              "483437     1533      37252  2002-08-16       5   \n",
              "497013     1533      48475  2003-09-23       4   \n",
              "\n",
              "                                                   review  \n",
              "730397  Uncle Bill you are amazing and so are your coo...  \n",
              "435538  Well Bergy these were WONDERFUL, my husband an...  \n",
              "712621  Hi Bev, This where great, They turned out perf...  \n",
              "483437  Wow what a great easy recipe, the flavor was w...  \n",
              "497013  This soup was very good, I do agree it needs a...  "
            ]
          },
          "execution_count": 3,
          "metadata": {},
          "output_type": "execute_result"
        }
      ],
      "source": [
        "reviews.head()"
      ]
    },
    {
      "cell_type": "code",
      "execution_count": 4,
      "metadata": {
        "id": "tQT7xI4gREK2"
      },
      "outputs": [],
      "source": [
        "train, valid, num_vis = data_loader.splitter(reviews)"
      ]
    },
    {
      "cell_type": "code",
      "execution_count": 5,
      "metadata": {
        "id": "gGA4rPRQU3tG"
      },
      "outputs": [
        {
          "data": {
            "text/html": [
              "<div>\n",
              "<style scoped>\n",
              "    .dataframe tbody tr th:only-of-type {\n",
              "        vertical-align: middle;\n",
              "    }\n",
              "\n",
              "    .dataframe tbody tr th {\n",
              "        vertical-align: top;\n",
              "    }\n",
              "\n",
              "    .dataframe thead th {\n",
              "        text-align: right;\n",
              "    }\n",
              "</style>\n",
              "<table border=\"1\" class=\"dataframe\">\n",
              "  <thead>\n",
              "    <tr style=\"text-align: right;\">\n",
              "      <th>recipe_id</th>\n",
              "      <th>62</th>\n",
              "      <th>93</th>\n",
              "      <th>142</th>\n",
              "      <th>153</th>\n",
              "      <th>167</th>\n",
              "      <th>192</th>\n",
              "      <th>198</th>\n",
              "      <th>242</th>\n",
              "      <th>246</th>\n",
              "      <th>278</th>\n",
              "      <th>...</th>\n",
              "      <th>485077</th>\n",
              "      <th>487467</th>\n",
              "      <th>491833</th>\n",
              "      <th>494369</th>\n",
              "      <th>494972</th>\n",
              "      <th>499705</th>\n",
              "      <th>500210</th>\n",
              "      <th>501151</th>\n",
              "      <th>502269</th>\n",
              "      <th>502824</th>\n",
              "    </tr>\n",
              "    <tr>\n",
              "      <th>user_id</th>\n",
              "      <th></th>\n",
              "      <th></th>\n",
              "      <th></th>\n",
              "      <th></th>\n",
              "      <th></th>\n",
              "      <th></th>\n",
              "      <th></th>\n",
              "      <th></th>\n",
              "      <th></th>\n",
              "      <th></th>\n",
              "      <th></th>\n",
              "      <th></th>\n",
              "      <th></th>\n",
              "      <th></th>\n",
              "      <th></th>\n",
              "      <th></th>\n",
              "      <th></th>\n",
              "      <th></th>\n",
              "      <th></th>\n",
              "      <th></th>\n",
              "      <th></th>\n",
              "    </tr>\n",
              "  </thead>\n",
              "  <tbody>\n",
              "    <tr>\n",
              "      <th>1533</th>\n",
              "      <td>0.0</td>\n",
              "      <td>0.0</td>\n",
              "      <td>0.0</td>\n",
              "      <td>0.0</td>\n",
              "      <td>0.0</td>\n",
              "      <td>0.0</td>\n",
              "      <td>0.0</td>\n",
              "      <td>0.0</td>\n",
              "      <td>0.0</td>\n",
              "      <td>0.0</td>\n",
              "      <td>...</td>\n",
              "      <td>0.0</td>\n",
              "      <td>0.0</td>\n",
              "      <td>0.0</td>\n",
              "      <td>0.0</td>\n",
              "      <td>0.0</td>\n",
              "      <td>0.0</td>\n",
              "      <td>0.0</td>\n",
              "      <td>0.0</td>\n",
              "      <td>0.0</td>\n",
              "      <td>0.0</td>\n",
              "    </tr>\n",
              "    <tr>\n",
              "      <th>1535</th>\n",
              "      <td>0.0</td>\n",
              "      <td>0.0</td>\n",
              "      <td>0.0</td>\n",
              "      <td>0.0</td>\n",
              "      <td>0.0</td>\n",
              "      <td>0.0</td>\n",
              "      <td>0.0</td>\n",
              "      <td>0.0</td>\n",
              "      <td>0.0</td>\n",
              "      <td>0.0</td>\n",
              "      <td>...</td>\n",
              "      <td>0.0</td>\n",
              "      <td>0.0</td>\n",
              "      <td>0.0</td>\n",
              "      <td>0.0</td>\n",
              "      <td>0.0</td>\n",
              "      <td>0.0</td>\n",
              "      <td>0.0</td>\n",
              "      <td>0.0</td>\n",
              "      <td>0.0</td>\n",
              "      <td>0.0</td>\n",
              "    </tr>\n",
              "    <tr>\n",
              "      <th>1634</th>\n",
              "      <td>0.0</td>\n",
              "      <td>0.0</td>\n",
              "      <td>0.0</td>\n",
              "      <td>0.0</td>\n",
              "      <td>0.0</td>\n",
              "      <td>0.0</td>\n",
              "      <td>0.0</td>\n",
              "      <td>0.0</td>\n",
              "      <td>0.0</td>\n",
              "      <td>0.0</td>\n",
              "      <td>...</td>\n",
              "      <td>0.0</td>\n",
              "      <td>0.0</td>\n",
              "      <td>0.0</td>\n",
              "      <td>0.0</td>\n",
              "      <td>0.0</td>\n",
              "      <td>0.0</td>\n",
              "      <td>0.0</td>\n",
              "      <td>0.0</td>\n",
              "      <td>0.0</td>\n",
              "      <td>0.0</td>\n",
              "    </tr>\n",
              "    <tr>\n",
              "      <th>1676</th>\n",
              "      <td>0.0</td>\n",
              "      <td>0.0</td>\n",
              "      <td>0.0</td>\n",
              "      <td>0.0</td>\n",
              "      <td>0.0</td>\n",
              "      <td>0.0</td>\n",
              "      <td>0.0</td>\n",
              "      <td>0.0</td>\n",
              "      <td>0.0</td>\n",
              "      <td>0.0</td>\n",
              "      <td>...</td>\n",
              "      <td>0.0</td>\n",
              "      <td>0.0</td>\n",
              "      <td>0.0</td>\n",
              "      <td>0.0</td>\n",
              "      <td>0.0</td>\n",
              "      <td>0.0</td>\n",
              "      <td>0.0</td>\n",
              "      <td>0.0</td>\n",
              "      <td>0.0</td>\n",
              "      <td>0.0</td>\n",
              "    </tr>\n",
              "    <tr>\n",
              "      <th>1773</th>\n",
              "      <td>0.0</td>\n",
              "      <td>0.0</td>\n",
              "      <td>0.0</td>\n",
              "      <td>0.0</td>\n",
              "      <td>0.0</td>\n",
              "      <td>0.0</td>\n",
              "      <td>0.0</td>\n",
              "      <td>0.0</td>\n",
              "      <td>0.0</td>\n",
              "      <td>0.0</td>\n",
              "      <td>...</td>\n",
              "      <td>0.0</td>\n",
              "      <td>0.0</td>\n",
              "      <td>0.0</td>\n",
              "      <td>0.0</td>\n",
              "      <td>0.0</td>\n",
              "      <td>0.0</td>\n",
              "      <td>0.0</td>\n",
              "      <td>0.0</td>\n",
              "      <td>0.0</td>\n",
              "      <td>0.0</td>\n",
              "    </tr>\n",
              "  </tbody>\n",
              "</table>\n",
              "<p>5 rows × 6869 columns</p>\n",
              "</div>"
            ],
            "text/plain": [
              "recipe_id  62      93      142     153     167     192     198     242     \\\n",
              "user_id                                                                     \n",
              "1533          0.0     0.0     0.0     0.0     0.0     0.0     0.0     0.0   \n",
              "1535          0.0     0.0     0.0     0.0     0.0     0.0     0.0     0.0   \n",
              "1634          0.0     0.0     0.0     0.0     0.0     0.0     0.0     0.0   \n",
              "1676          0.0     0.0     0.0     0.0     0.0     0.0     0.0     0.0   \n",
              "1773          0.0     0.0     0.0     0.0     0.0     0.0     0.0     0.0   \n",
              "\n",
              "recipe_id  246     278     ...  485077  487467  491833  494369  494972  \\\n",
              "user_id                    ...                                           \n",
              "1533          0.0     0.0  ...     0.0     0.0     0.0     0.0     0.0   \n",
              "1535          0.0     0.0  ...     0.0     0.0     0.0     0.0     0.0   \n",
              "1634          0.0     0.0  ...     0.0     0.0     0.0     0.0     0.0   \n",
              "1676          0.0     0.0  ...     0.0     0.0     0.0     0.0     0.0   \n",
              "1773          0.0     0.0  ...     0.0     0.0     0.0     0.0     0.0   \n",
              "\n",
              "recipe_id  499705  500210  501151  502269  502824  \n",
              "user_id                                            \n",
              "1533          0.0     0.0     0.0     0.0     0.0  \n",
              "1535          0.0     0.0     0.0     0.0     0.0  \n",
              "1634          0.0     0.0     0.0     0.0     0.0  \n",
              "1676          0.0     0.0     0.0     0.0     0.0  \n",
              "1773          0.0     0.0     0.0     0.0     0.0  \n",
              "\n",
              "[5 rows x 6869 columns]"
            ]
          },
          "execution_count": 5,
          "metadata": {},
          "output_type": "execute_result"
        }
      ],
      "source": [
        "train.head()"
      ]
    },
    {
      "cell_type": "code",
      "execution_count": 6,
      "metadata": {
        "colab": {
          "base_uri": "https://localhost:8080/"
        },
        "id": "Ivf0Ij2Gj5qv",
        "outputId": "1a250966-89bd-4a30-bfce-a9e615887156"
      },
      "outputs": [
        {
          "name": "stderr",
          "output_type": "stream",
          "text": [
            "2022-04-10 17:05:29.572157: I tensorflow/core/platform/cpu_feature_guard.cc:151] This TensorFlow binary is optimized with oneAPI Deep Neural Network Library (oneDNN) to use the following CPU instructions in performance-critical operations:  SSE4.1 SSE4.2 AVX AVX2 FMA\n",
            "To enable them in other operations, rebuild TensorFlow with the appropriate compiler flags.\n",
            "2022-04-10 17:05:29.609971: I tensorflow/stream_executor/cuda/cuda_gpu_executor.cc:939] successful NUMA node read from SysFS had negative value (-1), but there must be at least one NUMA node, so returning NUMA node zero\n",
            "2022-04-10 17:05:29.641497: I tensorflow/stream_executor/cuda/cuda_gpu_executor.cc:939] successful NUMA node read from SysFS had negative value (-1), but there must be at least one NUMA node, so returning NUMA node zero\n",
            "2022-04-10 17:05:29.642146: I tensorflow/stream_executor/cuda/cuda_gpu_executor.cc:939] successful NUMA node read from SysFS had negative value (-1), but there must be at least one NUMA node, so returning NUMA node zero\n",
            "2022-04-10 17:05:29.994965: I tensorflow/stream_executor/cuda/cuda_gpu_executor.cc:939] successful NUMA node read from SysFS had negative value (-1), but there must be at least one NUMA node, so returning NUMA node zero\n",
            "2022-04-10 17:05:29.995131: I tensorflow/stream_executor/cuda/cuda_gpu_executor.cc:939] successful NUMA node read from SysFS had negative value (-1), but there must be at least one NUMA node, so returning NUMA node zero\n",
            "2022-04-10 17:05:29.995317: I tensorflow/stream_executor/cuda/cuda_gpu_executor.cc:939] successful NUMA node read from SysFS had negative value (-1), but there must be at least one NUMA node, so returning NUMA node zero\n",
            "2022-04-10 17:05:29.995515: I tensorflow/core/common_runtime/gpu/gpu_device.cc:1525] Created device /job:localhost/replica:0/task:0/device:GPU:0 with 4949 MB memory:  -> device: 0, name: NVIDIA GeForce RTX 2080, pci bus id: 0000:01:00.0, compute capability: 7.5\n"
          ]
        },
        {
          "data": {
            "image/png": "[encoded data removed]",
            "text/plain": [
              "<Figure size 432x288 with 1 Axes>"
            ]
          },
          "metadata": {
            "needs_background": "light"
          },
          "output_type": "display_data"
        }
      ],
      "source": [
        "from rbm import RBM\n",
        "model = RBM(128, num_vis)\n",
        "model.fit(train, valid, 0.001, 20, 8)\n"
      ]
    },
    {
      "cell_type": "code",
      "execution_count": 7,
      "metadata": {},
      "outputs": [
        {
          "name": "stderr",
          "output_type": "stream",
          "text": [
            "2022-04-10 17:06:26.360721: I tensorflow/stream_executor/cuda/cuda_gpu_executor.cc:939] successful NUMA node read from SysFS had negative value (-1), but there must be at least one NUMA node, so returning NUMA node zero\n",
            "2022-04-10 17:06:26.361002: I tensorflow/stream_executor/cuda/cuda_gpu_executor.cc:939] successful NUMA node read from SysFS had negative value (-1), but there must be at least one NUMA node, so returning NUMA node zero\n",
            "2022-04-10 17:06:26.361194: I tensorflow/stream_executor/cuda/cuda_gpu_executor.cc:939] successful NUMA node read from SysFS had negative value (-1), but there must be at least one NUMA node, so returning NUMA node zero\n",
            "2022-04-10 17:06:26.361442: I tensorflow/stream_executor/cuda/cuda_gpu_executor.cc:939] successful NUMA node read from SysFS had negative value (-1), but there must be at least one NUMA node, so returning NUMA node zero\n",
            "2022-04-10 17:06:26.361649: I tensorflow/stream_executor/cuda/cuda_gpu_executor.cc:939] successful NUMA node read from SysFS had negative value (-1), but there must be at least one NUMA node, so returning NUMA node zero\n",
            "2022-04-10 17:06:26.361796: I tensorflow/core/common_runtime/gpu/gpu_device.cc:1525] Created device /job:localhost/replica:0/task:0/device:GPU:0 with 4949 MB memory:  -> device: 0, name: NVIDIA GeForce RTX 2080, pci bus id: 0000:01:00.0, compute capability: 7.5\n"
          ]
        }
      ],
      "source": [
        "model.write_recc_files()"
      ]
    },
    {
      "cell_type": "markdown",
      "metadata": {},
      "source": [
        "### Predict reccomendations for all users"
      ]
    },
    {
      "cell_type": "code",
      "execution_count": 8,
      "metadata": {},
      "outputs": [
        {
          "name": "stderr",
          "output_type": "stream",
          "text": [
            "2022-04-10 17:06:28.201013: I tensorflow/stream_executor/cuda/cuda_gpu_executor.cc:939] successful NUMA node read from SysFS had negative value (-1), but there must be at least one NUMA node, so returning NUMA node zero\n",
            "2022-04-10 17:06:28.201197: I tensorflow/stream_executor/cuda/cuda_gpu_executor.cc:939] successful NUMA node read from SysFS had negative value (-1), but there must be at least one NUMA node, so returning NUMA node zero\n",
            "2022-04-10 17:06:28.201305: I tensorflow/stream_executor/cuda/cuda_gpu_executor.cc:939] successful NUMA node read from SysFS had negative value (-1), but there must be at least one NUMA node, so returning NUMA node zero\n",
            "2022-04-10 17:06:28.201452: I tensorflow/stream_executor/cuda/cuda_gpu_executor.cc:939] successful NUMA node read from SysFS had negative value (-1), but there must be at least one NUMA node, so returning NUMA node zero\n",
            "2022-04-10 17:06:28.201567: I tensorflow/stream_executor/cuda/cuda_gpu_executor.cc:939] successful NUMA node read from SysFS had negative value (-1), but there must be at least one NUMA node, so returning NUMA node zero\n",
            "2022-04-10 17:06:28.201646: I tensorflow/core/common_runtime/gpu/gpu_device.cc:1525] Created device /job:localhost/replica:0/task:0/device:GPU:0 with 4949 MB memory:  -> device: 0, name: NVIDIA GeForce RTX 2080, pci bus id: 0000:01:00.0, compute capability: 7.5\n"
          ]
        }
      ],
      "source": [
        "data = reviews.pivot(index='user_id', values='rating', columns='recipe_id').fillna(0)\n",
        "recipe_ids = data.columns\n",
        "user_ids = data.index\n",
        "values = data.values\n",
        "preds = model.predict(values)\n",
        "recs = []\n",
        "pred_scores = pd.DataFrame(preds, columns=recipe_ids, index=user_ids).T\n",
        "for user_id in user_ids:\n",
        "    user_pred = pred_scores[[user_id]].sort_values(user_id, ascending=False)\n",
        "    recipes_rec = user_pred.index[:10]\n",
        "    recs.append(recipes_rec)\n",
        "reccomendations = pd.DataFrame(recs, columns=range(1, 11))\n",
        "reccomendations['user_id'] = user_ids\n"
      ]
    },
    {
      "cell_type": "markdown",
      "metadata": {},
      "source": [
        "#### We now choose a sample user. Note that this user must be changed according to the data used."
      ]
    },
    {
      "cell_type": "code",
      "execution_count": 130,
      "metadata": {},
      "outputs": [],
      "source": [
        "recipes = pd.read_csv('recipes_enriched.csv')\n",
        "reviews = pd.read_csv('Data/user_interactions.csv')"
      ]
    },
    {
      "cell_type": "code",
      "execution_count": 46,
      "metadata": {},
      "outputs": [
        {
          "data": {
            "text/html": [
              "<div>\n",
              "<style scoped>\n",
              "    .dataframe tbody tr th:only-of-type {\n",
              "        vertical-align: middle;\n",
              "    }\n",
              "\n",
              "    .dataframe tbody tr th {\n",
              "        vertical-align: top;\n",
              "    }\n",
              "\n",
              "    .dataframe thead th {\n",
              "        text-align: right;\n",
              "    }\n",
              "</style>\n",
              "<table border=\"1\" class=\"dataframe\">\n",
              "  <thead>\n",
              "    <tr style=\"text-align: right;\">\n",
              "      <th></th>\n",
              "      <th>user_id</th>\n",
              "      <th>size</th>\n",
              "    </tr>\n",
              "  </thead>\n",
              "  <tbody>\n",
              "    <tr>\n",
              "      <th>1772</th>\n",
              "      <td>53932</td>\n",
              "      <td>102</td>\n",
              "    </tr>\n",
              "    <tr>\n",
              "      <th>130</th>\n",
              "      <td>9869</td>\n",
              "      <td>101</td>\n",
              "    </tr>\n",
              "    <tr>\n",
              "      <th>1063</th>\n",
              "      <td>37779</td>\n",
              "      <td>96</td>\n",
              "    </tr>\n",
              "    <tr>\n",
              "      <th>313</th>\n",
              "      <td>17803</td>\n",
              "      <td>90</td>\n",
              "    </tr>\n",
              "    <tr>\n",
              "      <th>207</th>\n",
              "      <td>13483</td>\n",
              "      <td>85</td>\n",
              "    </tr>\n",
              "    <tr>\n",
              "      <th>1612</th>\n",
              "      <td>50969</td>\n",
              "      <td>83</td>\n",
              "    </tr>\n",
              "    <tr>\n",
              "      <th>1703</th>\n",
              "      <td>52543</td>\n",
              "      <td>83</td>\n",
              "    </tr>\n",
              "    <tr>\n",
              "      <th>734</th>\n",
              "      <td>29782</td>\n",
              "      <td>82</td>\n",
              "    </tr>\n",
              "    <tr>\n",
              "      <th>1483</th>\n",
              "      <td>47892</td>\n",
              "      <td>82</td>\n",
              "    </tr>\n",
              "    <tr>\n",
              "      <th>1534</th>\n",
              "      <td>49304</td>\n",
              "      <td>82</td>\n",
              "    </tr>\n",
              "  </tbody>\n",
              "</table>\n",
              "</div>"
            ],
            "text/plain": [
              "      user_id  size\n",
              "1772    53932   102\n",
              "130      9869   101\n",
              "1063    37779    96\n",
              "313     17803    90\n",
              "207     13483    85\n",
              "1612    50969    83\n",
              "1703    52543    83\n",
              "734     29782    82\n",
              "1483    47892    82\n",
              "1534    49304    82"
            ]
          },
          "execution_count": 46,
          "metadata": {},
          "output_type": "execute_result"
        }
      ],
      "source": [
        "reviews[['user_id', 'rating']].groupby('user_id', as_index=False).size().sort_values('size', ascending=False).iloc[5:15]"
      ]
    },
    {
      "cell_type": "code",
      "execution_count": 131,
      "metadata": {},
      "outputs": [
        {
          "data": {
            "text/plain": [
              "array([ 49597,  77427, 274989, 254738, 263125, 113381,  84821, 123425,\n",
              "        57059,  47913,  53932])"
            ]
          },
          "execution_count": 131,
          "metadata": {},
          "output_type": "execute_result"
        }
      ],
      "source": [
        "sample_user = 53932 # Change according to the data used\n",
        "\n",
        "# Sample user must be set by uncommenting previous line before executing this.\n",
        "reccomendations[reccomendations['user_id'] == sample_user].values[0]"
      ]
    },
    {
      "cell_type": "markdown",
      "metadata": {},
      "source": [
        "#### The reccomender has given new values that haven't been seen by the user yet"
      ]
    },
    {
      "cell_type": "code",
      "execution_count": 132,
      "metadata": {},
      "outputs": [
        {
          "data": {
            "text/html": [
              "<div>\n",
              "<style scoped>\n",
              "    .dataframe tbody tr th:only-of-type {\n",
              "        vertical-align: middle;\n",
              "    }\n",
              "\n",
              "    .dataframe tbody tr th {\n",
              "        vertical-align: top;\n",
              "    }\n",
              "\n",
              "    .dataframe thead th {\n",
              "        text-align: right;\n",
              "    }\n",
              "</style>\n",
              "<table border=\"1\" class=\"dataframe\">\n",
              "  <thead>\n",
              "    <tr style=\"text-align: right;\">\n",
              "      <th></th>\n",
              "      <th>user_id</th>\n",
              "      <th>recipe_id</th>\n",
              "      <th>date</th>\n",
              "      <th>rating</th>\n",
              "      <th>review</th>\n",
              "    </tr>\n",
              "  </thead>\n",
              "  <tbody>\n",
              "  </tbody>\n",
              "</table>\n",
              "</div>"
            ],
            "text/plain": [
              "Empty DataFrame\n",
              "Columns: [user_id, recipe_id, date, rating, review]\n",
              "Index: []"
            ]
          },
          "execution_count": 132,
          "metadata": {},
          "output_type": "execute_result"
        }
      ],
      "source": [
        "dishes = reccomendations[reccomendations['user_id'] == sample_user].values[0]\n",
        "t = reviews[reviews['user_id'] == sample_user]\n",
        "t[t['recipe_id'].isin(dishes) ]"
      ]
    },
    {
      "cell_type": "code",
      "execution_count": 133,
      "metadata": {},
      "outputs": [],
      "source": [
        "import os\n",
        "recipes_path = os.getcwd() + '/recipes_enriched.csv'\n",
        "recipes = pd.read_csv(recipes_path)"
      ]
    },
    {
      "cell_type": "code",
      "execution_count": 134,
      "metadata": {},
      "outputs": [],
      "source": [
        "left =  reviews[reviews['user_id'] == sample_user][['user_id', 'recipe_id']]\n",
        "right = recipes[['id', 'cuisine']]"
      ]
    },
    {
      "cell_type": "code",
      "execution_count": 135,
      "metadata": {},
      "outputs": [],
      "source": [
        "\n",
        "df = left.merge(right, left_on='recipe_id', right_on='id').groupby('cuisine', as_index=False).size().iloc[:10]"
      ]
    },
    {
      "cell_type": "code",
      "execution_count": 136,
      "metadata": {},
      "outputs": [
        {
          "data": {
            "text/html": [
              "<div>\n",
              "<style scoped>\n",
              "    .dataframe tbody tr th:only-of-type {\n",
              "        vertical-align: middle;\n",
              "    }\n",
              "\n",
              "    .dataframe tbody tr th {\n",
              "        vertical-align: top;\n",
              "    }\n",
              "\n",
              "    .dataframe thead th {\n",
              "        text-align: right;\n",
              "    }\n",
              "</style>\n",
              "<table border=\"1\" class=\"dataframe\">\n",
              "  <thead>\n",
              "    <tr style=\"text-align: right;\">\n",
              "      <th></th>\n",
              "      <th>cuisine</th>\n",
              "      <th>size</th>\n",
              "    </tr>\n",
              "  </thead>\n",
              "  <tbody>\n",
              "    <tr>\n",
              "      <th>0</th>\n",
              "      <td>brazilian</td>\n",
              "      <td>3</td>\n",
              "    </tr>\n",
              "    <tr>\n",
              "      <th>1</th>\n",
              "      <td>british</td>\n",
              "      <td>28</td>\n",
              "    </tr>\n",
              "    <tr>\n",
              "      <th>2</th>\n",
              "      <td>cajun_creole</td>\n",
              "      <td>75</td>\n",
              "    </tr>\n",
              "    <tr>\n",
              "      <th>3</th>\n",
              "      <td>chinese</td>\n",
              "      <td>22</td>\n",
              "    </tr>\n",
              "    <tr>\n",
              "      <th>4</th>\n",
              "      <td>filipino</td>\n",
              "      <td>12</td>\n",
              "    </tr>\n",
              "    <tr>\n",
              "      <th>5</th>\n",
              "      <td>french</td>\n",
              "      <td>96</td>\n",
              "    </tr>\n",
              "    <tr>\n",
              "      <th>6</th>\n",
              "      <td>greek</td>\n",
              "      <td>73</td>\n",
              "    </tr>\n",
              "    <tr>\n",
              "      <th>7</th>\n",
              "      <td>indian</td>\n",
              "      <td>19</td>\n",
              "    </tr>\n",
              "    <tr>\n",
              "      <th>8</th>\n",
              "      <td>irish</td>\n",
              "      <td>31</td>\n",
              "    </tr>\n",
              "    <tr>\n",
              "      <th>9</th>\n",
              "      <td>italian</td>\n",
              "      <td>458</td>\n",
              "    </tr>\n",
              "  </tbody>\n",
              "</table>\n",
              "</div>"
            ],
            "text/plain": [
              "        cuisine  size\n",
              "0     brazilian     3\n",
              "1       british    28\n",
              "2  cajun_creole    75\n",
              "3       chinese    22\n",
              "4      filipino    12\n",
              "5        french    96\n",
              "6         greek    73\n",
              "7        indian    19\n",
              "8         irish    31\n",
              "9       italian   458"
            ]
          },
          "execution_count": 136,
          "metadata": {},
          "output_type": "execute_result"
        }
      ],
      "source": [
        "df"
      ]
    },
    {
      "cell_type": "code",
      "execution_count": 137,
      "metadata": {},
      "outputs": [],
      "source": [
        "from mycolorpy import colorlist as mcp\n",
        "color2=mcp.gen_color(cmap=\"hsv\",n=len(df))"
      ]
    },
    {
      "cell_type": "code",
      "execution_count": 138,
      "metadata": {},
      "outputs": [
        {
          "data": {
            "text/plain": [
              "array([  1.5,  14. ,  37.5,  11. ,   6. ,  48. ,  36.5,   9.5,  15.5,\n",
              "       229. ])"
            ]
          },
          "execution_count": 138,
          "metadata": {},
          "output_type": "execute_result"
        }
      ],
      "source": [
        "df['size'].values/2"
      ]
    },
    {
      "cell_type": "code",
      "execution_count": 139,
      "metadata": {},
      "outputs": [
        {
          "name": "stdout",
          "output_type": "stream",
          "text": [
            "        cuisine  size\n",
            "0     brazilian     3\n",
            "1       british    28\n",
            "2  cajun_creole    75\n",
            "3       chinese    22\n",
            "4      filipino    12\n",
            "5        french    96\n",
            "6         greek    73\n",
            "7        indian    19\n",
            "8         irish    31\n",
            "9       italian   458\n"
          ]
        },
        {
          "data": {
            "image/png": "[encoded data removed]",
            "text/plain": [
              "<Figure size 720x720 with 1 Axes>"
            ]
          },
          "metadata": {
            "needs_background": "light"
          },
          "output_type": "display_data"
        }
      ],
      "source": [
        "print(df)\n",
        "import circlify\n",
        "circles = circlify.circlify(\n",
        "    df['size'].tolist(), \n",
        "    show_enclosure=False, \n",
        "    target_enclosure=circlify.Circle(x=0, y=0, r=1)\n",
        ")\n",
        "# import libraries\n",
        "import circlify\n",
        "import matplotlib.pyplot as plt\n",
        "\n",
        "# Create just a figure and only one subplot\n",
        "fig, ax = plt.subplots(figsize=(10,10))\n",
        "\n",
        "# Title\n",
        "ax.set_title('Favourite cuisines')\n",
        "\n",
        "# Remove axes\n",
        "ax.axis('off')\n",
        "\n",
        "# Find axis boundaries\n",
        "lim = max(\n",
        "    max(\n",
        "        abs(circle.x) + circle.r,\n",
        "        abs(circle.y) + circle.r,\n",
        "    )\n",
        "    for circle in circles\n",
        ")\n",
        "plt.xlim(-lim, lim)\n",
        "plt.ylim(-lim, lim)\n",
        "\n",
        "# list of labels\n",
        "labels = df['cuisine']\n",
        "colors = color2\n",
        "\n",
        "# print circles\n",
        "for circle, label, color in zip(circles, labels, colors):\n",
        "    x, y, r = circle\n",
        "    ax.add_patch(plt.Circle((x, y), r, alpha=0.2, linewidth=2,facecolor=color, edgecolor=\"black\"))\n",
        "    plt.annotate(\n",
        "          label, \n",
        "          (x,y ) ,\n",
        "          va='center',\n",
        "          ha='center'\n",
        "     )"
      ]
    },
    {
      "cell_type": "markdown",
      "metadata": {},
      "source": [
        "#### The user's preference to Italian and Irish food is seen. On comparing with the recipes data set, we see that the reccomended dishes are based on the user's previous preference influenced by others with an incliniation towards Italian and Irish to see new dishes."
      ]
    },
    {
      "cell_type": "code",
      "execution_count": 141,
      "metadata": {},
      "outputs": [
        {
          "data": {
            "text/plain": [
              "51839         italian\n",
              "61177     southern_us\n",
              "66310          french\n",
              "80768          french\n",
              "84420        moroccan\n",
              "97052           greek\n",
              "112970    southern_us\n",
              "121051          irish\n",
              "141544        italian\n",
              "184835          irish\n",
              "186301        italian\n",
              "Name: cuisine, dtype: object"
            ]
          },
          "execution_count": 141,
          "metadata": {},
          "output_type": "execute_result"
        }
      ],
      "source": [
        "recipes[recipes['id'].isin(reccomendations[reccomendations['user_id'] == sample_user].values[0])]['cuisine']"
      ]
    }
  ],
  "metadata": {
    "colab": {
      "collapsed_sections": [],
      "name": "rbm_training.ipynb",
      "provenance": []
    },
    "interpreter": {
      "hash": "b0fa6594d8f4cbf19f97940f81e996739fb7646882a419484c72d19e05852a7e"
    },
    "kernelspec": {
      "display_name": "py-gt",
      "language": "python",
      "name": "py-gt"
    },
    "language_info": {
      "codemirror_mode": {
        "name": "ipython",
        "version": 3
      },
      "file_extension": ".py",
      "mimetype": "text/x-python",
      "name": "python",
      "nbconvert_exporter": "python",
      "pygments_lexer": "ipython3",
      "version": "3.9.10"
    }
  },
  "nbformat": 4,
  "nbformat_minor": 0
}
