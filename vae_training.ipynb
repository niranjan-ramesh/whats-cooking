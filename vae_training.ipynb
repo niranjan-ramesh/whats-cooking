{
  "cells": [
    {
      "cell_type": "code",
      "execution_count": 1,
      "metadata": {
        "id": "BHhUrc8vj5qs"
      },
      "outputs": [],
      "source": [
        "import pandas as pd\n",
        "import numpy as np\n",
        "import random\n",
        "\n",
        "import data_loader\n"
      ]
    },
    {
      "cell_type": "code",
      "execution_count": 2,
      "metadata": {
        "colab": {
          "base_uri": "https://localhost:8080/",
          "height": 206
        },
        "id": "csQY_sNlj5qu",
        "outputId": "f2fc8d05-607d-4520-cfa1-ef9b80ad310b"
      },
      "outputs": [],
      "source": [
        "reviews, num_vis = data_loader.get_iteractions(size=10000)"
      ]
    },
    {
      "cell_type": "code",
      "execution_count": 3,
      "metadata": {},
      "outputs": [
        {
          "data": {
            "text/html": [
              "<div>\n",
              "<style scoped>\n",
              "    .dataframe tbody tr th:only-of-type {\n",
              "        vertical-align: middle;\n",
              "    }\n",
              "\n",
              "    .dataframe tbody tr th {\n",
              "        vertical-align: top;\n",
              "    }\n",
              "\n",
              "    .dataframe thead th {\n",
              "        text-align: right;\n",
              "    }\n",
              "</style>\n",
              "<table border=\"1\" class=\"dataframe\">\n",
              "  <thead>\n",
              "    <tr style=\"text-align: right;\">\n",
              "      <th></th>\n",
              "      <th>user_id</th>\n",
              "      <th>recipe_id</th>\n",
              "      <th>date</th>\n",
              "      <th>rating</th>\n",
              "      <th>review</th>\n",
              "    </tr>\n",
              "  </thead>\n",
              "  <tbody>\n",
              "    <tr>\n",
              "      <th>649530</th>\n",
              "      <td>1533</td>\n",
              "      <td>10554</td>\n",
              "      <td>2002-11-14</td>\n",
              "      <td>5</td>\n",
              "      <td>This was wonderful Bergy, I served it baked ha...</td>\n",
              "    </tr>\n",
              "    <tr>\n",
              "      <th>49583</th>\n",
              "      <td>1533</td>\n",
              "      <td>96621</td>\n",
              "      <td>2005-05-25</td>\n",
              "      <td>5</td>\n",
              "      <td>This was wonderful, Very easy to put together....</td>\n",
              "    </tr>\n",
              "    <tr>\n",
              "      <th>814966</th>\n",
              "      <td>1533</td>\n",
              "      <td>38624</td>\n",
              "      <td>2002-08-29</td>\n",
              "      <td>5</td>\n",
              "      <td>This was wonderful, the flavors were great and...</td>\n",
              "    </tr>\n",
              "    <tr>\n",
              "      <th>591282</th>\n",
              "      <td>1533</td>\n",
              "      <td>11914</td>\n",
              "      <td>2003-09-21</td>\n",
              "      <td>5</td>\n",
              "      <td>OH Bergy, these were great, I never changed a ...</td>\n",
              "    </tr>\n",
              "    <tr>\n",
              "      <th>124554</th>\n",
              "      <td>1533</td>\n",
              "      <td>25548</td>\n",
              "      <td>2002-07-01</td>\n",
              "      <td>5</td>\n",
              "      <td>This was wonderful, great flavour and easy to ...</td>\n",
              "    </tr>\n",
              "  </tbody>\n",
              "</table>\n",
              "</div>"
            ],
            "text/plain": [
              "        user_id  recipe_id        date  rating  \\\n",
              "649530     1533      10554  2002-11-14       5   \n",
              "49583      1533      96621  2005-05-25       5   \n",
              "814966     1533      38624  2002-08-29       5   \n",
              "591282     1533      11914  2003-09-21       5   \n",
              "124554     1533      25548  2002-07-01       5   \n",
              "\n",
              "                                                   review  \n",
              "649530  This was wonderful Bergy, I served it baked ha...  \n",
              "49583   This was wonderful, Very easy to put together....  \n",
              "814966  This was wonderful, the flavors were great and...  \n",
              "591282  OH Bergy, these were great, I never changed a ...  \n",
              "124554  This was wonderful, great flavour and easy to ...  "
            ]
          },
          "execution_count": 3,
          "metadata": {},
          "output_type": "execute_result"
        }
      ],
      "source": [
        "reviews.head()"
      ]
    },
    {
      "cell_type": "code",
      "execution_count": 4,
      "metadata": {},
      "outputs": [],
      "source": [
        "train, valid, num_vis = data_loader.splitter(reviews)"
      ]
    },
    {
      "cell_type": "code",
      "execution_count": 5,
      "metadata": {},
      "outputs": [
        {
          "data": {
            "text/html": [
              "<div>\n",
              "<style scoped>\n",
              "    .dataframe tbody tr th:only-of-type {\n",
              "        vertical-align: middle;\n",
              "    }\n",
              "\n",
              "    .dataframe tbody tr th {\n",
              "        vertical-align: top;\n",
              "    }\n",
              "\n",
              "    .dataframe thead th {\n",
              "        text-align: right;\n",
              "    }\n",
              "</style>\n",
              "<table border=\"1\" class=\"dataframe\">\n",
              "  <thead>\n",
              "    <tr style=\"text-align: right;\">\n",
              "      <th>recipe_id</th>\n",
              "      <th>62</th>\n",
              "      <th>93</th>\n",
              "      <th>153</th>\n",
              "      <th>167</th>\n",
              "      <th>198</th>\n",
              "      <th>210</th>\n",
              "      <th>246</th>\n",
              "      <th>271</th>\n",
              "      <th>278</th>\n",
              "      <th>346</th>\n",
              "      <th>...</th>\n",
              "      <th>491771</th>\n",
              "      <th>492531</th>\n",
              "      <th>494972</th>\n",
              "      <th>501294</th>\n",
              "      <th>502269</th>\n",
              "      <th>502824</th>\n",
              "      <th>503657</th>\n",
              "      <th>504850</th>\n",
              "      <th>513746</th>\n",
              "      <th>515167</th>\n",
              "    </tr>\n",
              "    <tr>\n",
              "      <th>user_id</th>\n",
              "      <th></th>\n",
              "      <th></th>\n",
              "      <th></th>\n",
              "      <th></th>\n",
              "      <th></th>\n",
              "      <th></th>\n",
              "      <th></th>\n",
              "      <th></th>\n",
              "      <th></th>\n",
              "      <th></th>\n",
              "      <th></th>\n",
              "      <th></th>\n",
              "      <th></th>\n",
              "      <th></th>\n",
              "      <th></th>\n",
              "      <th></th>\n",
              "      <th></th>\n",
              "      <th></th>\n",
              "      <th></th>\n",
              "      <th></th>\n",
              "      <th></th>\n",
              "    </tr>\n",
              "  </thead>\n",
              "  <tbody>\n",
              "    <tr>\n",
              "      <th>1533</th>\n",
              "      <td>0.0</td>\n",
              "      <td>0.0</td>\n",
              "      <td>0.0</td>\n",
              "      <td>0.0</td>\n",
              "      <td>0.0</td>\n",
              "      <td>0.0</td>\n",
              "      <td>0.0</td>\n",
              "      <td>0.0</td>\n",
              "      <td>0.0</td>\n",
              "      <td>0.0</td>\n",
              "      <td>...</td>\n",
              "      <td>0.0</td>\n",
              "      <td>0.0</td>\n",
              "      <td>0.0</td>\n",
              "      <td>0.0</td>\n",
              "      <td>0.0</td>\n",
              "      <td>0.0</td>\n",
              "      <td>0.0</td>\n",
              "      <td>0.0</td>\n",
              "      <td>0.0</td>\n",
              "      <td>0.0</td>\n",
              "    </tr>\n",
              "    <tr>\n",
              "      <th>1535</th>\n",
              "      <td>0.0</td>\n",
              "      <td>0.0</td>\n",
              "      <td>0.0</td>\n",
              "      <td>0.0</td>\n",
              "      <td>0.0</td>\n",
              "      <td>0.0</td>\n",
              "      <td>0.0</td>\n",
              "      <td>0.0</td>\n",
              "      <td>0.0</td>\n",
              "      <td>0.0</td>\n",
              "      <td>...</td>\n",
              "      <td>0.0</td>\n",
              "      <td>0.0</td>\n",
              "      <td>0.0</td>\n",
              "      <td>0.0</td>\n",
              "      <td>0.0</td>\n",
              "      <td>0.0</td>\n",
              "      <td>0.0</td>\n",
              "      <td>0.0</td>\n",
              "      <td>0.0</td>\n",
              "      <td>0.0</td>\n",
              "    </tr>\n",
              "    <tr>\n",
              "      <th>1634</th>\n",
              "      <td>0.0</td>\n",
              "      <td>0.0</td>\n",
              "      <td>0.0</td>\n",
              "      <td>0.0</td>\n",
              "      <td>0.0</td>\n",
              "      <td>0.0</td>\n",
              "      <td>0.0</td>\n",
              "      <td>0.0</td>\n",
              "      <td>0.0</td>\n",
              "      <td>0.0</td>\n",
              "      <td>...</td>\n",
              "      <td>0.0</td>\n",
              "      <td>0.0</td>\n",
              "      <td>4.0</td>\n",
              "      <td>0.0</td>\n",
              "      <td>0.0</td>\n",
              "      <td>0.0</td>\n",
              "      <td>0.0</td>\n",
              "      <td>0.0</td>\n",
              "      <td>0.0</td>\n",
              "      <td>0.0</td>\n",
              "    </tr>\n",
              "    <tr>\n",
              "      <th>1676</th>\n",
              "      <td>0.0</td>\n",
              "      <td>0.0</td>\n",
              "      <td>0.0</td>\n",
              "      <td>0.0</td>\n",
              "      <td>0.0</td>\n",
              "      <td>0.0</td>\n",
              "      <td>0.0</td>\n",
              "      <td>0.0</td>\n",
              "      <td>0.0</td>\n",
              "      <td>0.0</td>\n",
              "      <td>...</td>\n",
              "      <td>0.0</td>\n",
              "      <td>0.0</td>\n",
              "      <td>0.0</td>\n",
              "      <td>0.0</td>\n",
              "      <td>0.0</td>\n",
              "      <td>0.0</td>\n",
              "      <td>0.0</td>\n",
              "      <td>0.0</td>\n",
              "      <td>0.0</td>\n",
              "      <td>0.0</td>\n",
              "    </tr>\n",
              "    <tr>\n",
              "      <th>1792</th>\n",
              "      <td>0.0</td>\n",
              "      <td>0.0</td>\n",
              "      <td>0.0</td>\n",
              "      <td>0.0</td>\n",
              "      <td>0.0</td>\n",
              "      <td>0.0</td>\n",
              "      <td>0.0</td>\n",
              "      <td>0.0</td>\n",
              "      <td>0.0</td>\n",
              "      <td>0.0</td>\n",
              "      <td>...</td>\n",
              "      <td>0.0</td>\n",
              "      <td>0.0</td>\n",
              "      <td>0.0</td>\n",
              "      <td>0.0</td>\n",
              "      <td>0.0</td>\n",
              "      <td>0.0</td>\n",
              "      <td>0.0</td>\n",
              "      <td>0.0</td>\n",
              "      <td>0.0</td>\n",
              "      <td>0.0</td>\n",
              "    </tr>\n",
              "  </tbody>\n",
              "</table>\n",
              "<p>5 rows × 6063 columns</p>\n",
              "</div>"
            ],
            "text/plain": [
              "recipe_id  62      93      153     167     198     210     246     271     \\\n",
              "user_id                                                                     \n",
              "1533          0.0     0.0     0.0     0.0     0.0     0.0     0.0     0.0   \n",
              "1535          0.0     0.0     0.0     0.0     0.0     0.0     0.0     0.0   \n",
              "1634          0.0     0.0     0.0     0.0     0.0     0.0     0.0     0.0   \n",
              "1676          0.0     0.0     0.0     0.0     0.0     0.0     0.0     0.0   \n",
              "1792          0.0     0.0     0.0     0.0     0.0     0.0     0.0     0.0   \n",
              "\n",
              "recipe_id  278     346     ...  491771  492531  494972  501294  502269  \\\n",
              "user_id                    ...                                           \n",
              "1533          0.0     0.0  ...     0.0     0.0     0.0     0.0     0.0   \n",
              "1535          0.0     0.0  ...     0.0     0.0     0.0     0.0     0.0   \n",
              "1634          0.0     0.0  ...     0.0     0.0     4.0     0.0     0.0   \n",
              "1676          0.0     0.0  ...     0.0     0.0     0.0     0.0     0.0   \n",
              "1792          0.0     0.0  ...     0.0     0.0     0.0     0.0     0.0   \n",
              "\n",
              "recipe_id  502824  503657  504850  513746  515167  \n",
              "user_id                                            \n",
              "1533          0.0     0.0     0.0     0.0     0.0  \n",
              "1535          0.0     0.0     0.0     0.0     0.0  \n",
              "1634          0.0     0.0     0.0     0.0     0.0  \n",
              "1676          0.0     0.0     0.0     0.0     0.0  \n",
              "1792          0.0     0.0     0.0     0.0     0.0  \n",
              "\n",
              "[5 rows x 6063 columns]"
            ]
          },
          "execution_count": 5,
          "metadata": {},
          "output_type": "execute_result"
        }
      ],
      "source": [
        "train.head()"
      ]
    },
    {
      "cell_type": "code",
      "execution_count": 6,
      "metadata": {
        "id": "Ivf0Ij2Gj5qv"
      },
      "outputs": [
        {
          "name": "stderr",
          "output_type": "stream",
          "text": [
            "2022-04-10 14:12:37.383864: I tensorflow/core/platform/cpu_feature_guard.cc:151] This TensorFlow binary is optimized with oneAPI Deep Neural Network Library (oneDNN) to use the following CPU instructions in performance-critical operations:  SSE4.1 SSE4.2 AVX AVX2 FMA\n",
            "To enable them in other operations, rebuild TensorFlow with the appropriate compiler flags.\n",
            "2022-04-10 14:12:37.425411: I tensorflow/stream_executor/cuda/cuda_gpu_executor.cc:939] successful NUMA node read from SysFS had negative value (-1), but there must be at least one NUMA node, so returning NUMA node zero\n",
            "2022-04-10 14:12:37.434821: I tensorflow/stream_executor/cuda/cuda_gpu_executor.cc:939] successful NUMA node read from SysFS had negative value (-1), but there must be at least one NUMA node, so returning NUMA node zero\n",
            "2022-04-10 14:12:37.435033: I tensorflow/stream_executor/cuda/cuda_gpu_executor.cc:939] successful NUMA node read from SysFS had negative value (-1), but there must be at least one NUMA node, so returning NUMA node zero\n",
            "2022-04-10 14:12:37.794934: I tensorflow/stream_executor/cuda/cuda_gpu_executor.cc:939] successful NUMA node read from SysFS had negative value (-1), but there must be at least one NUMA node, so returning NUMA node zero\n",
            "2022-04-10 14:12:37.795132: I tensorflow/stream_executor/cuda/cuda_gpu_executor.cc:939] successful NUMA node read from SysFS had negative value (-1), but there must be at least one NUMA node, so returning NUMA node zero\n",
            "2022-04-10 14:12:37.795312: I tensorflow/stream_executor/cuda/cuda_gpu_executor.cc:939] successful NUMA node read from SysFS had negative value (-1), but there must be at least one NUMA node, so returning NUMA node zero\n",
            "2022-04-10 14:12:37.795405: I tensorflow/core/common_runtime/gpu/gpu_device.cc:1525] Created device /job:localhost/replica:0/task:0/device:GPU:0 with 6583 MB memory:  -> device: 0, name: NVIDIA GeForce RTX 2080, pci bus id: 0000:01:00.0, compute capability: 7.5\n"
          ]
        },
        {
          "data": {
            "image/png": "[encoded data removed]",
            "text/plain": [
              "<Figure size 432x288 with 1 Axes>"
            ]
          },
          "metadata": {
            "needs_background": "light"
          },
          "output_type": "display_data"
        }
      ],
      "source": [
        "from vae import DeepAutoEncoder\n",
        "\n",
        "model = DeepAutoEncoder(num_vis=num_vis, num_hid_1=256, num_hid_2=128)\n",
        "model.fit(train, valid, 50, 8, 0.001)"
      ]
    },
    {
      "cell_type": "code",
      "execution_count": 7,
      "metadata": {},
      "outputs": [
        {
          "name": "stderr",
          "output_type": "stream",
          "text": [
            "2022-04-10 14:13:09.792427: I tensorflow/stream_executor/cuda/cuda_gpu_executor.cc:939] successful NUMA node read from SysFS had negative value (-1), but there must be at least one NUMA node, so returning NUMA node zero\n",
            "2022-04-10 14:13:09.792917: I tensorflow/stream_executor/cuda/cuda_gpu_executor.cc:939] successful NUMA node read from SysFS had negative value (-1), but there must be at least one NUMA node, so returning NUMA node zero\n",
            "2022-04-10 14:13:09.793127: I tensorflow/stream_executor/cuda/cuda_gpu_executor.cc:939] successful NUMA node read from SysFS had negative value (-1), but there must be at least one NUMA node, so returning NUMA node zero\n",
            "2022-04-10 14:13:09.793428: I tensorflow/stream_executor/cuda/cuda_gpu_executor.cc:939] successful NUMA node read from SysFS had negative value (-1), but there must be at least one NUMA node, so returning NUMA node zero\n",
            "2022-04-10 14:13:09.793623: I tensorflow/stream_executor/cuda/cuda_gpu_executor.cc:939] successful NUMA node read from SysFS had negative value (-1), but there must be at least one NUMA node, so returning NUMA node zero\n",
            "2022-04-10 14:13:09.793765: I tensorflow/core/common_runtime/gpu/gpu_device.cc:1525] Created device /job:localhost/replica:0/task:0/device:GPU:0 with 6583 MB memory:  -> device: 0, name: NVIDIA GeForce RTX 2080, pci bus id: 0000:01:00.0, compute capability: 7.5\n"
          ]
        }
      ],
      "source": [
        "model.write_recc_files()"
      ]
    },
    {
      "cell_type": "code",
      "execution_count": 8,
      "metadata": {},
      "outputs": [
        {
          "name": "stderr",
          "output_type": "stream",
          "text": [
            "2022-04-10 14:13:11.740095: I tensorflow/stream_executor/cuda/cuda_gpu_executor.cc:939] successful NUMA node read from SysFS had negative value (-1), but there must be at least one NUMA node, so returning NUMA node zero\n",
            "2022-04-10 14:13:11.740407: I tensorflow/stream_executor/cuda/cuda_gpu_executor.cc:939] successful NUMA node read from SysFS had negative value (-1), but there must be at least one NUMA node, so returning NUMA node zero\n",
            "2022-04-10 14:13:11.740591: I tensorflow/stream_executor/cuda/cuda_gpu_executor.cc:939] successful NUMA node read from SysFS had negative value (-1), but there must be at least one NUMA node, so returning NUMA node zero\n",
            "2022-04-10 14:13:11.740732: I tensorflow/stream_executor/cuda/cuda_gpu_executor.cc:939] successful NUMA node read from SysFS had negative value (-1), but there must be at least one NUMA node, so returning NUMA node zero\n",
            "2022-04-10 14:13:11.740846: I tensorflow/stream_executor/cuda/cuda_gpu_executor.cc:939] successful NUMA node read from SysFS had negative value (-1), but there must be at least one NUMA node, so returning NUMA node zero\n",
            "2022-04-10 14:13:11.741047: I tensorflow/core/common_runtime/gpu/gpu_device.cc:1525] Created device /job:localhost/replica:0/task:0/device:GPU:0 with 6583 MB memory:  -> device: 0, name: NVIDIA GeForce RTX 2080, pci bus id: 0000:01:00.0, compute capability: 7.5\n"
          ]
        }
      ],
      "source": [
        "data = reviews.pivot(index='user_id', values='rating', columns='recipe_id').fillna(0)\n",
        "recipe_ids = data.columns\n",
        "user_ids = data.index\n",
        "values = data.values\n",
        "preds = model.predict(values)\n",
        "recs = []\n",
        "pred_scores = pd.DataFrame(preds, columns=recipe_ids, index=user_ids).T\n",
        "for user_id in user_ids:\n",
        "    user_pred = pred_scores[[user_id]].sort_values(user_id, ascending=False)\n",
        "    recipes_rec = user_pred.index[:10]\n",
        "    recs.append(recipes_rec)\n",
        "reccomendations = pd.DataFrame(recs, columns=range(1, 11))\n",
        "reccomendations['user_id'] = user_ids"
      ]
    }
  ],
  "metadata": {
    "colab": {
      "collapsed_sections": [],
      "name": "vae_training.ipynb",
      "provenance": []
    },
    "interpreter": {
      "hash": "2cfbc877d07df25b77f6e6d811c40fc840d77524b56d09799e6c4be554a6df74"
    },
    "kernelspec": {
      "display_name": "py-gt",
      "language": "python",
      "name": "py-gt"
    },
    "language_info": {
      "codemirror_mode": {
        "name": "ipython",
        "version": 3
      },
      "file_extension": ".py",
      "mimetype": "text/x-python",
      "name": "python",
      "nbconvert_exporter": "python",
      "pygments_lexer": "ipython3",
      "version": "3.9.10"
    }
  },
  "nbformat": 4,
  "nbformat_minor": 0
}
